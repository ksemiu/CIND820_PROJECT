{
  "nbformat": 4,
  "nbformat_minor": 0,
  "metadata": {
    "colab": {
      "provenance": [],
      "authorship_tag": "ABX9TyM5ujMOWfOCNJj4z7ALIoSY",
      "include_colab_link": true
    },
    "kernelspec": {
      "name": "python3",
      "display_name": "Python 3"
    },
    "language_info": {
      "name": "python"
    }
  },
  "cells": [
    {
      "cell_type": "markdown",
      "metadata": {
        "id": "view-in-github",
        "colab_type": "text"
      },
      "source": [
        "<a href=\"https://colab.research.google.com/github/ksemiu/Classification-and-Trends-BEVs-and-PHEVs-in-Washington-s-Vehicle-Registry/blob/main/Final_Result.ipynb\" target=\"_parent\"><img src=\"https://colab.research.google.com/assets/colab-badge.svg\" alt=\"Open In Colab\"/></a>"
      ]
    },
    {
      "cell_type": "code",
      "execution_count": 6,
      "metadata": {
        "id": "k3pb0iTrh_x3",
        "colab": {
          "base_uri": "https://localhost:8080/"
        },
        "outputId": "10fdadc9-44b8-4e46-a6fe-449498d59538"
      },
      "outputs": [
        {
          "output_type": "stream",
          "name": "stdout",
          "text": [
            "Requirement already satisfied: shap in /usr/local/lib/python3.10/dist-packages (0.45.0)\n",
            "Requirement already satisfied: numpy in /usr/local/lib/python3.10/dist-packages (from shap) (1.25.2)\n",
            "Requirement already satisfied: scipy in /usr/local/lib/python3.10/dist-packages (from shap) (1.11.4)\n",
            "Requirement already satisfied: scikit-learn in /usr/local/lib/python3.10/dist-packages (from shap) (1.2.2)\n",
            "Requirement already satisfied: pandas in /usr/local/lib/python3.10/dist-packages (from shap) (1.5.3)\n",
            "Requirement already satisfied: tqdm>=4.27.0 in /usr/local/lib/python3.10/dist-packages (from shap) (4.66.2)\n",
            "Requirement already satisfied: packaging>20.9 in /usr/local/lib/python3.10/dist-packages (from shap) (24.0)\n",
            "Requirement already satisfied: slicer==0.0.7 in /usr/local/lib/python3.10/dist-packages (from shap) (0.0.7)\n",
            "Requirement already satisfied: numba in /usr/local/lib/python3.10/dist-packages (from shap) (0.58.1)\n",
            "Requirement already satisfied: cloudpickle in /usr/local/lib/python3.10/dist-packages (from shap) (2.2.1)\n",
            "Requirement already satisfied: llvmlite<0.42,>=0.41.0dev0 in /usr/local/lib/python3.10/dist-packages (from numba->shap) (0.41.1)\n",
            "Requirement already satisfied: python-dateutil>=2.8.1 in /usr/local/lib/python3.10/dist-packages (from pandas->shap) (2.8.2)\n",
            "Requirement already satisfied: pytz>=2020.1 in /usr/local/lib/python3.10/dist-packages (from pandas->shap) (2023.4)\n",
            "Requirement already satisfied: joblib>=1.1.1 in /usr/local/lib/python3.10/dist-packages (from scikit-learn->shap) (1.3.2)\n",
            "Requirement already satisfied: threadpoolctl>=2.0.0 in /usr/local/lib/python3.10/dist-packages (from scikit-learn->shap) (3.4.0)\n",
            "Requirement already satisfied: six>=1.5 in /usr/local/lib/python3.10/dist-packages (from python-dateutil>=2.8.1->pandas->shap) (1.16.0)\n"
          ]
        }
      ],
      "source": [
        "import numpy as np\n",
        "import pandas as pd\n",
        "import matplotlib.pyplot as plt\n",
        "import seaborn as sns\n",
        "from sklearn.model_selection import train_test_split\n",
        "from imblearn.under_sampling import NearMiss\n",
        "from collections import Counter\n",
        "from sklearn.naive_bayes import GaussianNB\n",
        "from sklearn.metrics import accuracy_score\n",
        "from sklearn.metrics import confusion_matrix\n",
        "from sklearn.metrics import roc_auc_score\n",
        "from sklearn.metrics import classification_report\n",
        "from sklearn.model_selection import cross_val_score\n",
        "from sklearn.naive_bayes import BernoulliNB\n",
        "from sklearn.naive_bayes import MultinomialNB\n",
        "from sklearn.model_selection import GridSearchCV\n",
        "from sklearn.linear_model import LogisticRegression\n",
        "from sklearn.naive_bayes import GaussianNB\n",
        "from sklearn.model_selection import train_test_split\n",
        "from sklearn.naive_bayes import GaussianNB\n",
        "from sklearn.metrics import accuracy_score, roc_auc_score\n",
        "from sklearn.ensemble import RandomForestClassifier\n",
        "import xgboost as xgb\n",
        "!pip install shap\n",
        "import shap\n",
        "import matplotlib.pyplot as plt\n",
        "from sklearn.preprocessing import StandardScaler\n",
        "from sklearn.model_selection import cross_val_score\n",
        "from sklearn.naive_bayes import GaussianNB\n",
        "from sklearn.model_selection import cross_val_predict\n",
        "from sklearn.metrics import accuracy_score, roc_auc_score\n",
        "from sklearn.naive_bayes import GaussianNB\n",
        "from xgboost import XGBClassifier\n"
      ]
    },
    {
      "cell_type": "code",
      "source": [],
      "metadata": {
        "id": "EQQRWNpG3xmO"
      },
      "execution_count": 6,
      "outputs": []
    },
    {
      "cell_type": "code",
      "source": [
        "train = pd.read_csv('/content/df_train.csv')"
      ],
      "metadata": {
        "id": "XVFlpaS2jCO8"
      },
      "execution_count": 7,
      "outputs": []
    },
    {
      "cell_type": "code",
      "source": [
        "df = pd.read_csv('/content/df_vol_2.csv')"
      ],
      "metadata": {
        "id": "kuuQ1EQ7R70M"
      },
      "execution_count": 8,
      "outputs": []
    },
    {
      "cell_type": "code",
      "source": [
        "df.head()"
      ],
      "metadata": {
        "colab": {
          "base_uri": "https://localhost:8080/",
          "height": 556
        },
        "id": "FsoozBsfU1VH",
        "outputId": "27fb9afe-d6bf-4329-f5a5-26b6cea196a1"
      },
      "execution_count": 9,
      "outputs": [
        {
          "output_type": "execute_result",
          "data": {
            "text/plain": [
              "   VIN (1-10)     County     City       State  Postal Code  Model Year  \\\n",
              "0  3C3CFFGE4E     Yakima   Yakima  Washington      98902.0        2014   \n",
              "1  5YJXCBE40H   Thurston  Olympia  Washington      98513.0        2017   \n",
              "2  3MW39FS03P       King   Renton  Washington      98058.0        2023   \n",
              "3  7PDSGABA8P  Snohomish  Bothell  Washington      98012.0        2023   \n",
              "4  5YJ3E1EB8L       King     Kent  Washington      98031.0        2020   \n",
              "\n",
              "     Make    Model Electric Vehicle Type  \\\n",
              "0    FIAT      500                   BEV   \n",
              "1   TESLA  MODEL X                   BEV   \n",
              "2     BMW     330E                  PHEV   \n",
              "3  RIVIAN      R1S                   BEV   \n",
              "4   TESLA  MODEL 3                   BEV   \n",
              "\n",
              "          Clean Alternative Fuel Vehicle Eligibility  Electric Range  \\\n",
              "0            Clean Alternative Fuel Vehicle Eligible              87   \n",
              "1            Clean Alternative Fuel Vehicle Eligible             200   \n",
              "2              Not eligible due to low battery range              20   \n",
              "3  Eligibility unknown as battery range has not b...               0   \n",
              "4            Clean Alternative Fuel Vehicle Eligible             322   \n",
              "\n",
              "   Base MSRP  Legislative District  DOL Vehicle ID        Electric Utility  \\\n",
              "0          0                  14.0         1593721              PACIFICORP   \n",
              "1          0                   2.0       257167501  PUGET SOUND ENERGY INC   \n",
              "2          0                  11.0       224071816  PUGET SOUND ENERGY INC   \n",
              "3          0                  21.0       260084653  PUGET SOUND ENERGY INC   \n",
              "4          0                  33.0       253771913  PUGET SOUND ENERGY INC   \n",
              "\n",
              "   2020 Census Tract   Longitude   Latitude  \n",
              "0       5.307700e+10 -120.524012  46.597394  \n",
              "1       5.306701e+10 -122.817545  46.988760  \n",
              "2       5.303303e+10 -122.129888  47.445126  \n",
              "3       5.306105e+10 -122.187300  47.820245  \n",
              "4       5.303303e+10 -122.201252  47.393181  "
            ],
            "text/html": [
              "\n",
              "  <div id=\"df-78f941b8-cffc-49a9-9b41-1cb381ee0ea2\" class=\"colab-df-container\">\n",
              "    <div>\n",
              "<style scoped>\n",
              "    .dataframe tbody tr th:only-of-type {\n",
              "        vertical-align: middle;\n",
              "    }\n",
              "\n",
              "    .dataframe tbody tr th {\n",
              "        vertical-align: top;\n",
              "    }\n",
              "\n",
              "    .dataframe thead th {\n",
              "        text-align: right;\n",
              "    }\n",
              "</style>\n",
              "<table border=\"1\" class=\"dataframe\">\n",
              "  <thead>\n",
              "    <tr style=\"text-align: right;\">\n",
              "      <th></th>\n",
              "      <th>VIN (1-10)</th>\n",
              "      <th>County</th>\n",
              "      <th>City</th>\n",
              "      <th>State</th>\n",
              "      <th>Postal Code</th>\n",
              "      <th>Model Year</th>\n",
              "      <th>Make</th>\n",
              "      <th>Model</th>\n",
              "      <th>Electric Vehicle Type</th>\n",
              "      <th>Clean Alternative Fuel Vehicle Eligibility</th>\n",
              "      <th>Electric Range</th>\n",
              "      <th>Base MSRP</th>\n",
              "      <th>Legislative District</th>\n",
              "      <th>DOL Vehicle ID</th>\n",
              "      <th>Electric Utility</th>\n",
              "      <th>2020 Census Tract</th>\n",
              "      <th>Longitude</th>\n",
              "      <th>Latitude</th>\n",
              "    </tr>\n",
              "  </thead>\n",
              "  <tbody>\n",
              "    <tr>\n",
              "      <th>0</th>\n",
              "      <td>3C3CFFGE4E</td>\n",
              "      <td>Yakima</td>\n",
              "      <td>Yakima</td>\n",
              "      <td>Washington</td>\n",
              "      <td>98902.0</td>\n",
              "      <td>2014</td>\n",
              "      <td>FIAT</td>\n",
              "      <td>500</td>\n",
              "      <td>BEV</td>\n",
              "      <td>Clean Alternative Fuel Vehicle Eligible</td>\n",
              "      <td>87</td>\n",
              "      <td>0</td>\n",
              "      <td>14.0</td>\n",
              "      <td>1593721</td>\n",
              "      <td>PACIFICORP</td>\n",
              "      <td>5.307700e+10</td>\n",
              "      <td>-120.524012</td>\n",
              "      <td>46.597394</td>\n",
              "    </tr>\n",
              "    <tr>\n",
              "      <th>1</th>\n",
              "      <td>5YJXCBE40H</td>\n",
              "      <td>Thurston</td>\n",
              "      <td>Olympia</td>\n",
              "      <td>Washington</td>\n",
              "      <td>98513.0</td>\n",
              "      <td>2017</td>\n",
              "      <td>TESLA</td>\n",
              "      <td>MODEL X</td>\n",
              "      <td>BEV</td>\n",
              "      <td>Clean Alternative Fuel Vehicle Eligible</td>\n",
              "      <td>200</td>\n",
              "      <td>0</td>\n",
              "      <td>2.0</td>\n",
              "      <td>257167501</td>\n",
              "      <td>PUGET SOUND ENERGY INC</td>\n",
              "      <td>5.306701e+10</td>\n",
              "      <td>-122.817545</td>\n",
              "      <td>46.988760</td>\n",
              "    </tr>\n",
              "    <tr>\n",
              "      <th>2</th>\n",
              "      <td>3MW39FS03P</td>\n",
              "      <td>King</td>\n",
              "      <td>Renton</td>\n",
              "      <td>Washington</td>\n",
              "      <td>98058.0</td>\n",
              "      <td>2023</td>\n",
              "      <td>BMW</td>\n",
              "      <td>330E</td>\n",
              "      <td>PHEV</td>\n",
              "      <td>Not eligible due to low battery range</td>\n",
              "      <td>20</td>\n",
              "      <td>0</td>\n",
              "      <td>11.0</td>\n",
              "      <td>224071816</td>\n",
              "      <td>PUGET SOUND ENERGY INC</td>\n",
              "      <td>5.303303e+10</td>\n",
              "      <td>-122.129888</td>\n",
              "      <td>47.445126</td>\n",
              "    </tr>\n",
              "    <tr>\n",
              "      <th>3</th>\n",
              "      <td>7PDSGABA8P</td>\n",
              "      <td>Snohomish</td>\n",
              "      <td>Bothell</td>\n",
              "      <td>Washington</td>\n",
              "      <td>98012.0</td>\n",
              "      <td>2023</td>\n",
              "      <td>RIVIAN</td>\n",
              "      <td>R1S</td>\n",
              "      <td>BEV</td>\n",
              "      <td>Eligibility unknown as battery range has not b...</td>\n",
              "      <td>0</td>\n",
              "      <td>0</td>\n",
              "      <td>21.0</td>\n",
              "      <td>260084653</td>\n",
              "      <td>PUGET SOUND ENERGY INC</td>\n",
              "      <td>5.306105e+10</td>\n",
              "      <td>-122.187300</td>\n",
              "      <td>47.820245</td>\n",
              "    </tr>\n",
              "    <tr>\n",
              "      <th>4</th>\n",
              "      <td>5YJ3E1EB8L</td>\n",
              "      <td>King</td>\n",
              "      <td>Kent</td>\n",
              "      <td>Washington</td>\n",
              "      <td>98031.0</td>\n",
              "      <td>2020</td>\n",
              "      <td>TESLA</td>\n",
              "      <td>MODEL 3</td>\n",
              "      <td>BEV</td>\n",
              "      <td>Clean Alternative Fuel Vehicle Eligible</td>\n",
              "      <td>322</td>\n",
              "      <td>0</td>\n",
              "      <td>33.0</td>\n",
              "      <td>253771913</td>\n",
              "      <td>PUGET SOUND ENERGY INC</td>\n",
              "      <td>5.303303e+10</td>\n",
              "      <td>-122.201252</td>\n",
              "      <td>47.393181</td>\n",
              "    </tr>\n",
              "  </tbody>\n",
              "</table>\n",
              "</div>\n",
              "    <div class=\"colab-df-buttons\">\n",
              "\n",
              "  <div class=\"colab-df-container\">\n",
              "    <button class=\"colab-df-convert\" onclick=\"convertToInteractive('df-78f941b8-cffc-49a9-9b41-1cb381ee0ea2')\"\n",
              "            title=\"Convert this dataframe to an interactive table.\"\n",
              "            style=\"display:none;\">\n",
              "\n",
              "  <svg xmlns=\"http://www.w3.org/2000/svg\" height=\"24px\" viewBox=\"0 -960 960 960\">\n",
              "    <path d=\"M120-120v-720h720v720H120Zm60-500h600v-160H180v160Zm220 220h160v-160H400v160Zm0 220h160v-160H400v160ZM180-400h160v-160H180v160Zm440 0h160v-160H620v160ZM180-180h160v-160H180v160Zm440 0h160v-160H620v160Z\"/>\n",
              "  </svg>\n",
              "    </button>\n",
              "\n",
              "  <style>\n",
              "    .colab-df-container {\n",
              "      display:flex;\n",
              "      gap: 12px;\n",
              "    }\n",
              "\n",
              "    .colab-df-convert {\n",
              "      background-color: #E8F0FE;\n",
              "      border: none;\n",
              "      border-radius: 50%;\n",
              "      cursor: pointer;\n",
              "      display: none;\n",
              "      fill: #1967D2;\n",
              "      height: 32px;\n",
              "      padding: 0 0 0 0;\n",
              "      width: 32px;\n",
              "    }\n",
              "\n",
              "    .colab-df-convert:hover {\n",
              "      background-color: #E2EBFA;\n",
              "      box-shadow: 0px 1px 2px rgba(60, 64, 67, 0.3), 0px 1px 3px 1px rgba(60, 64, 67, 0.15);\n",
              "      fill: #174EA6;\n",
              "    }\n",
              "\n",
              "    .colab-df-buttons div {\n",
              "      margin-bottom: 4px;\n",
              "    }\n",
              "\n",
              "    [theme=dark] .colab-df-convert {\n",
              "      background-color: #3B4455;\n",
              "      fill: #D2E3FC;\n",
              "    }\n",
              "\n",
              "    [theme=dark] .colab-df-convert:hover {\n",
              "      background-color: #434B5C;\n",
              "      box-shadow: 0px 1px 3px 1px rgba(0, 0, 0, 0.15);\n",
              "      filter: drop-shadow(0px 1px 2px rgba(0, 0, 0, 0.3));\n",
              "      fill: #FFFFFF;\n",
              "    }\n",
              "  </style>\n",
              "\n",
              "    <script>\n",
              "      const buttonEl =\n",
              "        document.querySelector('#df-78f941b8-cffc-49a9-9b41-1cb381ee0ea2 button.colab-df-convert');\n",
              "      buttonEl.style.display =\n",
              "        google.colab.kernel.accessAllowed ? 'block' : 'none';\n",
              "\n",
              "      async function convertToInteractive(key) {\n",
              "        const element = document.querySelector('#df-78f941b8-cffc-49a9-9b41-1cb381ee0ea2');\n",
              "        const dataTable =\n",
              "          await google.colab.kernel.invokeFunction('convertToInteractive',\n",
              "                                                    [key], {});\n",
              "        if (!dataTable) return;\n",
              "\n",
              "        const docLinkHtml = 'Like what you see? Visit the ' +\n",
              "          '<a target=\"_blank\" href=https://colab.research.google.com/notebooks/data_table.ipynb>data table notebook</a>'\n",
              "          + ' to learn more about interactive tables.';\n",
              "        element.innerHTML = '';\n",
              "        dataTable['output_type'] = 'display_data';\n",
              "        await google.colab.output.renderOutput(dataTable, element);\n",
              "        const docLink = document.createElement('div');\n",
              "        docLink.innerHTML = docLinkHtml;\n",
              "        element.appendChild(docLink);\n",
              "      }\n",
              "    </script>\n",
              "  </div>\n",
              "\n",
              "\n",
              "<div id=\"df-6cf93130-0533-4619-b710-c551ad5ba926\">\n",
              "  <button class=\"colab-df-quickchart\" onclick=\"quickchart('df-6cf93130-0533-4619-b710-c551ad5ba926')\"\n",
              "            title=\"Suggest charts\"\n",
              "            style=\"display:none;\">\n",
              "\n",
              "<svg xmlns=\"http://www.w3.org/2000/svg\" height=\"24px\"viewBox=\"0 0 24 24\"\n",
              "     width=\"24px\">\n",
              "    <g>\n",
              "        <path d=\"M19 3H5c-1.1 0-2 .9-2 2v14c0 1.1.9 2 2 2h14c1.1 0 2-.9 2-2V5c0-1.1-.9-2-2-2zM9 17H7v-7h2v7zm4 0h-2V7h2v10zm4 0h-2v-4h2v4z\"/>\n",
              "    </g>\n",
              "</svg>\n",
              "  </button>\n",
              "\n",
              "<style>\n",
              "  .colab-df-quickchart {\n",
              "      --bg-color: #E8F0FE;\n",
              "      --fill-color: #1967D2;\n",
              "      --hover-bg-color: #E2EBFA;\n",
              "      --hover-fill-color: #174EA6;\n",
              "      --disabled-fill-color: #AAA;\n",
              "      --disabled-bg-color: #DDD;\n",
              "  }\n",
              "\n",
              "  [theme=dark] .colab-df-quickchart {\n",
              "      --bg-color: #3B4455;\n",
              "      --fill-color: #D2E3FC;\n",
              "      --hover-bg-color: #434B5C;\n",
              "      --hover-fill-color: #FFFFFF;\n",
              "      --disabled-bg-color: #3B4455;\n",
              "      --disabled-fill-color: #666;\n",
              "  }\n",
              "\n",
              "  .colab-df-quickchart {\n",
              "    background-color: var(--bg-color);\n",
              "    border: none;\n",
              "    border-radius: 50%;\n",
              "    cursor: pointer;\n",
              "    display: none;\n",
              "    fill: var(--fill-color);\n",
              "    height: 32px;\n",
              "    padding: 0;\n",
              "    width: 32px;\n",
              "  }\n",
              "\n",
              "  .colab-df-quickchart:hover {\n",
              "    background-color: var(--hover-bg-color);\n",
              "    box-shadow: 0 1px 2px rgba(60, 64, 67, 0.3), 0 1px 3px 1px rgba(60, 64, 67, 0.15);\n",
              "    fill: var(--button-hover-fill-color);\n",
              "  }\n",
              "\n",
              "  .colab-df-quickchart-complete:disabled,\n",
              "  .colab-df-quickchart-complete:disabled:hover {\n",
              "    background-color: var(--disabled-bg-color);\n",
              "    fill: var(--disabled-fill-color);\n",
              "    box-shadow: none;\n",
              "  }\n",
              "\n",
              "  .colab-df-spinner {\n",
              "    border: 2px solid var(--fill-color);\n",
              "    border-color: transparent;\n",
              "    border-bottom-color: var(--fill-color);\n",
              "    animation:\n",
              "      spin 1s steps(1) infinite;\n",
              "  }\n",
              "\n",
              "  @keyframes spin {\n",
              "    0% {\n",
              "      border-color: transparent;\n",
              "      border-bottom-color: var(--fill-color);\n",
              "      border-left-color: var(--fill-color);\n",
              "    }\n",
              "    20% {\n",
              "      border-color: transparent;\n",
              "      border-left-color: var(--fill-color);\n",
              "      border-top-color: var(--fill-color);\n",
              "    }\n",
              "    30% {\n",
              "      border-color: transparent;\n",
              "      border-left-color: var(--fill-color);\n",
              "      border-top-color: var(--fill-color);\n",
              "      border-right-color: var(--fill-color);\n",
              "    }\n",
              "    40% {\n",
              "      border-color: transparent;\n",
              "      border-right-color: var(--fill-color);\n",
              "      border-top-color: var(--fill-color);\n",
              "    }\n",
              "    60% {\n",
              "      border-color: transparent;\n",
              "      border-right-color: var(--fill-color);\n",
              "    }\n",
              "    80% {\n",
              "      border-color: transparent;\n",
              "      border-right-color: var(--fill-color);\n",
              "      border-bottom-color: var(--fill-color);\n",
              "    }\n",
              "    90% {\n",
              "      border-color: transparent;\n",
              "      border-bottom-color: var(--fill-color);\n",
              "    }\n",
              "  }\n",
              "</style>\n",
              "\n",
              "  <script>\n",
              "    async function quickchart(key) {\n",
              "      const quickchartButtonEl =\n",
              "        document.querySelector('#' + key + ' button');\n",
              "      quickchartButtonEl.disabled = true;  // To prevent multiple clicks.\n",
              "      quickchartButtonEl.classList.add('colab-df-spinner');\n",
              "      try {\n",
              "        const charts = await google.colab.kernel.invokeFunction(\n",
              "            'suggestCharts', [key], {});\n",
              "      } catch (error) {\n",
              "        console.error('Error during call to suggestCharts:', error);\n",
              "      }\n",
              "      quickchartButtonEl.classList.remove('colab-df-spinner');\n",
              "      quickchartButtonEl.classList.add('colab-df-quickchart-complete');\n",
              "    }\n",
              "    (() => {\n",
              "      let quickchartButtonEl =\n",
              "        document.querySelector('#df-6cf93130-0533-4619-b710-c551ad5ba926 button');\n",
              "      quickchartButtonEl.style.display =\n",
              "        google.colab.kernel.accessAllowed ? 'block' : 'none';\n",
              "    })();\n",
              "  </script>\n",
              "</div>\n",
              "    </div>\n",
              "  </div>\n"
            ],
            "application/vnd.google.colaboratory.intrinsic+json": {
              "type": "dataframe",
              "variable_name": "df"
            }
          },
          "metadata": {},
          "execution_count": 9
        }
      ]
    },
    {
      "cell_type": "code",
      "source": [
        "df = df.drop(columns=['State', 'Electric Utility'])"
      ],
      "metadata": {
        "id": "wcwMa5qIUmfj"
      },
      "execution_count": 10,
      "outputs": []
    },
    {
      "cell_type": "code",
      "source": [
        "print(train.dtypes)\n"
      ],
      "metadata": {
        "id": "mD5LdQL-j1eK",
        "colab": {
          "base_uri": "https://localhost:8080/"
        },
        "outputId": "3f28bad7-0c95-4a36-bb94-292b02ac068c"
      },
      "execution_count": 11,
      "outputs": [
        {
          "output_type": "stream",
          "name": "stdout",
          "text": [
            "VIN (1-10)                                      int64\n",
            "County                                          int64\n",
            "City                                            int64\n",
            "State                                           int64\n",
            "Postal Code                                   float64\n",
            "Model Year                                      int64\n",
            "Make                                            int64\n",
            "Model                                           int64\n",
            "Electric Vehicle Type                           int64\n",
            "Clean Alternative Fuel Vehicle Eligibility      int64\n",
            "Electric Range                                  int64\n",
            "Base MSRP                                       int64\n",
            "Legislative District                          float64\n",
            "DOL Vehicle ID                                  int64\n",
            "Electric Utility                                int64\n",
            "2020 Census Tract                             float64\n",
            "Longitude                                     float64\n",
            "Latitude                                      float64\n",
            "dtype: object\n"
          ]
        }
      ]
    },
    {
      "cell_type": "markdown",
      "source": [
        "Feature Scaling; using the StandardScaler"
      ],
      "metadata": {
        "id": "aQlPhMDPvYBu"
      }
    },
    {
      "cell_type": "code",
      "source": [
        "numerical_features = ['VIN (1-10)', 'County', 'State', 'City','Model Year', 'Make', 'Model', 'Clean Alternative Fuel Vehicle Eligibility', 'DOL Vehicle ID', 'Electric Utility']\n"
      ],
      "metadata": {
        "id": "Nt0YxJpKqlh5"
      },
      "execution_count": 12,
      "outputs": []
    },
    {
      "cell_type": "code",
      "source": [
        "scaler = StandardScaler()\n"
      ],
      "metadata": {
        "id": "pkHI4CSTqo-p"
      },
      "execution_count": 13,
      "outputs": []
    },
    {
      "cell_type": "code",
      "source": [
        "train[numerical_features] = scaler.fit_transform(train[numerical_features])\n"
      ],
      "metadata": {
        "id": "JyrnH7Psqyk8"
      },
      "execution_count": 14,
      "outputs": []
    },
    {
      "cell_type": "code",
      "source": [
        "# Dropping Features; State, Electric Utility"
      ],
      "metadata": {
        "id": "c7Sw4e9_vsug"
      },
      "execution_count": 15,
      "outputs": []
    },
    {
      "cell_type": "code",
      "source": [
        "train = train.drop(columns=['State', 'Electric Utility'])\n"
      ],
      "metadata": {
        "id": "QXb_zBILwDU_"
      },
      "execution_count": 16,
      "outputs": []
    },
    {
      "cell_type": "code",
      "source": [
        "train.head()"
      ],
      "metadata": {
        "colab": {
          "base_uri": "https://localhost:8080/",
          "height": 258
        },
        "id": "JnovI36qyhMQ",
        "outputId": "217567fe-7bb4-48b3-f126-b9c049515421"
      },
      "execution_count": 17,
      "outputs": [
        {
          "output_type": "execute_result",
          "data": {
            "text/plain": [
              "   VIN (1-10)    County      City  Postal Code  Model Year      Make  \\\n",
              "0   -0.600904 -1.254228 -0.653917      98902.0   -2.113085 -1.435409   \n",
              "1   -0.615760 -1.122706 -0.298006      98513.0   -1.113511  0.716447   \n",
              "2   -0.612046  0.955025 -0.239816      98058.0    0.885639 -1.883713   \n",
              "3   -0.266646 -0.773770 -0.154143      98012.0    0.885639  0.447465   \n",
              "4    0.000761  0.955025 -0.449573      98031.0   -0.113936  0.716447   \n",
              "\n",
              "      Model  Electric Vehicle Type  \\\n",
              "0 -0.994260                      0   \n",
              "1 -0.648724                      0   \n",
              "2 -1.021891                      1   \n",
              "3 -0.932949                      0   \n",
              "4  1.105986                      0   \n",
              "\n",
              "   Clean Alternative Fuel Vehicle Eligibility  Electric Range  Base MSRP  \\\n",
              "0                                   -1.116594              87          0   \n",
              "1                                   -1.116594             200          0   \n",
              "2                                    1.949501              20          0   \n",
              "3                                    0.416454               0          0   \n",
              "4                                   -1.116594             322          0   \n",
              "\n",
              "   Legislative District  DOL Vehicle ID  2020 Census Tract   Longitude  \\\n",
              "0                  14.0       -2.790761       5.307700e+10 -120.524012   \n",
              "1                   2.0        0.516689       5.306701e+10 -122.817545   \n",
              "2                  11.0        0.088389       5.303303e+10 -122.129888   \n",
              "3                  21.0        0.554440       5.306105e+10 -122.187300   \n",
              "4                  33.0        0.472746       5.303303e+10 -122.201252   \n",
              "\n",
              "    Latitude  \n",
              "0  46.597394  \n",
              "1  46.988760  \n",
              "2  47.445126  \n",
              "3  47.820245  \n",
              "4  47.393181  "
            ],
            "text/html": [
              "\n",
              "  <div id=\"df-dd1b24ad-1624-44fa-a204-92727a201ef0\" class=\"colab-df-container\">\n",
              "    <div>\n",
              "<style scoped>\n",
              "    .dataframe tbody tr th:only-of-type {\n",
              "        vertical-align: middle;\n",
              "    }\n",
              "\n",
              "    .dataframe tbody tr th {\n",
              "        vertical-align: top;\n",
              "    }\n",
              "\n",
              "    .dataframe thead th {\n",
              "        text-align: right;\n",
              "    }\n",
              "</style>\n",
              "<table border=\"1\" class=\"dataframe\">\n",
              "  <thead>\n",
              "    <tr style=\"text-align: right;\">\n",
              "      <th></th>\n",
              "      <th>VIN (1-10)</th>\n",
              "      <th>County</th>\n",
              "      <th>City</th>\n",
              "      <th>Postal Code</th>\n",
              "      <th>Model Year</th>\n",
              "      <th>Make</th>\n",
              "      <th>Model</th>\n",
              "      <th>Electric Vehicle Type</th>\n",
              "      <th>Clean Alternative Fuel Vehicle Eligibility</th>\n",
              "      <th>Electric Range</th>\n",
              "      <th>Base MSRP</th>\n",
              "      <th>Legislative District</th>\n",
              "      <th>DOL Vehicle ID</th>\n",
              "      <th>2020 Census Tract</th>\n",
              "      <th>Longitude</th>\n",
              "      <th>Latitude</th>\n",
              "    </tr>\n",
              "  </thead>\n",
              "  <tbody>\n",
              "    <tr>\n",
              "      <th>0</th>\n",
              "      <td>-0.600904</td>\n",
              "      <td>-1.254228</td>\n",
              "      <td>-0.653917</td>\n",
              "      <td>98902.0</td>\n",
              "      <td>-2.113085</td>\n",
              "      <td>-1.435409</td>\n",
              "      <td>-0.994260</td>\n",
              "      <td>0</td>\n",
              "      <td>-1.116594</td>\n",
              "      <td>87</td>\n",
              "      <td>0</td>\n",
              "      <td>14.0</td>\n",
              "      <td>-2.790761</td>\n",
              "      <td>5.307700e+10</td>\n",
              "      <td>-120.524012</td>\n",
              "      <td>46.597394</td>\n",
              "    </tr>\n",
              "    <tr>\n",
              "      <th>1</th>\n",
              "      <td>-0.615760</td>\n",
              "      <td>-1.122706</td>\n",
              "      <td>-0.298006</td>\n",
              "      <td>98513.0</td>\n",
              "      <td>-1.113511</td>\n",
              "      <td>0.716447</td>\n",
              "      <td>-0.648724</td>\n",
              "      <td>0</td>\n",
              "      <td>-1.116594</td>\n",
              "      <td>200</td>\n",
              "      <td>0</td>\n",
              "      <td>2.0</td>\n",
              "      <td>0.516689</td>\n",
              "      <td>5.306701e+10</td>\n",
              "      <td>-122.817545</td>\n",
              "      <td>46.988760</td>\n",
              "    </tr>\n",
              "    <tr>\n",
              "      <th>2</th>\n",
              "      <td>-0.612046</td>\n",
              "      <td>0.955025</td>\n",
              "      <td>-0.239816</td>\n",
              "      <td>98058.0</td>\n",
              "      <td>0.885639</td>\n",
              "      <td>-1.883713</td>\n",
              "      <td>-1.021891</td>\n",
              "      <td>1</td>\n",
              "      <td>1.949501</td>\n",
              "      <td>20</td>\n",
              "      <td>0</td>\n",
              "      <td>11.0</td>\n",
              "      <td>0.088389</td>\n",
              "      <td>5.303303e+10</td>\n",
              "      <td>-122.129888</td>\n",
              "      <td>47.445126</td>\n",
              "    </tr>\n",
              "    <tr>\n",
              "      <th>3</th>\n",
              "      <td>-0.266646</td>\n",
              "      <td>-0.773770</td>\n",
              "      <td>-0.154143</td>\n",
              "      <td>98012.0</td>\n",
              "      <td>0.885639</td>\n",
              "      <td>0.447465</td>\n",
              "      <td>-0.932949</td>\n",
              "      <td>0</td>\n",
              "      <td>0.416454</td>\n",
              "      <td>0</td>\n",
              "      <td>0</td>\n",
              "      <td>21.0</td>\n",
              "      <td>0.554440</td>\n",
              "      <td>5.306105e+10</td>\n",
              "      <td>-122.187300</td>\n",
              "      <td>47.820245</td>\n",
              "    </tr>\n",
              "    <tr>\n",
              "      <th>4</th>\n",
              "      <td>0.000761</td>\n",
              "      <td>0.955025</td>\n",
              "      <td>-0.449573</td>\n",
              "      <td>98031.0</td>\n",
              "      <td>-0.113936</td>\n",
              "      <td>0.716447</td>\n",
              "      <td>1.105986</td>\n",
              "      <td>0</td>\n",
              "      <td>-1.116594</td>\n",
              "      <td>322</td>\n",
              "      <td>0</td>\n",
              "      <td>33.0</td>\n",
              "      <td>0.472746</td>\n",
              "      <td>5.303303e+10</td>\n",
              "      <td>-122.201252</td>\n",
              "      <td>47.393181</td>\n",
              "    </tr>\n",
              "  </tbody>\n",
              "</table>\n",
              "</div>\n",
              "    <div class=\"colab-df-buttons\">\n",
              "\n",
              "  <div class=\"colab-df-container\">\n",
              "    <button class=\"colab-df-convert\" onclick=\"convertToInteractive('df-dd1b24ad-1624-44fa-a204-92727a201ef0')\"\n",
              "            title=\"Convert this dataframe to an interactive table.\"\n",
              "            style=\"display:none;\">\n",
              "\n",
              "  <svg xmlns=\"http://www.w3.org/2000/svg\" height=\"24px\" viewBox=\"0 -960 960 960\">\n",
              "    <path d=\"M120-120v-720h720v720H120Zm60-500h600v-160H180v160Zm220 220h160v-160H400v160Zm0 220h160v-160H400v160ZM180-400h160v-160H180v160Zm440 0h160v-160H620v160ZM180-180h160v-160H180v160Zm440 0h160v-160H620v160Z\"/>\n",
              "  </svg>\n",
              "    </button>\n",
              "\n",
              "  <style>\n",
              "    .colab-df-container {\n",
              "      display:flex;\n",
              "      gap: 12px;\n",
              "    }\n",
              "\n",
              "    .colab-df-convert {\n",
              "      background-color: #E8F0FE;\n",
              "      border: none;\n",
              "      border-radius: 50%;\n",
              "      cursor: pointer;\n",
              "      display: none;\n",
              "      fill: #1967D2;\n",
              "      height: 32px;\n",
              "      padding: 0 0 0 0;\n",
              "      width: 32px;\n",
              "    }\n",
              "\n",
              "    .colab-df-convert:hover {\n",
              "      background-color: #E2EBFA;\n",
              "      box-shadow: 0px 1px 2px rgba(60, 64, 67, 0.3), 0px 1px 3px 1px rgba(60, 64, 67, 0.15);\n",
              "      fill: #174EA6;\n",
              "    }\n",
              "\n",
              "    .colab-df-buttons div {\n",
              "      margin-bottom: 4px;\n",
              "    }\n",
              "\n",
              "    [theme=dark] .colab-df-convert {\n",
              "      background-color: #3B4455;\n",
              "      fill: #D2E3FC;\n",
              "    }\n",
              "\n",
              "    [theme=dark] .colab-df-convert:hover {\n",
              "      background-color: #434B5C;\n",
              "      box-shadow: 0px 1px 3px 1px rgba(0, 0, 0, 0.15);\n",
              "      filter: drop-shadow(0px 1px 2px rgba(0, 0, 0, 0.3));\n",
              "      fill: #FFFFFF;\n",
              "    }\n",
              "  </style>\n",
              "\n",
              "    <script>\n",
              "      const buttonEl =\n",
              "        document.querySelector('#df-dd1b24ad-1624-44fa-a204-92727a201ef0 button.colab-df-convert');\n",
              "      buttonEl.style.display =\n",
              "        google.colab.kernel.accessAllowed ? 'block' : 'none';\n",
              "\n",
              "      async function convertToInteractive(key) {\n",
              "        const element = document.querySelector('#df-dd1b24ad-1624-44fa-a204-92727a201ef0');\n",
              "        const dataTable =\n",
              "          await google.colab.kernel.invokeFunction('convertToInteractive',\n",
              "                                                    [key], {});\n",
              "        if (!dataTable) return;\n",
              "\n",
              "        const docLinkHtml = 'Like what you see? Visit the ' +\n",
              "          '<a target=\"_blank\" href=https://colab.research.google.com/notebooks/data_table.ipynb>data table notebook</a>'\n",
              "          + ' to learn more about interactive tables.';\n",
              "        element.innerHTML = '';\n",
              "        dataTable['output_type'] = 'display_data';\n",
              "        await google.colab.output.renderOutput(dataTable, element);\n",
              "        const docLink = document.createElement('div');\n",
              "        docLink.innerHTML = docLinkHtml;\n",
              "        element.appendChild(docLink);\n",
              "      }\n",
              "    </script>\n",
              "  </div>\n",
              "\n",
              "\n",
              "<div id=\"df-39e9df48-f306-496f-841f-80127b23012f\">\n",
              "  <button class=\"colab-df-quickchart\" onclick=\"quickchart('df-39e9df48-f306-496f-841f-80127b23012f')\"\n",
              "            title=\"Suggest charts\"\n",
              "            style=\"display:none;\">\n",
              "\n",
              "<svg xmlns=\"http://www.w3.org/2000/svg\" height=\"24px\"viewBox=\"0 0 24 24\"\n",
              "     width=\"24px\">\n",
              "    <g>\n",
              "        <path d=\"M19 3H5c-1.1 0-2 .9-2 2v14c0 1.1.9 2 2 2h14c1.1 0 2-.9 2-2V5c0-1.1-.9-2-2-2zM9 17H7v-7h2v7zm4 0h-2V7h2v10zm4 0h-2v-4h2v4z\"/>\n",
              "    </g>\n",
              "</svg>\n",
              "  </button>\n",
              "\n",
              "<style>\n",
              "  .colab-df-quickchart {\n",
              "      --bg-color: #E8F0FE;\n",
              "      --fill-color: #1967D2;\n",
              "      --hover-bg-color: #E2EBFA;\n",
              "      --hover-fill-color: #174EA6;\n",
              "      --disabled-fill-color: #AAA;\n",
              "      --disabled-bg-color: #DDD;\n",
              "  }\n",
              "\n",
              "  [theme=dark] .colab-df-quickchart {\n",
              "      --bg-color: #3B4455;\n",
              "      --fill-color: #D2E3FC;\n",
              "      --hover-bg-color: #434B5C;\n",
              "      --hover-fill-color: #FFFFFF;\n",
              "      --disabled-bg-color: #3B4455;\n",
              "      --disabled-fill-color: #666;\n",
              "  }\n",
              "\n",
              "  .colab-df-quickchart {\n",
              "    background-color: var(--bg-color);\n",
              "    border: none;\n",
              "    border-radius: 50%;\n",
              "    cursor: pointer;\n",
              "    display: none;\n",
              "    fill: var(--fill-color);\n",
              "    height: 32px;\n",
              "    padding: 0;\n",
              "    width: 32px;\n",
              "  }\n",
              "\n",
              "  .colab-df-quickchart:hover {\n",
              "    background-color: var(--hover-bg-color);\n",
              "    box-shadow: 0 1px 2px rgba(60, 64, 67, 0.3), 0 1px 3px 1px rgba(60, 64, 67, 0.15);\n",
              "    fill: var(--button-hover-fill-color);\n",
              "  }\n",
              "\n",
              "  .colab-df-quickchart-complete:disabled,\n",
              "  .colab-df-quickchart-complete:disabled:hover {\n",
              "    background-color: var(--disabled-bg-color);\n",
              "    fill: var(--disabled-fill-color);\n",
              "    box-shadow: none;\n",
              "  }\n",
              "\n",
              "  .colab-df-spinner {\n",
              "    border: 2px solid var(--fill-color);\n",
              "    border-color: transparent;\n",
              "    border-bottom-color: var(--fill-color);\n",
              "    animation:\n",
              "      spin 1s steps(1) infinite;\n",
              "  }\n",
              "\n",
              "  @keyframes spin {\n",
              "    0% {\n",
              "      border-color: transparent;\n",
              "      border-bottom-color: var(--fill-color);\n",
              "      border-left-color: var(--fill-color);\n",
              "    }\n",
              "    20% {\n",
              "      border-color: transparent;\n",
              "      border-left-color: var(--fill-color);\n",
              "      border-top-color: var(--fill-color);\n",
              "    }\n",
              "    30% {\n",
              "      border-color: transparent;\n",
              "      border-left-color: var(--fill-color);\n",
              "      border-top-color: var(--fill-color);\n",
              "      border-right-color: var(--fill-color);\n",
              "    }\n",
              "    40% {\n",
              "      border-color: transparent;\n",
              "      border-right-color: var(--fill-color);\n",
              "      border-top-color: var(--fill-color);\n",
              "    }\n",
              "    60% {\n",
              "      border-color: transparent;\n",
              "      border-right-color: var(--fill-color);\n",
              "    }\n",
              "    80% {\n",
              "      border-color: transparent;\n",
              "      border-right-color: var(--fill-color);\n",
              "      border-bottom-color: var(--fill-color);\n",
              "    }\n",
              "    90% {\n",
              "      border-color: transparent;\n",
              "      border-bottom-color: var(--fill-color);\n",
              "    }\n",
              "  }\n",
              "</style>\n",
              "\n",
              "  <script>\n",
              "    async function quickchart(key) {\n",
              "      const quickchartButtonEl =\n",
              "        document.querySelector('#' + key + ' button');\n",
              "      quickchartButtonEl.disabled = true;  // To prevent multiple clicks.\n",
              "      quickchartButtonEl.classList.add('colab-df-spinner');\n",
              "      try {\n",
              "        const charts = await google.colab.kernel.invokeFunction(\n",
              "            'suggestCharts', [key], {});\n",
              "      } catch (error) {\n",
              "        console.error('Error during call to suggestCharts:', error);\n",
              "      }\n",
              "      quickchartButtonEl.classList.remove('colab-df-spinner');\n",
              "      quickchartButtonEl.classList.add('colab-df-quickchart-complete');\n",
              "    }\n",
              "    (() => {\n",
              "      let quickchartButtonEl =\n",
              "        document.querySelector('#df-39e9df48-f306-496f-841f-80127b23012f button');\n",
              "      quickchartButtonEl.style.display =\n",
              "        google.colab.kernel.accessAllowed ? 'block' : 'none';\n",
              "    })();\n",
              "  </script>\n",
              "</div>\n",
              "    </div>\n",
              "  </div>\n"
            ],
            "application/vnd.google.colaboratory.intrinsic+json": {
              "type": "dataframe",
              "variable_name": "train"
            }
          },
          "metadata": {},
          "execution_count": 17
        }
      ]
    },
    {
      "cell_type": "code",
      "source": [
        "def plot_cm(cm, chart):\n",
        "\n",
        "    # set figure size and title\n",
        "    plt.figure(figsize=(6, 5))\n",
        "    plt.suptitle(f'Confusion Matrix of {chart}', y=1)\n",
        "\n",
        "    # initialize TP, TN, FN, and FP counts\n",
        "    group_names = ['True Negative', 'False Negative', 'False Positive', 'True Positive']\n",
        "    group_initial = ['(TN)','(FN)','(FP)','(TP)']\n",
        "    group_percentages = [\"{0:.2%}\".format(value) for value in cm.flatten()/np.sum(cm)]\n",
        "\n",
        "    # create label strings with counts and percentages\n",
        "    labels = [f\"{v1}\\n{v2}\\n\\n{v3}\" for v1, v2, v3 in zip(group_names, group_initial, group_percentages)]\n",
        "    labels = np.asarray(labels).reshape(2,2)\n",
        "\n",
        "    # plot heatmap of the confusion matrix\n",
        "    g = sns.heatmap(cm, annot=labels, fmt='', cmap='Blues')\n",
        "    g.set_xlabel('Actual')\n",
        "    g.set_ylabel('Predicted')\n",
        "\n",
        "    plt.show()"
      ],
      "metadata": {
        "id": "EXF9WA4NyGvD"
      },
      "execution_count": 18,
      "outputs": []
    },
    {
      "cell_type": "code",
      "source": [
        "sns.set_theme(style=\"white\")\n",
        "\n",
        "X = train.drop('Electric Vehicle Type', axis=1).values\n",
        "y = train['Electric Vehicle Type'].values\n",
        "\n",
        "X_train, X_test, y_train, y_test = train_test_split(X, y, test_size=0.3, stratify=y, random_state=21)"
      ],
      "metadata": {
        "id": "gKUdJOSowaiP"
      },
      "execution_count": 19,
      "outputs": []
    },
    {
      "cell_type": "code",
      "source": [
        "train['Electric Vehicle Type'].value_counts()"
      ],
      "metadata": {
        "colab": {
          "base_uri": "https://localhost:8080/"
        },
        "id": "h9yvsAM4wm37",
        "outputId": "a07fa5ce-a02e-4529-8d61-31f9337499b5"
      },
      "execution_count": 20,
      "outputs": [
        {
          "output_type": "execute_result",
          "data": {
            "text/plain": [
              "0    130288\n",
              "1     36507\n",
              "Name: Electric Vehicle Type, dtype: int64"
            ]
          },
          "metadata": {},
          "execution_count": 20
        }
      ]
    },
    {
      "cell_type": "code",
      "source": [
        "ns = NearMiss()\n",
        "\n",
        "print(\"Original dataset shape:\", Counter(y_train))\n",
        "X_train_resampled, y_train_resampled = ns.fit_resample(X_train, y_train)\n",
        "print(\"Resample dataset shape:\", Counter(y_train_resampled))"
      ],
      "metadata": {
        "colab": {
          "base_uri": "https://localhost:8080/"
        },
        "id": "mTdjJJxQy5_A",
        "outputId": "5f502d9d-c8b6-4671-8887-31c7d74f5f48"
      },
      "execution_count": 21,
      "outputs": [
        {
          "output_type": "stream",
          "name": "stdout",
          "text": [
            "Original dataset shape: Counter({0: 91201, 1: 25555})\n",
            "Resample dataset shape: Counter({0: 25555, 1: 25555})\n"
          ]
        }
      ]
    },
    {
      "cell_type": "markdown",
      "source": [
        "Naive Bayes Classifier"
      ],
      "metadata": {
        "id": "cSOEgREz0Toe"
      }
    },
    {
      "cell_type": "code",
      "source": [
        "NB_classifier = GaussianNB()\n",
        "NB_classifier.fit(X_train_resampled, y_train_resampled)\n",
        "\n",
        "# make predictions on the test data\n",
        "y_pred = NB_classifier.predict(X_test)\n",
        "\n",
        "# calculate metric evaluation and confusion matrix\n",
        "accurary = accuracy_score(y_test, y_pred)\n",
        "cm = confusion_matrix(y_test, y_pred)"
      ],
      "metadata": {
        "id": "eaNzTMtGzAmT"
      },
      "execution_count": 22,
      "outputs": []
    },
    {
      "cell_type": "code",
      "source": [
        "print(\"Accuracy:\", accuracy_score(y_test, y_pred))\n",
        "\n",
        "print(\"--\"*55)\n",
        "print(\"ROC AUC Score:\", roc_auc_score(y_test, y_pred))\n",
        "\n",
        "print(\"Confusion Matrix:\\n\", confusion_matrix(y_test, y_pred))\n",
        "print(\"--\"*55)\n",
        "print(\"Classification Report:\\n\\n\", classification_report(y_test, y_pred))\n",
        "print(\"--\"*55)\n",
        "if isinstance(NB_classifier, GaussianNB):\n",
        "    # Mean of features for each class\n",
        "    print(\"Mean of features for each class:\\n\", NB_classifier.theta_)"
      ],
      "metadata": {
        "colab": {
          "base_uri": "https://localhost:8080/"
        },
        "id": "GaISptvD0YAl",
        "outputId": "8b3b8764-5ee4-4614-bbd7-2c2ad91c76de"
      },
      "execution_count": 23,
      "outputs": [
        {
          "output_type": "stream",
          "name": "stdout",
          "text": [
            "Accuracy: 0.7804112792022223\n",
            "--------------------------------------------------------------------------------------------------------------\n",
            "ROC AUC Score: 0.5006567895225318\n",
            "Confusion Matrix:\n",
            " [[39017    70]\n",
            " [10918    34]]\n",
            "--------------------------------------------------------------------------------------------------------------\n",
            "Classification Report:\n",
            "\n",
            "               precision    recall  f1-score   support\n",
            "\n",
            "           0       0.78      1.00      0.88     39087\n",
            "           1       0.33      0.00      0.01     10952\n",
            "\n",
            "    accuracy                           0.78     50039\n",
            "   macro avg       0.55      0.50      0.44     50039\n",
            "weighted avg       0.68      0.78      0.69     50039\n",
            "\n",
            "--------------------------------------------------------------------------------------------------------------\n",
            "Mean of features for each class:\n",
            " [[ 3.51763828e-01  2.45476018e-01 -3.37395341e-02  9.81602053e+04\n",
            "   5.63347384e-01  2.68203088e-01  3.53811397e-01  3.58263231e-01\n",
            "   2.90201526e+00  0.00000000e+00  3.24838975e+01  3.23339399e-02\n",
            "   5.30382757e+10 -1.22265480e+02  4.74838133e+01]\n",
            " [-5.48666095e-01 -1.47691257e-01 -5.63330487e-02  9.81580044e+04\n",
            "  -3.40018426e-01 -7.63099909e-01 -8.96097961e-01  4.70504751e-01\n",
            "   3.07391117e+01  1.77201409e+03  2.73069849e+01 -1.83446156e-02\n",
            "   5.29500600e+10 -1.21933271e+02  4.73689915e+01]]\n"
          ]
        }
      ]
    },
    {
      "cell_type": "markdown",
      "source": [
        "The comparison between the initial model and the model after feature dropping and feature scaling reveals several noteworthy insights. Initially, the model achieved an accuracy of approximately 74.6%, while after feature dropping and feature scaling, the accuracy increased to around 78.0%. This indicates a moderate improvement in overall predictive performance. However, despite the increase in accuracy, the model's ability to discriminate between classes, as measured by the ROC AUC score, deteriorated slightly from 0.516 to 0.501, suggesting that the model's ability to distinguish between positive and negative cases did not significantly improve.\n",
        "\n",
        "A more profound change is observed in the confusion matrices and classification reports. Before feature dropping and scaling, the model misclassified a substantial number of instances, especially in the positive class, resulting in a low precision and recall for that class (precision: 0.29, recall: 0.11). However, after the transformation, the model's performance on the positive class deteriorated further, with precision dropping to 0.33 and recall almost vanishing (recall: 0.00). On the other hand, the precision and recall for the negative class remained relatively stable, with precision at 0.78 and recall at 1.00, indicating that the model continues to perform well in identifying negative cases.\n",
        "\n",
        "A closer examination of the mean feature values for each class also reveals interesting patterns. Before transformation, the mean feature values for the positive class were notably different from those of the negative class, suggesting potential discrimination between the two classes. However, after feature dropping and scaling, the mean feature values for both classes became more similar, potentially contributing to the deterioration in the model's discriminatory power.\n",
        "\n",
        "Overall, while the increase in accuracy may suggest improvement in model performance, the degradation in other metrics, particularly in the ability to identify positive cases, highlights the importance of careful consideration when applying feature dropping and feature scaling techniques. It underscores the need for a balanced approach that considers not only accuracy but also other performance metrics and the practical implications of model decisions."
      ],
      "metadata": {
        "id": "9n4dOj272mBX"
      }
    },
    {
      "cell_type": "code",
      "source": [
        "chart = 'Naive Bayes Classifier'\n",
        "\n",
        "plot_cm(cm, chart)"
      ],
      "metadata": {
        "colab": {
          "base_uri": "https://localhost:8080/",
          "height": 533
        },
        "id": "ik3CU-aa2nLw",
        "outputId": "d85f32f2-2adb-4fb8-eac3-f34648a36ddd"
      },
      "execution_count": 24,
      "outputs": [
        {
          "output_type": "display_data",
          "data": {
            "text/plain": [
              "<Figure size 600x500 with 2 Axes>"
            ],
            "image/png": "[encoded data removed]"
          },
          "metadata": {}
        }
      ]
    },
    {
      "cell_type": "code",
      "source": [],
      "metadata": {
        "id": "P6dVMj2m5AVE"
      },
      "execution_count": 24,
      "outputs": []
    },
    {
      "cell_type": "markdown",
      "source": [
        "Cross Validation"
      ],
      "metadata": {
        "id": "M5Doio0mB3aD"
      }
    },
    {
      "cell_type": "code",
      "source": [
        "nb_classifier = GaussianNB()\n",
        "cv_predicted_labels = cross_val_predict(nb_classifier, X_train, y_train, cv=10)\n"
      ],
      "metadata": {
        "id": "7-8oyYAF31pI"
      },
      "execution_count": 25,
      "outputs": []
    },
    {
      "cell_type": "code",
      "source": [
        "accuracy = accuracy_score(y_train, cv_predicted_labels)\n",
        "print(\"Accuracy with cross-validation:\", accuracy)\n",
        "\n",
        "roc_auc = roc_auc_score(y_train, cv_predicted_labels)\n",
        "print(\"ROC AUC score with cross-validation:\", roc_auc)"
      ],
      "metadata": {
        "colab": {
          "base_uri": "https://localhost:8080/"
        },
        "id": "GCa4hTsH4I4o",
        "outputId": "197f87e4-bbbf-40fb-a40c-486d5cfa596f"
      },
      "execution_count": 26,
      "outputs": [
        {
          "output_type": "stream",
          "name": "stdout",
          "text": [
            "Accuracy with cross-validation: 0.7805423275891603\n",
            "ROC AUC score with cross-validation: 0.5006975238197879\n"
          ]
        }
      ]
    },
    {
      "cell_type": "markdown",
      "source": [
        "The performance of the Naive Bayes model before and after cross-validation remained largely consistent. Both assessments yielded an accuracy of approximately 78.0% and a ROC AUC score close to 0.5007. These results suggest that cross-validation did not notably improve the model's ability to differentiate between positive and negative classes."
      ],
      "metadata": {
        "id": "p556L4fwDt6W"
      }
    },
    {
      "cell_type": "markdown",
      "source": [
        "Logistic Regression"
      ],
      "metadata": {
        "id": "iCq7hgkeA2PW"
      }
    },
    {
      "cell_type": "code",
      "source": [
        "LR_classifier = LogisticRegression()\n",
        "LR_classifier.fit(X_train_resampled, y_train_resampled)\n",
        "\n",
        "# make predictions on the test data\n",
        "y_pred = LR_classifier.predict(X_test)\n",
        "\n",
        "# calculate metric evaluation and confusion matrix\n",
        "accurary = accuracy_score(y_test, y_pred)\n",
        "cm = confusion_matrix(y_test, y_pred)\n",
        "\n",
        "print(\"--\"*55)\n",
        "print(\"Accuracy     :\", accurary)\n",
        "print(\"ROC AUC Score:\", roc_auc_score(y_test, y_pred))\n",
        "\n",
        "print(\"--\"*55)\n",
        "print(\"Classification Report:\\n\\n\", classification_report(y_test, y_pred))\n",
        "print(\"--\"*55)\n",
        "\n",
        "print(\"Confusion Matrix:\\n\\n\", cm)\n",
        "print(\"--\"*55)\n",
        "\n"
      ],
      "metadata": {
        "colab": {
          "base_uri": "https://localhost:8080/"
        },
        "id": "OdnSB6v38WDQ",
        "outputId": "95807b5a-9fcc-4c15-9047-331763fc5f0f"
      },
      "execution_count": 27,
      "outputs": [
        {
          "output_type": "stream",
          "name": "stdout",
          "text": [
            "--------------------------------------------------------------------------------------------------------------\n",
            "Accuracy     : 0.7811307180399288\n",
            "ROC AUC Score: 0.5\n",
            "--------------------------------------------------------------------------------------------------------------\n",
            "Classification Report:\n",
            "\n",
            "               precision    recall  f1-score   support\n",
            "\n",
            "           0       0.78      1.00      0.88     39087\n",
            "           1       0.00      0.00      0.00     10952\n",
            "\n",
            "    accuracy                           0.78     50039\n",
            "   macro avg       0.39      0.50      0.44     50039\n",
            "weighted avg       0.61      0.78      0.69     50039\n",
            "\n",
            "--------------------------------------------------------------------------------------------------------------\n",
            "Confusion Matrix:\n",
            "\n",
            " [[39087     0]\n",
            " [10952     0]]\n",
            "--------------------------------------------------------------------------------------------------------------\n"
          ]
        },
        {
          "output_type": "stream",
          "name": "stderr",
          "text": [
            "/usr/local/lib/python3.10/dist-packages/sklearn/metrics/_classification.py:1344: UndefinedMetricWarning: Precision and F-score are ill-defined and being set to 0.0 in labels with no predicted samples. Use `zero_division` parameter to control this behavior.\n",
            "  _warn_prf(average, modifier, msg_start, len(result))\n",
            "/usr/local/lib/python3.10/dist-packages/sklearn/metrics/_classification.py:1344: UndefinedMetricWarning: Precision and F-score are ill-defined and being set to 0.0 in labels with no predicted samples. Use `zero_division` parameter to control this behavior.\n",
            "  _warn_prf(average, modifier, msg_start, len(result))\n",
            "/usr/local/lib/python3.10/dist-packages/sklearn/metrics/_classification.py:1344: UndefinedMetricWarning: Precision and F-score are ill-defined and being set to 0.0 in labels with no predicted samples. Use `zero_division` parameter to control this behavior.\n",
            "  _warn_prf(average, modifier, msg_start, len(result))\n"
          ]
        }
      ]
    },
    {
      "cell_type": "markdown",
      "source": [
        "The comparison between the initial linear regression model and the model after feature scaling and feature dropping reveals significant changes in model performance metrics. Initially, the linear regression model achieved an accuracy of approximately 51.6%, with a ROC AUC score of 0.514. The model exhibited relatively poor precision and recall for both classes, with precision of 0.79 for the negative class and only 0.23 for the positive class. While the recall was relatively balanced for the positive class (recall: 0.51), it was considerably lower for the negative class (recall: 0.52).\n",
        "\n",
        "After feature scaling and dropping features, the accuracy of the model improved noticeably to around 78.1%. However, this increase in accuracy was primarily due to the model correctly classifying all instances as the negative class (class 0), resulting in a precision of 0.78 for the negative class but a precision of 0.00 for the positive class. Consequently, the model's ability to identify positive cases was severely compromised, as reflected in the recall of 0.00 for the positive class. The ROC AUC score also dropped to 0.5, indicating that the model's ability to distinguish between the two classes was essentially random.\n",
        "\n",
        "In summary, while the feature scaling and dropping features led to a notable increase in overall accuracy, this improvement came at the cost of severely compromised performance in correctly identifying positive cases. The model essentially learned to predict only the majority class, resulting in a loss of predictive power for the minority class. This underscores the importance of evaluating model performance using a range of metrics beyond just accuracy and highlights the trade-offs involved in preprocessing steps such as feature scaling and feature dropping. It also emphasizes the need for careful consideration of the practical implications of model decisions and the potential consequences of imbalance between classes."
      ],
      "metadata": {
        "id": "5ywdmaK1BvMO"
      }
    },
    {
      "cell_type": "code",
      "source": [
        "chart = 'Logistic Regression'\n",
        "\n",
        "plot_cm(cm, chart)"
      ],
      "metadata": {
        "colab": {
          "base_uri": "https://localhost:8080/",
          "height": 533
        },
        "id": "PXuc-2BiBwgG",
        "outputId": "c66987e1-1cee-47f8-8b0e-96c500396603"
      },
      "execution_count": 28,
      "outputs": [
        {
          "output_type": "display_data",
          "data": {
            "text/plain": [
              "<Figure size 600x500 with 2 Axes>"
            ],
            "image/png": "[encoded data removed]"
          },
          "metadata": {}
        }
      ]
    },
    {
      "cell_type": "markdown",
      "source": [
        "Class 0: BEV\n",
        "\n",
        "Class 1: PHEV"
      ],
      "metadata": {
        "id": "QsLZ7yAWCJQA"
      }
    },
    {
      "cell_type": "markdown",
      "source": [
        "Cross Validation"
      ],
      "metadata": {
        "id": "H9qW8iqUDDH1"
      }
    },
    {
      "cell_type": "code",
      "source": [
        "lr_classifier = LogisticRegression()\n"
      ],
      "metadata": {
        "id": "Rk9mjlQYCJyx"
      },
      "execution_count": 29,
      "outputs": []
    },
    {
      "cell_type": "code",
      "source": [
        "cv_predicted_labels_lr = cross_val_predict(lr_classifier, X_train, y_train, cv=5)\n"
      ],
      "metadata": {
        "id": "Oe-SYCaUCddd"
      },
      "execution_count": 30,
      "outputs": []
    },
    {
      "cell_type": "code",
      "source": [
        "accuracy_lr = accuracy_score(y_train, cv_predicted_labels_lr)\n",
        "print(\"Accuracy with cross-validation (Logistic Regression):\", accuracy_lr)\n",
        "\n",
        "roc_auc_lr = roc_auc_score(y_train, cv_predicted_labels_lr)\n",
        "print(\"ROC AUC score with cross-validation (Logistic Regression):\", roc_auc_lr)"
      ],
      "metadata": {
        "colab": {
          "base_uri": "https://localhost:8080/"
        },
        "id": "Xco1RT-qCgKY",
        "outputId": "9b1b5ac1-8e5c-48dc-e33e-aaf7104f9134"
      },
      "execution_count": 31,
      "outputs": [
        {
          "output_type": "stream",
          "name": "stdout",
          "text": [
            "Accuracy with cross-validation (Logistic Regression): 0.781124738771455\n",
            "ROC AUC score with cross-validation (Logistic Regression): 0.5\n"
          ]
        }
      ]
    },
    {
      "cell_type": "markdown",
      "source": [
        "The results before and after cross-validation for the Logistic Regression model remained consistent, with an accuracy of approximately 78.1% and a ROC AUC score of 0.5. This suggests that the model's ability to distinguish between the positive and negative classes did not improve with cross-validation. Despite its widespread use for model evaluation, cross-validation did not lead to notable changes in the model's performance metrics in this case."
      ],
      "metadata": {
        "id": "pzPJpoS6DBET"
      }
    },
    {
      "cell_type": "markdown",
      "source": [
        "Random Forest"
      ],
      "metadata": {
        "id": "0q8eozkrDxaN"
      }
    },
    {
      "cell_type": "code",
      "source": [
        "# initialize the Random Forest classifier and fit it to the resampled training data\n",
        "RF_classifier = RandomForestClassifier(n_estimators=100)\n",
        "RF_classifier.fit(X_train_resampled, y_train_resampled)\n",
        "\n",
        "# make predictions on the test data\n",
        "y_pred = RF_classifier.predict(X_test)\n",
        "\n",
        "# calculate metric evaluation and confusion matrix\n",
        "accurary = accuracy_score(y_test, y_pred)\n",
        "cm = confusion_matrix(y_test, y_pred)\n",
        "\n",
        "print(\"=\"*55)\n",
        "print(\"Accuracy     :\", accurary)\n",
        "print(\"ROC AUC Score:\", roc_auc_score(y_test, y_pred))\n",
        "\n",
        "print(\"--\"*55)\n",
        "print(\"Classification Report:\\n\\n\", classification_report(y_test, y_pred))\n",
        "print(\"--\"*55)\n",
        "\n",
        "print(\"Confusion Matrix:\\n\\n\", cm)\n",
        "print(\"--\"*55)"
      ],
      "metadata": {
        "colab": {
          "base_uri": "https://localhost:8080/"
        },
        "id": "c3XvDmjHDwun",
        "outputId": "7328a539-1f83-4e6e-dbba-544bcf4193fc"
      },
      "execution_count": 32,
      "outputs": [
        {
          "output_type": "stream",
          "name": "stdout",
          "text": [
            "=======================================================\n",
            "Accuracy     : 0.9820739822938108\n",
            "ROC AUC Score: 0.9884270113907274\n",
            "--------------------------------------------------------------------------------------------------------------\n",
            "Classification Report:\n",
            "\n",
            "               precision    recall  f1-score   support\n",
            "\n",
            "           0       1.00      0.98      0.99     39087\n",
            "           1       0.92      1.00      0.96     10952\n",
            "\n",
            "    accuracy                           0.98     50039\n",
            "   macro avg       0.96      0.99      0.97     50039\n",
            "weighted avg       0.98      0.98      0.98     50039\n",
            "\n",
            "--------------------------------------------------------------------------------------------------------------\n",
            "Confusion Matrix:\n",
            "\n",
            " [[38193   894]\n",
            " [    3 10949]]\n",
            "--------------------------------------------------------------------------------------------------------------\n"
          ]
        }
      ]
    },
    {
      "cell_type": "markdown",
      "source": [
        "The initial Random Forest model demonstrated exceptional performance, achieving an accuracy of 99.9% and an ROC AUC score of 99.9%. It exhibited perfect precision, recall, and F1-score for both classes, indicating flawless classification. The confusion matrix further confirmed this, with only a handful of misclassified instances, demonstrating the model's robustness.\n",
        "\n",
        "After feature scaling and dropping, the Random Forest model's performance remained strong, with an accuracy of approximately 97.9% and an ROC AUC score of approximately 98.7%. While still impressive, there was a slight reduction in accuracy and ROC AUC score compared to the initial model. However, the model maintained high precision, recall, and F1-scores for both classes. The confusion matrix revealed a small increase in misclassifications for the minority class, but overall, the model continued to perform admirably.\n",
        "\n",
        "In summary, the Random Forest model exhibited remarkable performance in both iterations, showcasing its effectiveness in handling complex classification tasks. Despite minor adjustments due to feature scaling and dropping, the model retained its high predictive power, underscoring its suitability for the task at hand."
      ],
      "metadata": {
        "id": "wQv6XARJEb11"
      }
    },
    {
      "cell_type": "code",
      "source": [
        "chart = 'Random Forest'\n",
        "\n",
        "plot_cm(cm, chart)"
      ],
      "metadata": {
        "colab": {
          "base_uri": "https://localhost:8080/",
          "height": 533
        },
        "id": "ePh385MmEEpG",
        "outputId": "ade108dd-1e5c-4f0a-900c-f2b9a1598efc"
      },
      "execution_count": 33,
      "outputs": [
        {
          "output_type": "display_data",
          "data": {
            "text/plain": [
              "<Figure size 600x500 with 2 Axes>"
            ],
            "image/png": "[encoded data removed]"
          },
          "metadata": {}
        }
      ]
    },
    {
      "cell_type": "markdown",
      "source": [
        "Class 0: BEV\n",
        "\n",
        "Class 1: PHEV"
      ],
      "metadata": {
        "id": "YO_YSifdElaJ"
      }
    },
    {
      "cell_type": "markdown",
      "source": [
        "Cross Validation"
      ],
      "metadata": {
        "id": "v1B3f8pmG6Pz"
      }
    },
    {
      "cell_type": "code",
      "source": [
        "rf_classifier = RandomForestClassifier()\n"
      ],
      "metadata": {
        "id": "qhS9_nCsGuht"
      },
      "execution_count": 34,
      "outputs": []
    },
    {
      "cell_type": "code",
      "source": [
        "cv_predicted_labels_rf = cross_val_predict(rf_classifier, X_train, y_train, cv=5)\n"
      ],
      "metadata": {
        "id": "PhxsIvlJG9FW"
      },
      "execution_count": 35,
      "outputs": []
    },
    {
      "cell_type": "code",
      "source": [
        "accuracy_rf = accuracy_score(y_train, cv_predicted_labels_rf)\n",
        "print(\"Accuracy with cross-validation (Random Forest):\", accuracy_rf)\n",
        "\n",
        "roc_auc_rf = roc_auc_score(y_train, cv_predicted_labels_rf)\n",
        "print(\"ROC AUC score with cross-validation (Random Forest):\", roc_auc_rf)"
      ],
      "metadata": {
        "colab": {
          "base_uri": "https://localhost:8080/"
        },
        "id": "3-bEL780HAlQ",
        "outputId": "f3fd3ecc-6557-4c11-e8d7-7744b3d4fa0d"
      },
      "execution_count": 36,
      "outputs": [
        {
          "output_type": "stream",
          "name": "stdout",
          "text": [
            "Accuracy with cross-validation (Random Forest): 0.9998372674637706\n",
            "ROC AUC score with cross-validation (Random Forest): 0.9998676679820891\n"
          ]
        }
      ]
    },
    {
      "cell_type": "markdown",
      "source": [
        "The Random Forest model demonstrated a remarkable improvement in performance after cross-validation. Prior to cross-validation, the model achieved an accuracy of approximately 97.93% and an ROC AUC score of about 98.66%. However, after cross-validation, its accuracy surged to an impressive 99.98%, accompanied by a remarkable ROC AUC score of 99.99%. This significant enhancement underscores the effectiveness of cross-validation in refining the model's predictive capabilities and ensuring its robustness across various data subsets. Overall, the Random Forest model exhibited outstanding performance, showcasing its ability to accurately classify data and its strong generalization potential."
      ],
      "metadata": {
        "id": "v4-9u75AHize"
      }
    },
    {
      "cell_type": "markdown",
      "source": [
        "XGBoost"
      ],
      "metadata": {
        "id": "6zkD8QaAGJ92"
      }
    },
    {
      "cell_type": "code",
      "source": [
        "params = {\n",
        "    'objective': 'binary:logistic',\n",
        "    'eval_metric': 'logloss',\n",
        "    'eta': 0.1,\n",
        "    'max_depth': 3,\n",
        "    'min_child_weight': 1,\n",
        "    'gamma': 0,\n",
        "    'subsample': 0.8,\n",
        "    'colsample_bytree': 0.8,\n",
        "    'seed': 42\n",
        "}\n",
        "\n",
        "# initialize the XGBoost classifier and fit it to the resampled training data\n",
        "XGB_classifier = xgb.XGBClassifier(**params)\n",
        "XGB_classifier.fit(X_train_resampled, y_train_resampled)\n",
        "\n",
        "# make predictions on the test data\n",
        "y_pred = XGB_classifier.predict(X_test)\n",
        "\n",
        "# calculate metric evaluation and confusion matrix\n",
        "accurary = accuracy_score(y_test, y_pred)\n",
        "cm = confusion_matrix(y_test, y_pred)\n",
        "\n",
        "# print the result\n",
        "print(\"--\"*55)\n",
        "print(\"Accuracy     :\", accurary)\n",
        "print(\"ROC AUC Score:\", roc_auc_score(y_test, y_pred))\n",
        "\n",
        "print(\"--\"*55)\n",
        "print(\"Classification Report:\\n\\n\", classification_report(y_test, y_pred))\n",
        "print(\"--\"*55)\n",
        "\n",
        "print(\"Confusion Matrix:\\n\\n\", cm)"
      ],
      "metadata": {
        "colab": {
          "base_uri": "https://localhost:8080/"
        },
        "id": "MintntX6EmAx",
        "outputId": "7aff4291-2f13-498c-a3a6-e2f9c6d15875"
      },
      "execution_count": 37,
      "outputs": [
        {
          "output_type": "stream",
          "name": "stdout",
          "text": [
            "--------------------------------------------------------------------------------------------------------------\n",
            "Accuracy     : 0.9913867183596794\n",
            "ROC AUC Score: 0.994322349043133\n",
            "--------------------------------------------------------------------------------------------------------------\n",
            "Classification Report:\n",
            "\n",
            "               precision    recall  f1-score   support\n",
            "\n",
            "           0       1.00      0.99      0.99     39087\n",
            "           1       0.96      1.00      0.98     10952\n",
            "\n",
            "    accuracy                           0.99     50039\n",
            "   macro avg       0.98      0.99      0.99     50039\n",
            "weighted avg       0.99      0.99      0.99     50039\n",
            "\n",
            "--------------------------------------------------------------------------------------------------------------\n",
            "Confusion Matrix:\n",
            "\n",
            " [[38661   426]\n",
            " [    5 10947]]\n"
          ]
        }
      ]
    },
    {
      "cell_type": "markdown",
      "source": [
        "The initial XGBoost model exhibited outstanding performance, achieving an accuracy of 99.9% and an ROC AUC score of 99.9%. With perfect precision, recall, and F1-scores for both classes, the model demonstrated flawless classification. The confusion matrix confirmed minimal misclassifications, highlighting the model's robustness.\n",
        "\n",
        "Following feature scaling and dropping, the XGBoost model's performance remained strong, with an accuracy of approximately 99.1% and an ROC AUC score of approximately 99.4%. While there was a slight decrease in accuracy and ROC AUC score compared to the initial model, the model maintained high precision, recall, and F1-scores for both classes. The confusion matrix revealed a small increase in misclassifications for the minority class, but overall, the model continued to exhibit impressive performance.\n",
        "\n",
        "In summary, the XGBoost model demonstrated exceptional performance in both iterations, showcasing its effectiveness in handling complex classification tasks. Despite minor adjustments due to feature scaling and dropping, the model retained its high predictive power, underscoring its suitability for the task at hand."
      ],
      "metadata": {
        "id": "zt9W5vY2GsSy"
      }
    },
    {
      "cell_type": "code",
      "source": [
        "chart = 'XGBoost'\n",
        "\n",
        "plot_cm(cm, chart)"
      ],
      "metadata": {
        "colab": {
          "base_uri": "https://localhost:8080/",
          "height": 533
        },
        "id": "jWEPNM--H9nB",
        "outputId": "f65ac70c-6ae2-489e-e94a-9ee244119f25"
      },
      "execution_count": 38,
      "outputs": [
        {
          "output_type": "display_data",
          "data": {
            "text/plain": [
              "<Figure size 600x500 with 2 Axes>"
            ],
            "image/png": "[encoded data removed]"
          },
          "metadata": {}
        }
      ]
    },
    {
      "cell_type": "markdown",
      "source": [
        "Class 0: BEV\n",
        "\n",
        "Class 1: PHEV"
      ],
      "metadata": {
        "id": "4Hvj6hzAIFzD"
      }
    },
    {
      "cell_type": "markdown",
      "source": [
        "Cross Validation"
      ],
      "metadata": {
        "id": "CvaoIPQyIL_T"
      }
    },
    {
      "cell_type": "code",
      "source": [
        "xgb_classifier = XGBClassifier()\n"
      ],
      "metadata": {
        "id": "NTTdtbxOIGRQ"
      },
      "execution_count": 39,
      "outputs": []
    },
    {
      "cell_type": "code",
      "source": [
        "cv_predicted_labels_xgb = cross_val_predict(xgb_classifier, X_train, y_train, cv=5)\n"
      ],
      "metadata": {
        "id": "RgDZRvuVIfnW"
      },
      "execution_count": 40,
      "outputs": []
    },
    {
      "cell_type": "code",
      "source": [
        "accuracy_xgb = accuracy_score(y_train, cv_predicted_labels_xgb)\n",
        "print(\"Accuracy with cross-validation (XGBoost):\", accuracy_xgb)\n",
        "\n",
        "roc_auc_xgb = roc_auc_score(y_train, cv_predicted_labels_xgb)\n",
        "print(\"ROC AUC score with cross-validation (XGBoost):\", roc_auc_xgb)"
      ],
      "metadata": {
        "colab": {
          "base_uri": "https://localhost:8080/"
        },
        "id": "jRVTPSauIhuH",
        "outputId": "27898edd-82c4-40b6-bc76-189cd8d84579"
      },
      "execution_count": 41,
      "outputs": [
        {
          "output_type": "stream",
          "name": "stdout",
          "text": [
            "Accuracy with cross-validation (XGBoost): 0.9999057864263935\n",
            "ROC AUC score with cross-validation (XGBoost): 0.9998692774101849\n"
          ]
        }
      ]
    },
    {
      "cell_type": "markdown",
      "source": [
        "The XGBoost model showcased a notable enhancement in performance after cross-validation. Prior to cross-validation, the model achieved an accuracy of approximately 99.14% and an ROC AUC score of about 99.43%. Following cross-validation, the model's accuracy surged to an impressive 99.99%, accompanied by a remarkable ROC AUC score of 99.99%. This substantial improvement underscores the effectiveness of cross-validation in refining the model's predictive capabilities and ensuring its robustness across various data subsets. Overall, the XGBoost model exhibited outstanding performance, demonstrating its ability to accurately classify data and its strong generalization potential, particularly evident after cross-validation."
      ],
      "metadata": {
        "id": "6D0Xy6xhI20u"
      }
    },
    {
      "cell_type": "code",
      "source": [
        "nb_classifier.fit(X_train, y_train)\n"
      ],
      "metadata": {
        "colab": {
          "base_uri": "https://localhost:8080/",
          "height": 74
        },
        "id": "mqPKyRMaIoG5",
        "outputId": "fa7887d3-c146-4aa7-969d-7aca008299cc"
      },
      "execution_count": 42,
      "outputs": [
        {
          "output_type": "execute_result",
          "data": {
            "text/plain": [
              "GaussianNB()"
            ],
            "text/html": [
              "<style>#sk-container-id-1 {color: black;background-color: white;}#sk-container-id-1 pre{padding: 0;}#sk-container-id-1 div.sk-toggleable {background-color: white;}#sk-container-id-1 label.sk-toggleable__label {cursor: pointer;display: block;width: 100%;margin-bottom: 0;padding: 0.3em;box-sizing: border-box;text-align: center;}#sk-container-id-1 label.sk-toggleable__label-arrow:before {content: \"▸\";float: left;margin-right: 0.25em;color: #696969;}#sk-container-id-1 label.sk-toggleable__label-arrow:hover:before {color: black;}#sk-container-id-1 div.sk-estimator:hover label.sk-toggleable__label-arrow:before {color: black;}#sk-container-id-1 div.sk-toggleable__content {max-height: 0;max-width: 0;overflow: hidden;text-align: left;background-color: #f0f8ff;}#sk-container-id-1 div.sk-toggleable__content pre {margin: 0.2em;color: black;border-radius: 0.25em;background-color: #f0f8ff;}#sk-container-id-1 input.sk-toggleable__control:checked~div.sk-toggleable__content {max-height: 200px;max-width: 100%;overflow: auto;}#sk-container-id-1 input.sk-toggleable__control:checked~label.sk-toggleable__label-arrow:before {content: \"▾\";}#sk-container-id-1 div.sk-estimator input.sk-toggleable__control:checked~label.sk-toggleable__label {background-color: #d4ebff;}#sk-container-id-1 div.sk-label input.sk-toggleable__control:checked~label.sk-toggleable__label {background-color: #d4ebff;}#sk-container-id-1 input.sk-hidden--visually {border: 0;clip: rect(1px 1px 1px 1px);clip: rect(1px, 1px, 1px, 1px);height: 1px;margin: -1px;overflow: hidden;padding: 0;position: absolute;width: 1px;}#sk-container-id-1 div.sk-estimator {font-family: monospace;background-color: #f0f8ff;border: 1px dotted black;border-radius: 0.25em;box-sizing: border-box;margin-bottom: 0.5em;}#sk-container-id-1 div.sk-estimator:hover {background-color: #d4ebff;}#sk-container-id-1 div.sk-parallel-item::after {content: \"\";width: 100%;border-bottom: 1px solid gray;flex-grow: 1;}#sk-container-id-1 div.sk-label:hover label.sk-toggleable__label {background-color: #d4ebff;}#sk-container-id-1 div.sk-serial::before {content: \"\";position: absolute;border-left: 1px solid gray;box-sizing: border-box;top: 0;bottom: 0;left: 50%;z-index: 0;}#sk-container-id-1 div.sk-serial {display: flex;flex-direction: column;align-items: center;background-color: white;padding-right: 0.2em;padding-left: 0.2em;position: relative;}#sk-container-id-1 div.sk-item {position: relative;z-index: 1;}#sk-container-id-1 div.sk-parallel {display: flex;align-items: stretch;justify-content: center;background-color: white;position: relative;}#sk-container-id-1 div.sk-item::before, #sk-container-id-1 div.sk-parallel-item::before {content: \"\";position: absolute;border-left: 1px solid gray;box-sizing: border-box;top: 0;bottom: 0;left: 50%;z-index: -1;}#sk-container-id-1 div.sk-parallel-item {display: flex;flex-direction: column;z-index: 1;position: relative;background-color: white;}#sk-container-id-1 div.sk-parallel-item:first-child::after {align-self: flex-end;width: 50%;}#sk-container-id-1 div.sk-parallel-item:last-child::after {align-self: flex-start;width: 50%;}#sk-container-id-1 div.sk-parallel-item:only-child::after {width: 0;}#sk-container-id-1 div.sk-dashed-wrapped {border: 1px dashed gray;margin: 0 0.4em 0.5em 0.4em;box-sizing: border-box;padding-bottom: 0.4em;background-color: white;}#sk-container-id-1 div.sk-label label {font-family: monospace;font-weight: bold;display: inline-block;line-height: 1.2em;}#sk-container-id-1 div.sk-label-container {text-align: center;}#sk-container-id-1 div.sk-container {/* jupyter's `normalize.less` sets `[hidden] { display: none; }` but bootstrap.min.css set `[hidden] { display: none !important; }` so we also need the `!important` here to be able to override the default hidden behavior on the sphinx rendered scikit-learn.org. See: https://github.com/scikit-learn/scikit-learn/issues/21755 */display: inline-block !important;position: relative;}#sk-container-id-1 div.sk-text-repr-fallback {display: none;}</style><div id=\"sk-container-id-1\" class=\"sk-top-container\"><div class=\"sk-text-repr-fallback\"><pre>GaussianNB()</pre><b>In a Jupyter environment, please rerun this cell to show the HTML representation or trust the notebook. <br />On GitHub, the HTML representation is unable to render, please try loading this page with nbviewer.org.</b></div><div class=\"sk-container\" hidden><div class=\"sk-item\"><div class=\"sk-estimator sk-toggleable\"><input class=\"sk-toggleable__control sk-hidden--visually\" id=\"sk-estimator-id-1\" type=\"checkbox\" checked><label for=\"sk-estimator-id-1\" class=\"sk-toggleable__label sk-toggleable__label-arrow\">GaussianNB</label><div class=\"sk-toggleable__content\"><pre>GaussianNB()</pre></div></div></div></div></div>"
            ]
          },
          "metadata": {},
          "execution_count": 42
        }
      ]
    },
    {
      "cell_type": "code",
      "source": [
        "nb_classifier.fit(X_train, y_train)\n",
        "\n",
        "# Calculate accuracy and ROC-AUC scores for test set for each model\n",
        "dict_result = {'Model': ['Naive Bayes', 'Logistic Regression', 'Random Forest', 'XGBoost'],\n",
        "               \"Accuracy (test)\": [accuracy_score(y_test, nb_classifier.predict(X_test)),\n",
        "                                   accuracy_score(y_test, LR_classifier.predict(X_test)),\n",
        "                                   accuracy_score(y_test, RF_classifier.predict(X_test)),\n",
        "                                   accuracy_score(y_test, XGB_classifier.predict(X_test))],\n",
        "               \"ROC-AUC (test)\": [roc_auc_score(y_test, nb_classifier.predict_proba(X_test)[:, 1]),\n",
        "                                   roc_auc_score(y_test, LR_classifier.predict_proba(X_test)[:, 1]),\n",
        "                                   roc_auc_score(y_test, RF_classifier.predict_proba(X_test)[:, 1]),\n",
        "                                   roc_auc_score(y_test, XGB_classifier.predict_proba(X_test)[:, 1])]}\n",
        "\n",
        "# Create DataFrame\n",
        "model_result = pd.DataFrame(dict_result).sort_values(by=['ROC-AUC (test)', 'Accuracy (test)'], ascending=False).reset_index(drop=True)\n",
        "model_result"
      ],
      "metadata": {
        "colab": {
          "base_uri": "https://localhost:8080/",
          "height": 174
        },
        "id": "8yBZJTmuMfbK",
        "outputId": "18fa462d-6ea1-41f1-e481-b6df98481194"
      },
      "execution_count": 43,
      "outputs": [
        {
          "output_type": "execute_result",
          "data": {
            "text/plain": [
              "                 Model  Accuracy (test)  ROC-AUC (test)\n",
              "0              XGBoost         0.991387        0.999793\n",
              "1        Random Forest         0.982074        0.999787\n",
              "2  Logistic Regression         0.781131        0.499715\n",
              "3          Naive Bayes         0.780531        0.494446"
            ],
            "text/html": [
              "\n",
              "  <div id=\"df-52a37adf-10b3-4cce-a27f-f6bfa276f87a\" class=\"colab-df-container\">\n",
              "    <div>\n",
              "<style scoped>\n",
              "    .dataframe tbody tr th:only-of-type {\n",
              "        vertical-align: middle;\n",
              "    }\n",
              "\n",
              "    .dataframe tbody tr th {\n",
              "        vertical-align: top;\n",
              "    }\n",
              "\n",
              "    .dataframe thead th {\n",
              "        text-align: right;\n",
              "    }\n",
              "</style>\n",
              "<table border=\"1\" class=\"dataframe\">\n",
              "  <thead>\n",
              "    <tr style=\"text-align: right;\">\n",
              "      <th></th>\n",
              "      <th>Model</th>\n",
              "      <th>Accuracy (test)</th>\n",
              "      <th>ROC-AUC (test)</th>\n",
              "    </tr>\n",
              "  </thead>\n",
              "  <tbody>\n",
              "    <tr>\n",
              "      <th>0</th>\n",
              "      <td>XGBoost</td>\n",
              "      <td>0.991387</td>\n",
              "      <td>0.999793</td>\n",
              "    </tr>\n",
              "    <tr>\n",
              "      <th>1</th>\n",
              "      <td>Random Forest</td>\n",
              "      <td>0.982074</td>\n",
              "      <td>0.999787</td>\n",
              "    </tr>\n",
              "    <tr>\n",
              "      <th>2</th>\n",
              "      <td>Logistic Regression</td>\n",
              "      <td>0.781131</td>\n",
              "      <td>0.499715</td>\n",
              "    </tr>\n",
              "    <tr>\n",
              "      <th>3</th>\n",
              "      <td>Naive Bayes</td>\n",
              "      <td>0.780531</td>\n",
              "      <td>0.494446</td>\n",
              "    </tr>\n",
              "  </tbody>\n",
              "</table>\n",
              "</div>\n",
              "    <div class=\"colab-df-buttons\">\n",
              "\n",
              "  <div class=\"colab-df-container\">\n",
              "    <button class=\"colab-df-convert\" onclick=\"convertToInteractive('df-52a37adf-10b3-4cce-a27f-f6bfa276f87a')\"\n",
              "            title=\"Convert this dataframe to an interactive table.\"\n",
              "            style=\"display:none;\">\n",
              "\n",
              "  <svg xmlns=\"http://www.w3.org/2000/svg\" height=\"24px\" viewBox=\"0 -960 960 960\">\n",
              "    <path d=\"M120-120v-720h720v720H120Zm60-500h600v-160H180v160Zm220 220h160v-160H400v160Zm0 220h160v-160H400v160ZM180-400h160v-160H180v160Zm440 0h160v-160H620v160ZM180-180h160v-160H180v160Zm440 0h160v-160H620v160Z\"/>\n",
              "  </svg>\n",
              "    </button>\n",
              "\n",
              "  <style>\n",
              "    .colab-df-container {\n",
              "      display:flex;\n",
              "      gap: 12px;\n",
              "    }\n",
              "\n",
              "    .colab-df-convert {\n",
              "      background-color: #E8F0FE;\n",
              "      border: none;\n",
              "      border-radius: 50%;\n",
              "      cursor: pointer;\n",
              "      display: none;\n",
              "      fill: #1967D2;\n",
              "      height: 32px;\n",
              "      padding: 0 0 0 0;\n",
              "      width: 32px;\n",
              "    }\n",
              "\n",
              "    .colab-df-convert:hover {\n",
              "      background-color: #E2EBFA;\n",
              "      box-shadow: 0px 1px 2px rgba(60, 64, 67, 0.3), 0px 1px 3px 1px rgba(60, 64, 67, 0.15);\n",
              "      fill: #174EA6;\n",
              "    }\n",
              "\n",
              "    .colab-df-buttons div {\n",
              "      margin-bottom: 4px;\n",
              "    }\n",
              "\n",
              "    [theme=dark] .colab-df-convert {\n",
              "      background-color: #3B4455;\n",
              "      fill: #D2E3FC;\n",
              "    }\n",
              "\n",
              "    [theme=dark] .colab-df-convert:hover {\n",
              "      background-color: #434B5C;\n",
              "      box-shadow: 0px 1px 3px 1px rgba(0, 0, 0, 0.15);\n",
              "      filter: drop-shadow(0px 1px 2px rgba(0, 0, 0, 0.3));\n",
              "      fill: #FFFFFF;\n",
              "    }\n",
              "  </style>\n",
              "\n",
              "    <script>\n",
              "      const buttonEl =\n",
              "        document.querySelector('#df-52a37adf-10b3-4cce-a27f-f6bfa276f87a button.colab-df-convert');\n",
              "      buttonEl.style.display =\n",
              "        google.colab.kernel.accessAllowed ? 'block' : 'none';\n",
              "\n",
              "      async function convertToInteractive(key) {\n",
              "        const element = document.querySelector('#df-52a37adf-10b3-4cce-a27f-f6bfa276f87a');\n",
              "        const dataTable =\n",
              "          await google.colab.kernel.invokeFunction('convertToInteractive',\n",
              "                                                    [key], {});\n",
              "        if (!dataTable) return;\n",
              "\n",
              "        const docLinkHtml = 'Like what you see? Visit the ' +\n",
              "          '<a target=\"_blank\" href=https://colab.research.google.com/notebooks/data_table.ipynb>data table notebook</a>'\n",
              "          + ' to learn more about interactive tables.';\n",
              "        element.innerHTML = '';\n",
              "        dataTable['output_type'] = 'display_data';\n",
              "        await google.colab.output.renderOutput(dataTable, element);\n",
              "        const docLink = document.createElement('div');\n",
              "        docLink.innerHTML = docLinkHtml;\n",
              "        element.appendChild(docLink);\n",
              "      }\n",
              "    </script>\n",
              "  </div>\n",
              "\n",
              "\n",
              "<div id=\"df-c25df773-e853-4f08-9cfa-f0e50be8847b\">\n",
              "  <button class=\"colab-df-quickchart\" onclick=\"quickchart('df-c25df773-e853-4f08-9cfa-f0e50be8847b')\"\n",
              "            title=\"Suggest charts\"\n",
              "            style=\"display:none;\">\n",
              "\n",
              "<svg xmlns=\"http://www.w3.org/2000/svg\" height=\"24px\"viewBox=\"0 0 24 24\"\n",
              "     width=\"24px\">\n",
              "    <g>\n",
              "        <path d=\"M19 3H5c-1.1 0-2 .9-2 2v14c0 1.1.9 2 2 2h14c1.1 0 2-.9 2-2V5c0-1.1-.9-2-2-2zM9 17H7v-7h2v7zm4 0h-2V7h2v10zm4 0h-2v-4h2v4z\"/>\n",
              "    </g>\n",
              "</svg>\n",
              "  </button>\n",
              "\n",
              "<style>\n",
              "  .colab-df-quickchart {\n",
              "      --bg-color: #E8F0FE;\n",
              "      --fill-color: #1967D2;\n",
              "      --hover-bg-color: #E2EBFA;\n",
              "      --hover-fill-color: #174EA6;\n",
              "      --disabled-fill-color: #AAA;\n",
              "      --disabled-bg-color: #DDD;\n",
              "  }\n",
              "\n",
              "  [theme=dark] .colab-df-quickchart {\n",
              "      --bg-color: #3B4455;\n",
              "      --fill-color: #D2E3FC;\n",
              "      --hover-bg-color: #434B5C;\n",
              "      --hover-fill-color: #FFFFFF;\n",
              "      --disabled-bg-color: #3B4455;\n",
              "      --disabled-fill-color: #666;\n",
              "  }\n",
              "\n",
              "  .colab-df-quickchart {\n",
              "    background-color: var(--bg-color);\n",
              "    border: none;\n",
              "    border-radius: 50%;\n",
              "    cursor: pointer;\n",
              "    display: none;\n",
              "    fill: var(--fill-color);\n",
              "    height: 32px;\n",
              "    padding: 0;\n",
              "    width: 32px;\n",
              "  }\n",
              "\n",
              "  .colab-df-quickchart:hover {\n",
              "    background-color: var(--hover-bg-color);\n",
              "    box-shadow: 0 1px 2px rgba(60, 64, 67, 0.3), 0 1px 3px 1px rgba(60, 64, 67, 0.15);\n",
              "    fill: var(--button-hover-fill-color);\n",
              "  }\n",
              "\n",
              "  .colab-df-quickchart-complete:disabled,\n",
              "  .colab-df-quickchart-complete:disabled:hover {\n",
              "    background-color: var(--disabled-bg-color);\n",
              "    fill: var(--disabled-fill-color);\n",
              "    box-shadow: none;\n",
              "  }\n",
              "\n",
              "  .colab-df-spinner {\n",
              "    border: 2px solid var(--fill-color);\n",
              "    border-color: transparent;\n",
              "    border-bottom-color: var(--fill-color);\n",
              "    animation:\n",
              "      spin 1s steps(1) infinite;\n",
              "  }\n",
              "\n",
              "  @keyframes spin {\n",
              "    0% {\n",
              "      border-color: transparent;\n",
              "      border-bottom-color: var(--fill-color);\n",
              "      border-left-color: var(--fill-color);\n",
              "    }\n",
              "    20% {\n",
              "      border-color: transparent;\n",
              "      border-left-color: var(--fill-color);\n",
              "      border-top-color: var(--fill-color);\n",
              "    }\n",
              "    30% {\n",
              "      border-color: transparent;\n",
              "      border-left-color: var(--fill-color);\n",
              "      border-top-color: var(--fill-color);\n",
              "      border-right-color: var(--fill-color);\n",
              "    }\n",
              "    40% {\n",
              "      border-color: transparent;\n",
              "      border-right-color: var(--fill-color);\n",
              "      border-top-color: var(--fill-color);\n",
              "    }\n",
              "    60% {\n",
              "      border-color: transparent;\n",
              "      border-right-color: var(--fill-color);\n",
              "    }\n",
              "    80% {\n",
              "      border-color: transparent;\n",
              "      border-right-color: var(--fill-color);\n",
              "      border-bottom-color: var(--fill-color);\n",
              "    }\n",
              "    90% {\n",
              "      border-color: transparent;\n",
              "      border-bottom-color: var(--fill-color);\n",
              "    }\n",
              "  }\n",
              "</style>\n",
              "\n",
              "  <script>\n",
              "    async function quickchart(key) {\n",
              "      const quickchartButtonEl =\n",
              "        document.querySelector('#' + key + ' button');\n",
              "      quickchartButtonEl.disabled = true;  // To prevent multiple clicks.\n",
              "      quickchartButtonEl.classList.add('colab-df-spinner');\n",
              "      try {\n",
              "        const charts = await google.colab.kernel.invokeFunction(\n",
              "            'suggestCharts', [key], {});\n",
              "      } catch (error) {\n",
              "        console.error('Error during call to suggestCharts:', error);\n",
              "      }\n",
              "      quickchartButtonEl.classList.remove('colab-df-spinner');\n",
              "      quickchartButtonEl.classList.add('colab-df-quickchart-complete');\n",
              "    }\n",
              "    (() => {\n",
              "      let quickchartButtonEl =\n",
              "        document.querySelector('#df-c25df773-e853-4f08-9cfa-f0e50be8847b button');\n",
              "      quickchartButtonEl.style.display =\n",
              "        google.colab.kernel.accessAllowed ? 'block' : 'none';\n",
              "    })();\n",
              "  </script>\n",
              "</div>\n",
              "    </div>\n",
              "  </div>\n"
            ],
            "application/vnd.google.colaboratory.intrinsic+json": {
              "type": "dataframe",
              "variable_name": "model_result",
              "summary": "{\n  \"name\": \"model_result\",\n  \"rows\": 4,\n  \"fields\": [\n    {\n      \"column\": \"Model\",\n      \"properties\": {\n        \"dtype\": \"string\",\n        \"num_unique_values\": 4,\n        \"samples\": [\n          \"Random Forest\",\n          \"Naive Bayes\",\n          \"XGBoost\"\n        ],\n        \"semantic_type\": \"\",\n        \"description\": \"\"\n      }\n    },\n    {\n      \"column\": \"Accuracy (test)\",\n      \"properties\": {\n        \"dtype\": \"number\",\n        \"std\": 0.11893710597905713,\n        \"min\": 0.7805311856751733,\n        \"max\": 0.9913867183596794,\n        \"num_unique_values\": 4,\n        \"samples\": [\n          0.9820739822938108,\n          0.7805311856751733,\n          0.9913867183596794\n        ],\n        \"semantic_type\": \"\",\n        \"description\": \"\"\n      }\n    },\n    {\n      \"column\": \"ROC-AUC (test)\",\n      \"properties\": {\n        \"dtype\": \"number\",\n        \"std\": 0.2902474675917495,\n        \"min\": 0.49444587127780343,\n        \"max\": 0.9997933883158475,\n        \"num_unique_values\": 4,\n        \"samples\": [\n          0.9997869257511989,\n          0.49444587127780343,\n          0.9997933883158475\n        ],\n        \"semantic_type\": \"\",\n        \"description\": \"\"\n      }\n    }\n  ]\n}"
            }
          },
          "metadata": {},
          "execution_count": 43
        }
      ]
    },
    {
      "cell_type": "markdown",
      "source": [
        "Overall, XGBoost and Random Forest outperformed Logistic Regression and Naive Bayes in terms of both accuracy and ROC-AUC score, indicating their suitability for the classification task at hand. Further optimization and fine-tuning of the models may enhance their performance and generalization capabilities.\n",
        "\n",
        "\n",
        "\n",
        "\n",
        "\n"
      ],
      "metadata": {
        "id": "AjI1z7PdNAnm"
      }
    },
    {
      "cell_type": "code",
      "source": [
        "best_rf_model = RandomForestClassifier()\n"
      ],
      "metadata": {
        "id": "-b0riVGYQP9h"
      },
      "execution_count": 44,
      "outputs": []
    },
    {
      "cell_type": "code",
      "source": [
        "best_rf_model.fit(X_train, y_train)\n"
      ],
      "metadata": {
        "colab": {
          "base_uri": "https://localhost:8080/",
          "height": 74
        },
        "id": "7Tq_2qDoQRE9",
        "outputId": "7ca0ee46-d6c6-4530-c5e0-24690f86134b"
      },
      "execution_count": 45,
      "outputs": [
        {
          "output_type": "execute_result",
          "data": {
            "text/plain": [
              "RandomForestClassifier()"
            ],
            "text/html": [
              "<style>#sk-container-id-2 {color: black;background-color: white;}#sk-container-id-2 pre{padding: 0;}#sk-container-id-2 div.sk-toggleable {background-color: white;}#sk-container-id-2 label.sk-toggleable__label {cursor: pointer;display: block;width: 100%;margin-bottom: 0;padding: 0.3em;box-sizing: border-box;text-align: center;}#sk-container-id-2 label.sk-toggleable__label-arrow:before {content: \"▸\";float: left;margin-right: 0.25em;color: #696969;}#sk-container-id-2 label.sk-toggleable__label-arrow:hover:before {color: black;}#sk-container-id-2 div.sk-estimator:hover label.sk-toggleable__label-arrow:before {color: black;}#sk-container-id-2 div.sk-toggleable__content {max-height: 0;max-width: 0;overflow: hidden;text-align: left;background-color: #f0f8ff;}#sk-container-id-2 div.sk-toggleable__content pre {margin: 0.2em;color: black;border-radius: 0.25em;background-color: #f0f8ff;}#sk-container-id-2 input.sk-toggleable__control:checked~div.sk-toggleable__content {max-height: 200px;max-width: 100%;overflow: auto;}#sk-container-id-2 input.sk-toggleable__control:checked~label.sk-toggleable__label-arrow:before {content: \"▾\";}#sk-container-id-2 div.sk-estimator input.sk-toggleable__control:checked~label.sk-toggleable__label {background-color: #d4ebff;}#sk-container-id-2 div.sk-label input.sk-toggleable__control:checked~label.sk-toggleable__label {background-color: #d4ebff;}#sk-container-id-2 input.sk-hidden--visually {border: 0;clip: rect(1px 1px 1px 1px);clip: rect(1px, 1px, 1px, 1px);height: 1px;margin: -1px;overflow: hidden;padding: 0;position: absolute;width: 1px;}#sk-container-id-2 div.sk-estimator {font-family: monospace;background-color: #f0f8ff;border: 1px dotted black;border-radius: 0.25em;box-sizing: border-box;margin-bottom: 0.5em;}#sk-container-id-2 div.sk-estimator:hover {background-color: #d4ebff;}#sk-container-id-2 div.sk-parallel-item::after {content: \"\";width: 100%;border-bottom: 1px solid gray;flex-grow: 1;}#sk-container-id-2 div.sk-label:hover label.sk-toggleable__label {background-color: #d4ebff;}#sk-container-id-2 div.sk-serial::before {content: \"\";position: absolute;border-left: 1px solid gray;box-sizing: border-box;top: 0;bottom: 0;left: 50%;z-index: 0;}#sk-container-id-2 div.sk-serial {display: flex;flex-direction: column;align-items: center;background-color: white;padding-right: 0.2em;padding-left: 0.2em;position: relative;}#sk-container-id-2 div.sk-item {position: relative;z-index: 1;}#sk-container-id-2 div.sk-parallel {display: flex;align-items: stretch;justify-content: center;background-color: white;position: relative;}#sk-container-id-2 div.sk-item::before, #sk-container-id-2 div.sk-parallel-item::before {content: \"\";position: absolute;border-left: 1px solid gray;box-sizing: border-box;top: 0;bottom: 0;left: 50%;z-index: -1;}#sk-container-id-2 div.sk-parallel-item {display: flex;flex-direction: column;z-index: 1;position: relative;background-color: white;}#sk-container-id-2 div.sk-parallel-item:first-child::after {align-self: flex-end;width: 50%;}#sk-container-id-2 div.sk-parallel-item:last-child::after {align-self: flex-start;width: 50%;}#sk-container-id-2 div.sk-parallel-item:only-child::after {width: 0;}#sk-container-id-2 div.sk-dashed-wrapped {border: 1px dashed gray;margin: 0 0.4em 0.5em 0.4em;box-sizing: border-box;padding-bottom: 0.4em;background-color: white;}#sk-container-id-2 div.sk-label label {font-family: monospace;font-weight: bold;display: inline-block;line-height: 1.2em;}#sk-container-id-2 div.sk-label-container {text-align: center;}#sk-container-id-2 div.sk-container {/* jupyter's `normalize.less` sets `[hidden] { display: none; }` but bootstrap.min.css set `[hidden] { display: none !important; }` so we also need the `!important` here to be able to override the default hidden behavior on the sphinx rendered scikit-learn.org. See: https://github.com/scikit-learn/scikit-learn/issues/21755 */display: inline-block !important;position: relative;}#sk-container-id-2 div.sk-text-repr-fallback {display: none;}</style><div id=\"sk-container-id-2\" class=\"sk-top-container\"><div class=\"sk-text-repr-fallback\"><pre>RandomForestClassifier()</pre><b>In a Jupyter environment, please rerun this cell to show the HTML representation or trust the notebook. <br />On GitHub, the HTML representation is unable to render, please try loading this page with nbviewer.org.</b></div><div class=\"sk-container\" hidden><div class=\"sk-item\"><div class=\"sk-estimator sk-toggleable\"><input class=\"sk-toggleable__control sk-hidden--visually\" id=\"sk-estimator-id-2\" type=\"checkbox\" checked><label for=\"sk-estimator-id-2\" class=\"sk-toggleable__label sk-toggleable__label-arrow\">RandomForestClassifier</label><div class=\"sk-toggleable__content\"><pre>RandomForestClassifier()</pre></div></div></div></div></div>"
            ]
          },
          "metadata": {},
          "execution_count": 45
        }
      ]
    },
    {
      "cell_type": "code",
      "source": [
        "# Create a DataFrame to store the predictions and concatenate them with the original train DataFrame\n",
        "predictions = pd.DataFrame({'Prediction': best_rf_model.predict(train.drop('Electric Vehicle Type', axis=1))})\n",
        "result = pd.concat([predictions, train], axis=1).rename(columns={'Electric Vehicle Type': 'Actual', 'Prediction': 'Predicted'})\n",
        "\n",
        "# Select the desired columns for the result DataFrame\n",
        "columns = ['Predicted', 'Actual', 'VIN (1-10)', 'County', 'City', 'Postal Code', 'Model Year', 'Make',\n",
        "           'Model', 'Clean Alternative Fuel Vehicle Eligibility', 'Electric Range', 'Base MSRP',\n",
        "           'Legislative District', 'DOL Vehicle ID', '2020 Census Tract', 'Longitude', 'Latitude']\n",
        "result = result[columns]\n",
        "\n",
        "# Map the numerical labels to their corresponding vehicle types\n",
        "result['Electric Vehicle Type (Actual)'] = result['Actual'].map({1: 'PHEV', 0: 'BEV'})\n",
        "result['Electric Vehicle Type (Predicted)'] = result['Predicted'].map({1: 'PHEV', 0: 'BEV'})\n",
        "\n",
        "# Convert specific columns to integer type\n",
        "integer_columns = ['Predicted', 'Actual', 'Postal Code', 'Model Year', 'Electric Range', 'Base MSRP',\n",
        "                   'Legislative District', '2020 Census Tract']\n",
        "\n",
        "# Convert columns to integer type, handling missing values appropriately\n",
        "for col in integer_columns:\n",
        "    result[col] = result[col].astype('Int64', errors='ignore')\n",
        "\n",
        "result.head()\n"
      ],
      "metadata": {
        "colab": {
          "base_uri": "https://localhost:8080/",
          "height": 330
        },
        "id": "POKLa3cZNBrk",
        "outputId": "2f9b0aa5-3d9f-4689-ee5b-9403b3378b82"
      },
      "execution_count": 46,
      "outputs": [
        {
          "output_type": "stream",
          "name": "stderr",
          "text": [
            "/usr/local/lib/python3.10/dist-packages/sklearn/base.py:432: UserWarning: X has feature names, but RandomForestClassifier was fitted without feature names\n",
            "  warnings.warn(\n"
          ]
        },
        {
          "output_type": "execute_result",
          "data": {
            "text/plain": [
              "   Predicted  Actual  VIN (1-10)    County      City  Postal Code  Model Year  \\\n",
              "0          0       0   -0.600904 -1.254228 -0.653917        98902   -2.113085   \n",
              "1          0       0   -0.615760 -1.122706 -0.298006        98513   -1.113511   \n",
              "2          1       1   -0.612046  0.955025 -0.239816        98058    0.885639   \n",
              "3          0       0   -0.266646 -0.773770 -0.154143        98012    0.885639   \n",
              "4          0       0    0.000761  0.955025 -0.449573        98031   -0.113936   \n",
              "\n",
              "       Make     Model  Clean Alternative Fuel Vehicle Eligibility  \\\n",
              "0 -1.435409 -0.994260                                   -1.116594   \n",
              "1  0.716447 -0.648724                                   -1.116594   \n",
              "2 -1.883713 -1.021891                                    1.949501   \n",
              "3  0.447465 -0.932949                                    0.416454   \n",
              "4  0.716447  1.105986                                   -1.116594   \n",
              "\n",
              "   Electric Range  Base MSRP  Legislative District  DOL Vehicle ID  \\\n",
              "0              87          0                    14       -2.790761   \n",
              "1             200          0                     2        0.516689   \n",
              "2              20          0                    11        0.088389   \n",
              "3               0          0                    21        0.554440   \n",
              "4             322          0                    33        0.472746   \n",
              "\n",
              "   2020 Census Tract   Longitude   Latitude Electric Vehicle Type (Actual)  \\\n",
              "0        53077000700 -120.524012  46.597394                            BEV   \n",
              "1        53067012331 -122.817545  46.988760                            BEV   \n",
              "2        53033025803 -122.129888  47.445126                           PHEV   \n",
              "3        53061051927 -122.187300  47.820245                            BEV   \n",
              "4        53033029305 -122.201252  47.393181                            BEV   \n",
              "\n",
              "  Electric Vehicle Type (Predicted)  \n",
              "0                               BEV  \n",
              "1                               BEV  \n",
              "2                              PHEV  \n",
              "3                               BEV  \n",
              "4                               BEV  "
            ],
            "text/html": [
              "\n",
              "  <div id=\"df-6df1c2f2-64a3-418e-81b7-a6d45d150a9d\" class=\"colab-df-container\">\n",
              "    <div>\n",
              "<style scoped>\n",
              "    .dataframe tbody tr th:only-of-type {\n",
              "        vertical-align: middle;\n",
              "    }\n",
              "\n",
              "    .dataframe tbody tr th {\n",
              "        vertical-align: top;\n",
              "    }\n",
              "\n",
              "    .dataframe thead th {\n",
              "        text-align: right;\n",
              "    }\n",
              "</style>\n",
              "<table border=\"1\" class=\"dataframe\">\n",
              "  <thead>\n",
              "    <tr style=\"text-align: right;\">\n",
              "      <th></th>\n",
              "      <th>Predicted</th>\n",
              "      <th>Actual</th>\n",
              "      <th>VIN (1-10)</th>\n",
              "      <th>County</th>\n",
              "      <th>City</th>\n",
              "      <th>Postal Code</th>\n",
              "      <th>Model Year</th>\n",
              "      <th>Make</th>\n",
              "      <th>Model</th>\n",
              "      <th>Clean Alternative Fuel Vehicle Eligibility</th>\n",
              "      <th>Electric Range</th>\n",
              "      <th>Base MSRP</th>\n",
              "      <th>Legislative District</th>\n",
              "      <th>DOL Vehicle ID</th>\n",
              "      <th>2020 Census Tract</th>\n",
              "      <th>Longitude</th>\n",
              "      <th>Latitude</th>\n",
              "      <th>Electric Vehicle Type (Actual)</th>\n",
              "      <th>Electric Vehicle Type (Predicted)</th>\n",
              "    </tr>\n",
              "  </thead>\n",
              "  <tbody>\n",
              "    <tr>\n",
              "      <th>0</th>\n",
              "      <td>0</td>\n",
              "      <td>0</td>\n",
              "      <td>-0.600904</td>\n",
              "      <td>-1.254228</td>\n",
              "      <td>-0.653917</td>\n",
              "      <td>98902</td>\n",
              "      <td>-2.113085</td>\n",
              "      <td>-1.435409</td>\n",
              "      <td>-0.994260</td>\n",
              "      <td>-1.116594</td>\n",
              "      <td>87</td>\n",
              "      <td>0</td>\n",
              "      <td>14</td>\n",
              "      <td>-2.790761</td>\n",
              "      <td>53077000700</td>\n",
              "      <td>-120.524012</td>\n",
              "      <td>46.597394</td>\n",
              "      <td>BEV</td>\n",
              "      <td>BEV</td>\n",
              "    </tr>\n",
              "    <tr>\n",
              "      <th>1</th>\n",
              "      <td>0</td>\n",
              "      <td>0</td>\n",
              "      <td>-0.615760</td>\n",
              "      <td>-1.122706</td>\n",
              "      <td>-0.298006</td>\n",
              "      <td>98513</td>\n",
              "      <td>-1.113511</td>\n",
              "      <td>0.716447</td>\n",
              "      <td>-0.648724</td>\n",
              "      <td>-1.116594</td>\n",
              "      <td>200</td>\n",
              "      <td>0</td>\n",
              "      <td>2</td>\n",
              "      <td>0.516689</td>\n",
              "      <td>53067012331</td>\n",
              "      <td>-122.817545</td>\n",
              "      <td>46.988760</td>\n",
              "      <td>BEV</td>\n",
              "      <td>BEV</td>\n",
              "    </tr>\n",
              "    <tr>\n",
              "      <th>2</th>\n",
              "      <td>1</td>\n",
              "      <td>1</td>\n",
              "      <td>-0.612046</td>\n",
              "      <td>0.955025</td>\n",
              "      <td>-0.239816</td>\n",
              "      <td>98058</td>\n",
              "      <td>0.885639</td>\n",
              "      <td>-1.883713</td>\n",
              "      <td>-1.021891</td>\n",
              "      <td>1.949501</td>\n",
              "      <td>20</td>\n",
              "      <td>0</td>\n",
              "      <td>11</td>\n",
              "      <td>0.088389</td>\n",
              "      <td>53033025803</td>\n",
              "      <td>-122.129888</td>\n",
              "      <td>47.445126</td>\n",
              "      <td>PHEV</td>\n",
              "      <td>PHEV</td>\n",
              "    </tr>\n",
              "    <tr>\n",
              "      <th>3</th>\n",
              "      <td>0</td>\n",
              "      <td>0</td>\n",
              "      <td>-0.266646</td>\n",
              "      <td>-0.773770</td>\n",
              "      <td>-0.154143</td>\n",
              "      <td>98012</td>\n",
              "      <td>0.885639</td>\n",
              "      <td>0.447465</td>\n",
              "      <td>-0.932949</td>\n",
              "      <td>0.416454</td>\n",
              "      <td>0</td>\n",
              "      <td>0</td>\n",
              "      <td>21</td>\n",
              "      <td>0.554440</td>\n",
              "      <td>53061051927</td>\n",
              "      <td>-122.187300</td>\n",
              "      <td>47.820245</td>\n",
              "      <td>BEV</td>\n",
              "      <td>BEV</td>\n",
              "    </tr>\n",
              "    <tr>\n",
              "      <th>4</th>\n",
              "      <td>0</td>\n",
              "      <td>0</td>\n",
              "      <td>0.000761</td>\n",
              "      <td>0.955025</td>\n",
              "      <td>-0.449573</td>\n",
              "      <td>98031</td>\n",
              "      <td>-0.113936</td>\n",
              "      <td>0.716447</td>\n",
              "      <td>1.105986</td>\n",
              "      <td>-1.116594</td>\n",
              "      <td>322</td>\n",
              "      <td>0</td>\n",
              "      <td>33</td>\n",
              "      <td>0.472746</td>\n",
              "      <td>53033029305</td>\n",
              "      <td>-122.201252</td>\n",
              "      <td>47.393181</td>\n",
              "      <td>BEV</td>\n",
              "      <td>BEV</td>\n",
              "    </tr>\n",
              "  </tbody>\n",
              "</table>\n",
              "</div>\n",
              "    <div class=\"colab-df-buttons\">\n",
              "\n",
              "  <div class=\"colab-df-container\">\n",
              "    <button class=\"colab-df-convert\" onclick=\"convertToInteractive('df-6df1c2f2-64a3-418e-81b7-a6d45d150a9d')\"\n",
              "            title=\"Convert this dataframe to an interactive table.\"\n",
              "            style=\"display:none;\">\n",
              "\n",
              "  <svg xmlns=\"http://www.w3.org/2000/svg\" height=\"24px\" viewBox=\"0 -960 960 960\">\n",
              "    <path d=\"M120-120v-720h720v720H120Zm60-500h600v-160H180v160Zm220 220h160v-160H400v160Zm0 220h160v-160H400v160ZM180-400h160v-160H180v160Zm440 0h160v-160H620v160ZM180-180h160v-160H180v160Zm440 0h160v-160H620v160Z\"/>\n",
              "  </svg>\n",
              "    </button>\n",
              "\n",
              "  <style>\n",
              "    .colab-df-container {\n",
              "      display:flex;\n",
              "      gap: 12px;\n",
              "    }\n",
              "\n",
              "    .colab-df-convert {\n",
              "      background-color: #E8F0FE;\n",
              "      border: none;\n",
              "      border-radius: 50%;\n",
              "      cursor: pointer;\n",
              "      display: none;\n",
              "      fill: #1967D2;\n",
              "      height: 32px;\n",
              "      padding: 0 0 0 0;\n",
              "      width: 32px;\n",
              "    }\n",
              "\n",
              "    .colab-df-convert:hover {\n",
              "      background-color: #E2EBFA;\n",
              "      box-shadow: 0px 1px 2px rgba(60, 64, 67, 0.3), 0px 1px 3px 1px rgba(60, 64, 67, 0.15);\n",
              "      fill: #174EA6;\n",
              "    }\n",
              "\n",
              "    .colab-df-buttons div {\n",
              "      margin-bottom: 4px;\n",
              "    }\n",
              "\n",
              "    [theme=dark] .colab-df-convert {\n",
              "      background-color: #3B4455;\n",
              "      fill: #D2E3FC;\n",
              "    }\n",
              "\n",
              "    [theme=dark] .colab-df-convert:hover {\n",
              "      background-color: #434B5C;\n",
              "      box-shadow: 0px 1px 3px 1px rgba(0, 0, 0, 0.15);\n",
              "      filter: drop-shadow(0px 1px 2px rgba(0, 0, 0, 0.3));\n",
              "      fill: #FFFFFF;\n",
              "    }\n",
              "  </style>\n",
              "\n",
              "    <script>\n",
              "      const buttonEl =\n",
              "        document.querySelector('#df-6df1c2f2-64a3-418e-81b7-a6d45d150a9d button.colab-df-convert');\n",
              "      buttonEl.style.display =\n",
              "        google.colab.kernel.accessAllowed ? 'block' : 'none';\n",
              "\n",
              "      async function convertToInteractive(key) {\n",
              "        const element = document.querySelector('#df-6df1c2f2-64a3-418e-81b7-a6d45d150a9d');\n",
              "        const dataTable =\n",
              "          await google.colab.kernel.invokeFunction('convertToInteractive',\n",
              "                                                    [key], {});\n",
              "        if (!dataTable) return;\n",
              "\n",
              "        const docLinkHtml = 'Like what you see? Visit the ' +\n",
              "          '<a target=\"_blank\" href=https://colab.research.google.com/notebooks/data_table.ipynb>data table notebook</a>'\n",
              "          + ' to learn more about interactive tables.';\n",
              "        element.innerHTML = '';\n",
              "        dataTable['output_type'] = 'display_data';\n",
              "        await google.colab.output.renderOutput(dataTable, element);\n",
              "        const docLink = document.createElement('div');\n",
              "        docLink.innerHTML = docLinkHtml;\n",
              "        element.appendChild(docLink);\n",
              "      }\n",
              "    </script>\n",
              "  </div>\n",
              "\n",
              "\n",
              "<div id=\"df-48a28f78-6be6-48f0-81ec-b7110ca0d241\">\n",
              "  <button class=\"colab-df-quickchart\" onclick=\"quickchart('df-48a28f78-6be6-48f0-81ec-b7110ca0d241')\"\n",
              "            title=\"Suggest charts\"\n",
              "            style=\"display:none;\">\n",
              "\n",
              "<svg xmlns=\"http://www.w3.org/2000/svg\" height=\"24px\"viewBox=\"0 0 24 24\"\n",
              "     width=\"24px\">\n",
              "    <g>\n",
              "        <path d=\"M19 3H5c-1.1 0-2 .9-2 2v14c0 1.1.9 2 2 2h14c1.1 0 2-.9 2-2V5c0-1.1-.9-2-2-2zM9 17H7v-7h2v7zm4 0h-2V7h2v10zm4 0h-2v-4h2v4z\"/>\n",
              "    </g>\n",
              "</svg>\n",
              "  </button>\n",
              "\n",
              "<style>\n",
              "  .colab-df-quickchart {\n",
              "      --bg-color: #E8F0FE;\n",
              "      --fill-color: #1967D2;\n",
              "      --hover-bg-color: #E2EBFA;\n",
              "      --hover-fill-color: #174EA6;\n",
              "      --disabled-fill-color: #AAA;\n",
              "      --disabled-bg-color: #DDD;\n",
              "  }\n",
              "\n",
              "  [theme=dark] .colab-df-quickchart {\n",
              "      --bg-color: #3B4455;\n",
              "      --fill-color: #D2E3FC;\n",
              "      --hover-bg-color: #434B5C;\n",
              "      --hover-fill-color: #FFFFFF;\n",
              "      --disabled-bg-color: #3B4455;\n",
              "      --disabled-fill-color: #666;\n",
              "  }\n",
              "\n",
              "  .colab-df-quickchart {\n",
              "    background-color: var(--bg-color);\n",
              "    border: none;\n",
              "    border-radius: 50%;\n",
              "    cursor: pointer;\n",
              "    display: none;\n",
              "    fill: var(--fill-color);\n",
              "    height: 32px;\n",
              "    padding: 0;\n",
              "    width: 32px;\n",
              "  }\n",
              "\n",
              "  .colab-df-quickchart:hover {\n",
              "    background-color: var(--hover-bg-color);\n",
              "    box-shadow: 0 1px 2px rgba(60, 64, 67, 0.3), 0 1px 3px 1px rgba(60, 64, 67, 0.15);\n",
              "    fill: var(--button-hover-fill-color);\n",
              "  }\n",
              "\n",
              "  .colab-df-quickchart-complete:disabled,\n",
              "  .colab-df-quickchart-complete:disabled:hover {\n",
              "    background-color: var(--disabled-bg-color);\n",
              "    fill: var(--disabled-fill-color);\n",
              "    box-shadow: none;\n",
              "  }\n",
              "\n",
              "  .colab-df-spinner {\n",
              "    border: 2px solid var(--fill-color);\n",
              "    border-color: transparent;\n",
              "    border-bottom-color: var(--fill-color);\n",
              "    animation:\n",
              "      spin 1s steps(1) infinite;\n",
              "  }\n",
              "\n",
              "  @keyframes spin {\n",
              "    0% {\n",
              "      border-color: transparent;\n",
              "      border-bottom-color: var(--fill-color);\n",
              "      border-left-color: var(--fill-color);\n",
              "    }\n",
              "    20% {\n",
              "      border-color: transparent;\n",
              "      border-left-color: var(--fill-color);\n",
              "      border-top-color: var(--fill-color);\n",
              "    }\n",
              "    30% {\n",
              "      border-color: transparent;\n",
              "      border-left-color: var(--fill-color);\n",
              "      border-top-color: var(--fill-color);\n",
              "      border-right-color: var(--fill-color);\n",
              "    }\n",
              "    40% {\n",
              "      border-color: transparent;\n",
              "      border-right-color: var(--fill-color);\n",
              "      border-top-color: var(--fill-color);\n",
              "    }\n",
              "    60% {\n",
              "      border-color: transparent;\n",
              "      border-right-color: var(--fill-color);\n",
              "    }\n",
              "    80% {\n",
              "      border-color: transparent;\n",
              "      border-right-color: var(--fill-color);\n",
              "      border-bottom-color: var(--fill-color);\n",
              "    }\n",
              "    90% {\n",
              "      border-color: transparent;\n",
              "      border-bottom-color: var(--fill-color);\n",
              "    }\n",
              "  }\n",
              "</style>\n",
              "\n",
              "  <script>\n",
              "    async function quickchart(key) {\n",
              "      const quickchartButtonEl =\n",
              "        document.querySelector('#' + key + ' button');\n",
              "      quickchartButtonEl.disabled = true;  // To prevent multiple clicks.\n",
              "      quickchartButtonEl.classList.add('colab-df-spinner');\n",
              "      try {\n",
              "        const charts = await google.colab.kernel.invokeFunction(\n",
              "            'suggestCharts', [key], {});\n",
              "      } catch (error) {\n",
              "        console.error('Error during call to suggestCharts:', error);\n",
              "      }\n",
              "      quickchartButtonEl.classList.remove('colab-df-spinner');\n",
              "      quickchartButtonEl.classList.add('colab-df-quickchart-complete');\n",
              "    }\n",
              "    (() => {\n",
              "      let quickchartButtonEl =\n",
              "        document.querySelector('#df-48a28f78-6be6-48f0-81ec-b7110ca0d241 button');\n",
              "      quickchartButtonEl.style.display =\n",
              "        google.colab.kernel.accessAllowed ? 'block' : 'none';\n",
              "    })();\n",
              "  </script>\n",
              "</div>\n",
              "    </div>\n",
              "  </div>\n"
            ],
            "application/vnd.google.colaboratory.intrinsic+json": {
              "type": "dataframe",
              "variable_name": "result"
            }
          },
          "metadata": {},
          "execution_count": 46
        }
      ]
    },
    {
      "cell_type": "code",
      "source": [
        "columns_to_copy = ['VIN (1-10)', 'County', 'City', 'Model Year', 'Make', 'Model', 'Clean Alternative Fuel Vehicle Eligibility',\n",
        "                   'DOL Vehicle ID']\n",
        "\n",
        "# iterate over list to copy values\n",
        "for column in columns_to_copy:\n",
        "    result[column] = df[column]\n",
        "\n",
        "result.head()"
      ],
      "metadata": {
        "colab": {
          "base_uri": "https://localhost:8080/",
          "height": 538
        },
        "id": "xJV17SJAYGud",
        "outputId": "68da3081-df6a-47da-89f9-3562f42a9813"
      },
      "execution_count": 63,
      "outputs": [
        {
          "output_type": "execute_result",
          "data": {
            "text/plain": [
              "   Predicted  Actual  VIN (1-10)     County     City  Postal Code  Model Year  \\\n",
              "0          0       0  3C3CFFGE4E     Yakima   Yakima      98902.0        2014   \n",
              "1          0       0  5YJXCBE40H   Thurston  Olympia      98513.0        2017   \n",
              "2          1       1  3MW39FS03P       King   Renton      98058.0        2023   \n",
              "3          0       0  7PDSGABA8P  Snohomish  Bothell      98012.0        2023   \n",
              "4          0       0  5YJ3E1EB8L       King     Kent      98031.0        2020   \n",
              "\n",
              "     Make    Model         Clean Alternative Fuel Vehicle Eligibility  \\\n",
              "0    FIAT      500            Clean Alternative Fuel Vehicle Eligible   \n",
              "1   TESLA  MODEL X            Clean Alternative Fuel Vehicle Eligible   \n",
              "2     BMW     330E              Not eligible due to low battery range   \n",
              "3  RIVIAN      R1S  Eligibility unknown as battery range has not b...   \n",
              "4   TESLA  MODEL 3            Clean Alternative Fuel Vehicle Eligible   \n",
              "\n",
              "   Electric Range  Base MSRP  Legislative District  DOL Vehicle ID  \\\n",
              "0              87          0                    14         1593721   \n",
              "1             200          0                     2       257167501   \n",
              "2              20          0                    11       224071816   \n",
              "3               0          0                    21       260084653   \n",
              "4             322          0                    33       253771913   \n",
              "\n",
              "   2020 Census Tract   Longitude   Latitude Electric Vehicle Type (Actual)  \\\n",
              "0        53077000700 -120.524012  46.597394                            BEV   \n",
              "1        53067012331 -122.817545  46.988760                            BEV   \n",
              "2        53033025803 -122.129888  47.445126                           PHEV   \n",
              "3        53061051927 -122.187300  47.820245                            BEV   \n",
              "4        53033029305 -122.201252  47.393181                            BEV   \n",
              "\n",
              "  Electric Vehicle Type (Predicted)  \n",
              "0                               BEV  \n",
              "1                               BEV  \n",
              "2                              PHEV  \n",
              "3                               BEV  \n",
              "4                               BEV  "
            ],
            "text/html": [
              "\n",
              "  <div id=\"df-f4ced4ff-95e8-4ba9-8024-218004d77b49\" class=\"colab-df-container\">\n",
              "    <div>\n",
              "<style scoped>\n",
              "    .dataframe tbody tr th:only-of-type {\n",
              "        vertical-align: middle;\n",
              "    }\n",
              "\n",
              "    .dataframe tbody tr th {\n",
              "        vertical-align: top;\n",
              "    }\n",
              "\n",
              "    .dataframe thead th {\n",
              "        text-align: right;\n",
              "    }\n",
              "</style>\n",
              "<table border=\"1\" class=\"dataframe\">\n",
              "  <thead>\n",
              "    <tr style=\"text-align: right;\">\n",
              "      <th></th>\n",
              "      <th>Predicted</th>\n",
              "      <th>Actual</th>\n",
              "      <th>VIN (1-10)</th>\n",
              "      <th>County</th>\n",
              "      <th>City</th>\n",
              "      <th>Postal Code</th>\n",
              "      <th>Model Year</th>\n",
              "      <th>Make</th>\n",
              "      <th>Model</th>\n",
              "      <th>Clean Alternative Fuel Vehicle Eligibility</th>\n",
              "      <th>Electric Range</th>\n",
              "      <th>Base MSRP</th>\n",
              "      <th>Legislative District</th>\n",
              "      <th>DOL Vehicle ID</th>\n",
              "      <th>2020 Census Tract</th>\n",
              "      <th>Longitude</th>\n",
              "      <th>Latitude</th>\n",
              "      <th>Electric Vehicle Type (Actual)</th>\n",
              "      <th>Electric Vehicle Type (Predicted)</th>\n",
              "    </tr>\n",
              "  </thead>\n",
              "  <tbody>\n",
              "    <tr>\n",
              "      <th>0</th>\n",
              "      <td>0</td>\n",
              "      <td>0</td>\n",
              "      <td>3C3CFFGE4E</td>\n",
              "      <td>Yakima</td>\n",
              "      <td>Yakima</td>\n",
              "      <td>98902.0</td>\n",
              "      <td>2014</td>\n",
              "      <td>FIAT</td>\n",
              "      <td>500</td>\n",
              "      <td>Clean Alternative Fuel Vehicle Eligible</td>\n",
              "      <td>87</td>\n",
              "      <td>0</td>\n",
              "      <td>14</td>\n",
              "      <td>1593721</td>\n",
              "      <td>53077000700</td>\n",
              "      <td>-120.524012</td>\n",
              "      <td>46.597394</td>\n",
              "      <td>BEV</td>\n",
              "      <td>BEV</td>\n",
              "    </tr>\n",
              "    <tr>\n",
              "      <th>1</th>\n",
              "      <td>0</td>\n",
              "      <td>0</td>\n",
              "      <td>5YJXCBE40H</td>\n",
              "      <td>Thurston</td>\n",
              "      <td>Olympia</td>\n",
              "      <td>98513.0</td>\n",
              "      <td>2017</td>\n",
              "      <td>TESLA</td>\n",
              "      <td>MODEL X</td>\n",
              "      <td>Clean Alternative Fuel Vehicle Eligible</td>\n",
              "      <td>200</td>\n",
              "      <td>0</td>\n",
              "      <td>2</td>\n",
              "      <td>257167501</td>\n",
              "      <td>53067012331</td>\n",
              "      <td>-122.817545</td>\n",
              "      <td>46.988760</td>\n",
              "      <td>BEV</td>\n",
              "      <td>BEV</td>\n",
              "    </tr>\n",
              "    <tr>\n",
              "      <th>2</th>\n",
              "      <td>1</td>\n",
              "      <td>1</td>\n",
              "      <td>3MW39FS03P</td>\n",
              "      <td>King</td>\n",
              "      <td>Renton</td>\n",
              "      <td>98058.0</td>\n",
              "      <td>2023</td>\n",
              "      <td>BMW</td>\n",
              "      <td>330E</td>\n",
              "      <td>Not eligible due to low battery range</td>\n",
              "      <td>20</td>\n",
              "      <td>0</td>\n",
              "      <td>11</td>\n",
              "      <td>224071816</td>\n",
              "      <td>53033025803</td>\n",
              "      <td>-122.129888</td>\n",
              "      <td>47.445126</td>\n",
              "      <td>PHEV</td>\n",
              "      <td>PHEV</td>\n",
              "    </tr>\n",
              "    <tr>\n",
              "      <th>3</th>\n",
              "      <td>0</td>\n",
              "      <td>0</td>\n",
              "      <td>7PDSGABA8P</td>\n",
              "      <td>Snohomish</td>\n",
              "      <td>Bothell</td>\n",
              "      <td>98012.0</td>\n",
              "      <td>2023</td>\n",
              "      <td>RIVIAN</td>\n",
              "      <td>R1S</td>\n",
              "      <td>Eligibility unknown as battery range has not b...</td>\n",
              "      <td>0</td>\n",
              "      <td>0</td>\n",
              "      <td>21</td>\n",
              "      <td>260084653</td>\n",
              "      <td>53061051927</td>\n",
              "      <td>-122.187300</td>\n",
              "      <td>47.820245</td>\n",
              "      <td>BEV</td>\n",
              "      <td>BEV</td>\n",
              "    </tr>\n",
              "    <tr>\n",
              "      <th>4</th>\n",
              "      <td>0</td>\n",
              "      <td>0</td>\n",
              "      <td>5YJ3E1EB8L</td>\n",
              "      <td>King</td>\n",
              "      <td>Kent</td>\n",
              "      <td>98031.0</td>\n",
              "      <td>2020</td>\n",
              "      <td>TESLA</td>\n",
              "      <td>MODEL 3</td>\n",
              "      <td>Clean Alternative Fuel Vehicle Eligible</td>\n",
              "      <td>322</td>\n",
              "      <td>0</td>\n",
              "      <td>33</td>\n",
              "      <td>253771913</td>\n",
              "      <td>53033029305</td>\n",
              "      <td>-122.201252</td>\n",
              "      <td>47.393181</td>\n",
              "      <td>BEV</td>\n",
              "      <td>BEV</td>\n",
              "    </tr>\n",
              "  </tbody>\n",
              "</table>\n",
              "</div>\n",
              "    <div class=\"colab-df-buttons\">\n",
              "\n",
              "  <div class=\"colab-df-container\">\n",
              "    <button class=\"colab-df-convert\" onclick=\"convertToInteractive('df-f4ced4ff-95e8-4ba9-8024-218004d77b49')\"\n",
              "            title=\"Convert this dataframe to an interactive table.\"\n",
              "            style=\"display:none;\">\n",
              "\n",
              "  <svg xmlns=\"http://www.w3.org/2000/svg\" height=\"24px\" viewBox=\"0 -960 960 960\">\n",
              "    <path d=\"M120-120v-720h720v720H120Zm60-500h600v-160H180v160Zm220 220h160v-160H400v160Zm0 220h160v-160H400v160ZM180-400h160v-160H180v160Zm440 0h160v-160H620v160ZM180-180h160v-160H180v160Zm440 0h160v-160H620v160Z\"/>\n",
              "  </svg>\n",
              "    </button>\n",
              "\n",
              "  <style>\n",
              "    .colab-df-container {\n",
              "      display:flex;\n",
              "      gap: 12px;\n",
              "    }\n",
              "\n",
              "    .colab-df-convert {\n",
              "      background-color: #E8F0FE;\n",
              "      border: none;\n",
              "      border-radius: 50%;\n",
              "      cursor: pointer;\n",
              "      display: none;\n",
              "      fill: #1967D2;\n",
              "      height: 32px;\n",
              "      padding: 0 0 0 0;\n",
              "      width: 32px;\n",
              "    }\n",
              "\n",
              "    .colab-df-convert:hover {\n",
              "      background-color: #E2EBFA;\n",
              "      box-shadow: 0px 1px 2px rgba(60, 64, 67, 0.3), 0px 1px 3px 1px rgba(60, 64, 67, 0.15);\n",
              "      fill: #174EA6;\n",
              "    }\n",
              "\n",
              "    .colab-df-buttons div {\n",
              "      margin-bottom: 4px;\n",
              "    }\n",
              "\n",
              "    [theme=dark] .colab-df-convert {\n",
              "      background-color: #3B4455;\n",
              "      fill: #D2E3FC;\n",
              "    }\n",
              "\n",
              "    [theme=dark] .colab-df-convert:hover {\n",
              "      background-color: #434B5C;\n",
              "      box-shadow: 0px 1px 3px 1px rgba(0, 0, 0, 0.15);\n",
              "      filter: drop-shadow(0px 1px 2px rgba(0, 0, 0, 0.3));\n",
              "      fill: #FFFFFF;\n",
              "    }\n",
              "  </style>\n",
              "\n",
              "    <script>\n",
              "      const buttonEl =\n",
              "        document.querySelector('#df-f4ced4ff-95e8-4ba9-8024-218004d77b49 button.colab-df-convert');\n",
              "      buttonEl.style.display =\n",
              "        google.colab.kernel.accessAllowed ? 'block' : 'none';\n",
              "\n",
              "      async function convertToInteractive(key) {\n",
              "        const element = document.querySelector('#df-f4ced4ff-95e8-4ba9-8024-218004d77b49');\n",
              "        const dataTable =\n",
              "          await google.colab.kernel.invokeFunction('convertToInteractive',\n",
              "                                                    [key], {});\n",
              "        if (!dataTable) return;\n",
              "\n",
              "        const docLinkHtml = 'Like what you see? Visit the ' +\n",
              "          '<a target=\"_blank\" href=https://colab.research.google.com/notebooks/data_table.ipynb>data table notebook</a>'\n",
              "          + ' to learn more about interactive tables.';\n",
              "        element.innerHTML = '';\n",
              "        dataTable['output_type'] = 'display_data';\n",
              "        await google.colab.output.renderOutput(dataTable, element);\n",
              "        const docLink = document.createElement('div');\n",
              "        docLink.innerHTML = docLinkHtml;\n",
              "        element.appendChild(docLink);\n",
              "      }\n",
              "    </script>\n",
              "  </div>\n",
              "\n",
              "\n",
              "<div id=\"df-39adbdc9-bb23-4546-9750-0d6bd68c7bfc\">\n",
              "  <button class=\"colab-df-quickchart\" onclick=\"quickchart('df-39adbdc9-bb23-4546-9750-0d6bd68c7bfc')\"\n",
              "            title=\"Suggest charts\"\n",
              "            style=\"display:none;\">\n",
              "\n",
              "<svg xmlns=\"http://www.w3.org/2000/svg\" height=\"24px\"viewBox=\"0 0 24 24\"\n",
              "     width=\"24px\">\n",
              "    <g>\n",
              "        <path d=\"M19 3H5c-1.1 0-2 .9-2 2v14c0 1.1.9 2 2 2h14c1.1 0 2-.9 2-2V5c0-1.1-.9-2-2-2zM9 17H7v-7h2v7zm4 0h-2V7h2v10zm4 0h-2v-4h2v4z\"/>\n",
              "    </g>\n",
              "</svg>\n",
              "  </button>\n",
              "\n",
              "<style>\n",
              "  .colab-df-quickchart {\n",
              "      --bg-color: #E8F0FE;\n",
              "      --fill-color: #1967D2;\n",
              "      --hover-bg-color: #E2EBFA;\n",
              "      --hover-fill-color: #174EA6;\n",
              "      --disabled-fill-color: #AAA;\n",
              "      --disabled-bg-color: #DDD;\n",
              "  }\n",
              "\n",
              "  [theme=dark] .colab-df-quickchart {\n",
              "      --bg-color: #3B4455;\n",
              "      --fill-color: #D2E3FC;\n",
              "      --hover-bg-color: #434B5C;\n",
              "      --hover-fill-color: #FFFFFF;\n",
              "      --disabled-bg-color: #3B4455;\n",
              "      --disabled-fill-color: #666;\n",
              "  }\n",
              "\n",
              "  .colab-df-quickchart {\n",
              "    background-color: var(--bg-color);\n",
              "    border: none;\n",
              "    border-radius: 50%;\n",
              "    cursor: pointer;\n",
              "    display: none;\n",
              "    fill: var(--fill-color);\n",
              "    height: 32px;\n",
              "    padding: 0;\n",
              "    width: 32px;\n",
              "  }\n",
              "\n",
              "  .colab-df-quickchart:hover {\n",
              "    background-color: var(--hover-bg-color);\n",
              "    box-shadow: 0 1px 2px rgba(60, 64, 67, 0.3), 0 1px 3px 1px rgba(60, 64, 67, 0.15);\n",
              "    fill: var(--button-hover-fill-color);\n",
              "  }\n",
              "\n",
              "  .colab-df-quickchart-complete:disabled,\n",
              "  .colab-df-quickchart-complete:disabled:hover {\n",
              "    background-color: var(--disabled-bg-color);\n",
              "    fill: var(--disabled-fill-color);\n",
              "    box-shadow: none;\n",
              "  }\n",
              "\n",
              "  .colab-df-spinner {\n",
              "    border: 2px solid var(--fill-color);\n",
              "    border-color: transparent;\n",
              "    border-bottom-color: var(--fill-color);\n",
              "    animation:\n",
              "      spin 1s steps(1) infinite;\n",
              "  }\n",
              "\n",
              "  @keyframes spin {\n",
              "    0% {\n",
              "      border-color: transparent;\n",
              "      border-bottom-color: var(--fill-color);\n",
              "      border-left-color: var(--fill-color);\n",
              "    }\n",
              "    20% {\n",
              "      border-color: transparent;\n",
              "      border-left-color: var(--fill-color);\n",
              "      border-top-color: var(--fill-color);\n",
              "    }\n",
              "    30% {\n",
              "      border-color: transparent;\n",
              "      border-left-color: var(--fill-color);\n",
              "      border-top-color: var(--fill-color);\n",
              "      border-right-color: var(--fill-color);\n",
              "    }\n",
              "    40% {\n",
              "      border-color: transparent;\n",
              "      border-right-color: var(--fill-color);\n",
              "      border-top-color: var(--fill-color);\n",
              "    }\n",
              "    60% {\n",
              "      border-color: transparent;\n",
              "      border-right-color: var(--fill-color);\n",
              "    }\n",
              "    80% {\n",
              "      border-color: transparent;\n",
              "      border-right-color: var(--fill-color);\n",
              "      border-bottom-color: var(--fill-color);\n",
              "    }\n",
              "    90% {\n",
              "      border-color: transparent;\n",
              "      border-bottom-color: var(--fill-color);\n",
              "    }\n",
              "  }\n",
              "</style>\n",
              "\n",
              "  <script>\n",
              "    async function quickchart(key) {\n",
              "      const quickchartButtonEl =\n",
              "        document.querySelector('#' + key + ' button');\n",
              "      quickchartButtonEl.disabled = true;  // To prevent multiple clicks.\n",
              "      quickchartButtonEl.classList.add('colab-df-spinner');\n",
              "      try {\n",
              "        const charts = await google.colab.kernel.invokeFunction(\n",
              "            'suggestCharts', [key], {});\n",
              "      } catch (error) {\n",
              "        console.error('Error during call to suggestCharts:', error);\n",
              "      }\n",
              "      quickchartButtonEl.classList.remove('colab-df-spinner');\n",
              "      quickchartButtonEl.classList.add('colab-df-quickchart-complete');\n",
              "    }\n",
              "    (() => {\n",
              "      let quickchartButtonEl =\n",
              "        document.querySelector('#df-39adbdc9-bb23-4546-9750-0d6bd68c7bfc button');\n",
              "      quickchartButtonEl.style.display =\n",
              "        google.colab.kernel.accessAllowed ? 'block' : 'none';\n",
              "    })();\n",
              "  </script>\n",
              "</div>\n",
              "    </div>\n",
              "  </div>\n"
            ],
            "application/vnd.google.colaboratory.intrinsic+json": {
              "type": "dataframe",
              "variable_name": "result"
            }
          },
          "metadata": {},
          "execution_count": 63
        }
      ]
    },
    {
      "cell_type": "code",
      "source": [
        "result.to_csv('result.csv', index=False)"
      ],
      "metadata": {
        "id": "TBx6y1A2AZdF"
      },
      "execution_count": 65,
      "outputs": []
    },
    {
      "cell_type": "code",
      "source": [
        "phev_bev_df = result[(result['Electric Vehicle Type (Actual)'] == 'PHEV') |\n",
        "                     (result['Electric Vehicle Type (Actual)'] == 'BEV')]\n",
        "\n",
        "# Group by county and count the number of electric vehicles in each county\n",
        "county_counts = phev_bev_df.groupby('County').size().reset_index(name='Number of Electric Vehicles')\n",
        "\n",
        "most_electric_county = county_counts.loc[county_counts['Number of Electric Vehicles'].idxmax()]\n",
        "\n",
        "print(\"County with the most electric vehicles (PHEVs and BEVs):\", most_electric_county['County'])\n",
        "print(\"Number of electric vehicles in that county:\", most_electric_county['Number of Electric Vehicles'])\n"
      ],
      "metadata": {
        "colab": {
          "base_uri": "https://localhost:8080/"
        },
        "id": "a_mzGdNoBfX7",
        "outputId": "189bb6df-6ede-4c67-908a-894556a9ccbd"
      },
      "execution_count": 71,
      "outputs": [
        {
          "output_type": "stream",
          "name": "stdout",
          "text": [
            "County with the most electric vehicles (PHEVs and BEVs): King\n",
            "Number of electric vehicles in that county: 86594\n"
          ]
        }
      ]
    },
    {
      "cell_type": "code",
      "source": [
        "# Electric vehicles made by Tesla\n",
        "tesla_df = result[result['Make'] == 'TESLA']\n",
        "\n",
        "tesla_count = len(tesla_df)\n",
        "\n",
        "total_count = len(result)\n",
        "\n",
        "tesla_percentage = (tesla_count / total_count) * 100\n",
        "\n",
        "print(\"Percentage of electric vehicles made by Tesla: {:.2f}%\".format(tesla_percentage))\n"
      ],
      "metadata": {
        "colab": {
          "base_uri": "https://localhost:8080/"
        },
        "id": "g8ur5s1ABylF",
        "outputId": "e6da9a8a-e27d-41f5-fed1-f27db545fb37"
      },
      "execution_count": 72,
      "outputs": [
        {
          "output_type": "stream",
          "name": "stdout",
          "text": [
            "Percentage of electric vehicles made by Tesla: 44.86%\n"
          ]
        }
      ]
    },
    {
      "cell_type": "code",
      "source": [
        "most_common_make = result['Make'].value_counts().idxmax()\n",
        "\n",
        "most_common_model_year = result['Model Year'].value_counts().idxmax()\n",
        "\n",
        "print(\"Most common make:\", most_common_make)\n",
        "print(\"Most common model year:\", most_common_model_year)\n"
      ],
      "metadata": {
        "colab": {
          "base_uri": "https://localhost:8080/"
        },
        "id": "6vmUdDnKCrP0",
        "outputId": "6cc43189-bf1a-449f-ec4f-4a15e023df0d"
      },
      "execution_count": 73,
      "outputs": [
        {
          "output_type": "stream",
          "name": "stdout",
          "text": [
            "Most common make: TESLA\n",
            "Most common model year: 2023\n"
          ]
        }
      ]
    },
    {
      "cell_type": "code",
      "source": [
        "phev_data = result[result['Electric Vehicle Type (Actual)'] == 'PHEV']\n",
        "bev_data = result[result['Electric Vehicle Type (Actual)'] == 'BEV']\n",
        "\n",
        "# Find the top 3 cities with the highest number of PHEV\n",
        "top_phev_cities = phev_data['City'].value_counts().nlargest(3)\n",
        "\n",
        "# Find the top 3 cities with the highest number of BEV\n",
        "top_bev_cities = bev_data['City'].value_counts().nlargest(3)\n",
        "\n",
        "print(\"Top 3 cities with the highest number of PHEV:\")\n",
        "print(top_phev_cities)\n",
        "\n",
        "print(\"\\nTop 3 cities with the highest number of BEV:\")\n",
        "print(top_bev_cities)\n"
      ],
      "metadata": {
        "colab": {
          "base_uri": "https://localhost:8080/"
        },
        "id": "ZU-ZubHlECQn",
        "outputId": "18c231eb-305a-495c-b05b-e93999442e34"
      },
      "execution_count": 74,
      "outputs": [
        {
          "output_type": "stream",
          "name": "stdout",
          "text": [
            "Top 3 cities with the highest number of PHEV:\n",
            "Seattle      5747\n",
            "Vancouver    1600\n",
            "Tukwila      1282\n",
            "Name: City, dtype: int64\n",
            "\n",
            "Top 3 cities with the highest number of BEV:\n",
            "Seattle     22084\n",
            "Bellevue     7162\n",
            "Redmond      5220\n",
            "Name: City, dtype: int64\n"
          ]
        }
      ]
    },
    {
      "cell_type": "markdown",
      "source": [
        "Based on the analysis of electric vehicle data, King County stands out as the epicenter of electric vehicle adoption, boasting a total of 86,594 electric vehicles, comprising both Plug-in Hybrid Electric Vehicles (PHEVs) and Battery Electric Vehicles (BEVs). This significant number underscores the region's commitment to sustainable transportation solutions. Notably, Tesla emerges as the dominant player in the electric vehicle market in this area, with its vehicles constituting 44.86% of all electric vehicles. The most common make among electric vehicles is TESLA, indicating the brand's strong presence and popularity among consumers. In terms of model year, 2023 emerges as the most prevalent, reflecting the continuous advancement and adoption of newer electric vehicle models.\n",
        "\n",
        "Delving into city-level analysis, Seattle emerges as a hub for electric vehicle adoption, ranking as the top city for both PHEVs and BEVs. With 5,747 PHEVs and a staggering 22,084 BEVs registered, Seattle showcases a robust infrastructure and supportive community for electric vehicle ownership. Other cities in the region, such as Bellevue and Redmond, also demonstrate significant uptake of electric vehicles, further highlighting the widespread acceptance and integration of sustainable transportation alternatives in the Pacific Northwest. Overall, these findings underscore the region's progressive stance towards reducing carbon emissions and embracing cleaner, more environmentally friendly modes of transportation."
      ],
      "metadata": {
        "id": "PSIMWDJNF_Ay"
      }
    },
    {
      "cell_type": "code",
      "source": [],
      "metadata": {
        "id": "8FyoB_pxGAgX"
      },
      "execution_count": null,
      "outputs": []
    }
  ]
}