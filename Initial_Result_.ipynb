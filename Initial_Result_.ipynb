{
  "nbformat": 4,
  "nbformat_minor": 0,
  "metadata": {
    "colab": {
      "provenance": [],
      "authorship_tag": "ABX9TyP6Uo6sAN43WPtX1hDzCIAr",
      "include_colab_link": true
    },
    "kernelspec": {
      "name": "python3",
      "display_name": "Python 3"
    },
    "language_info": {
      "name": "python"
    }
  },
  "cells": [
    {
      "cell_type": "markdown",
      "metadata": {
        "id": "view-in-github",
        "colab_type": "text"
      },
      "source": [
        "<a href=\"https://colab.research.google.com/github/ksemiu/Classification-and-Trends-BEVs-and-PHEVs-in-Washington-s-Vehicle-Registry/blob/main/Initial_Result_.ipynb\" target=\"_parent\"><img src=\"https://colab.research.google.com/assets/colab-badge.svg\" alt=\"Open In Colab\"/></a>"
      ]
    },
    {
      "cell_type": "code",
      "source": [
        "import numpy as np\n",
        "import pandas as pd\n",
        "import matplotlib.pyplot as plt\n",
        "import seaborn as sns\n",
        "from sklearn.model_selection import train_test_split\n",
        "from imblearn.under_sampling import NearMiss\n",
        "from collections import Counter\n",
        "from sklearn.naive_bayes import GaussianNB\n",
        "from sklearn.metrics import accuracy_score\n",
        "from sklearn.metrics import confusion_matrix\n",
        "from sklearn.metrics import roc_auc_score\n",
        "from sklearn.metrics import classification_report\n",
        "from sklearn.model_selection import cross_val_score\n",
        "from sklearn.naive_bayes import BernoulliNB\n",
        "from sklearn.naive_bayes import MultinomialNB\n",
        "from sklearn.model_selection import GridSearchCV\n",
        "from sklearn.linear_model import LogisticRegression\n",
        "from sklearn.naive_bayes import GaussianNB\n",
        "from sklearn.model_selection import train_test_split\n",
        "from sklearn.naive_bayes import GaussianNB\n",
        "from sklearn.metrics import accuracy_score, roc_auc_score\n",
        "from sklearn.ensemble import RandomForestClassifier\n",
        "import xgboost as xgb\n",
        "!pip install shap\n",
        "import shap\n",
        "import matplotlib.pyplot as plt\n",
        "\n"
      ],
      "metadata": {
        "colab": {
          "base_uri": "https://localhost:8080/"
        },
        "id": "w3IOMlRTxkg9",
        "outputId": "246f44d1-c0fc-42e7-fd43-c5d8456d9f12"
      },
      "execution_count": 4,
      "outputs": [
        {
          "output_type": "stream",
          "name": "stdout",
          "text": [
            "Requirement already satisfied: shap in /usr/local/lib/python3.10/dist-packages (0.45.0)\n",
            "Requirement already satisfied: numpy in /usr/local/lib/python3.10/dist-packages (from shap) (1.25.2)\n",
            "Requirement already satisfied: scipy in /usr/local/lib/python3.10/dist-packages (from shap) (1.11.4)\n",
            "Requirement already satisfied: scikit-learn in /usr/local/lib/python3.10/dist-packages (from shap) (1.2.2)\n",
            "Requirement already satisfied: pandas in /usr/local/lib/python3.10/dist-packages (from shap) (1.5.3)\n",
            "Requirement already satisfied: tqdm>=4.27.0 in /usr/local/lib/python3.10/dist-packages (from shap) (4.66.2)\n",
            "Requirement already satisfied: packaging>20.9 in /usr/local/lib/python3.10/dist-packages (from shap) (24.0)\n",
            "Requirement already satisfied: slicer==0.0.7 in /usr/local/lib/python3.10/dist-packages (from shap) (0.0.7)\n",
            "Requirement already satisfied: numba in /usr/local/lib/python3.10/dist-packages (from shap) (0.58.1)\n",
            "Requirement already satisfied: cloudpickle in /usr/local/lib/python3.10/dist-packages (from shap) (2.2.1)\n",
            "Requirement already satisfied: llvmlite<0.42,>=0.41.0dev0 in /usr/local/lib/python3.10/dist-packages (from numba->shap) (0.41.1)\n",
            "Requirement already satisfied: python-dateutil>=2.8.1 in /usr/local/lib/python3.10/dist-packages (from pandas->shap) (2.8.2)\n",
            "Requirement already satisfied: pytz>=2020.1 in /usr/local/lib/python3.10/dist-packages (from pandas->shap) (2023.4)\n",
            "Requirement already satisfied: joblib>=1.1.1 in /usr/local/lib/python3.10/dist-packages (from scikit-learn->shap) (1.3.2)\n",
            "Requirement already satisfied: threadpoolctl>=2.0.0 in /usr/local/lib/python3.10/dist-packages (from scikit-learn->shap) (3.3.0)\n",
            "Requirement already satisfied: six>=1.5 in /usr/local/lib/python3.10/dist-packages (from python-dateutil>=2.8.1->pandas->shap) (1.16.0)\n"
          ]
        }
      ]
    },
    {
      "cell_type": "code",
      "source": [],
      "metadata": {
        "id": "Tt1NfhkSqpCI"
      },
      "execution_count": 4,
      "outputs": []
    },
    {
      "cell_type": "code",
      "source": [
        "train = pd.read_csv('/content/df_train.csv')"
      ],
      "metadata": {
        "id": "C03nu2trxbqj"
      },
      "execution_count": 5,
      "outputs": []
    },
    {
      "cell_type": "code",
      "execution_count": 6,
      "metadata": {
        "id": "sRrTzTkDw1uV"
      },
      "outputs": [],
      "source": [
        "def plot_cm(cm, chart):\n",
        "\n",
        "    # set figure size and title\n",
        "    plt.figure(figsize=(6, 5))\n",
        "    plt.suptitle(f'Confusion Matrix of {chart}', y=1)\n",
        "\n",
        "    # initialize TP, TN, FN, and FP counts\n",
        "    group_names = ['True Negative', 'False Negative', 'False Positive', 'True Positive']\n",
        "    group_initial = ['(TN)','(FN)','(FP)','(TP)']\n",
        "    group_percentages = [\"{0:.2%}\".format(value) for value in cm.flatten()/np.sum(cm)]\n",
        "\n",
        "    # create label strings with counts and percentages\n",
        "    labels = [f\"{v1}\\n{v2}\\n\\n{v3}\" for v1, v2, v3 in zip(group_names, group_initial, group_percentages)]\n",
        "    labels = np.asarray(labels).reshape(2,2)\n",
        "\n",
        "    # plot heatmap of the confusion matrix\n",
        "    g = sns.heatmap(cm, annot=labels, fmt='', cmap='Blues')\n",
        "    g.set_xlabel('Actual')\n",
        "    g.set_ylabel('Predicted')\n",
        "\n",
        "    plt.show()"
      ]
    },
    {
      "cell_type": "code",
      "source": [
        "train.shape"
      ],
      "metadata": {
        "colab": {
          "base_uri": "https://localhost:8080/"
        },
        "id": "HsDIRZ7KxYtX",
        "outputId": "469cdc3e-c49a-4cbf-eb8c-34df42ac040a"
      },
      "execution_count": 7,
      "outputs": [
        {
          "output_type": "execute_result",
          "data": {
            "text/plain": [
              "(166795, 18)"
            ]
          },
          "metadata": {},
          "execution_count": 7
        }
      ]
    },
    {
      "cell_type": "code",
      "source": [
        "train.head()"
      ],
      "metadata": {
        "colab": {
          "base_uri": "https://localhost:8080/",
          "height": 258
        },
        "id": "0TCcar5Bxw8R",
        "outputId": "6cec9d78-0788-4335-dff8-ba99386af34d"
      },
      "execution_count": 8,
      "outputs": [
        {
          "output_type": "execute_result",
          "data": {
            "text/plain": [
              "   VIN (1-10)  County  City  State  Postal Code  Model Year  Make  Model  \\\n",
              "0           8     943   639     39      98902.0        2014     9    801   \n",
              "1           4    6042  4058     39      98513.0        2017    33   5428   \n",
              "2           5   86594  4617     39      98058.0        2023     4    431   \n",
              "3          98   19570  5440     39      98012.0        2023    30   1622   \n",
              "4         170   86594  2602     39      98031.0        2020    33  28925   \n",
              "\n",
              "   Electric Vehicle Type  Clean Alternative Fuel Vehicle Eligibility  \\\n",
              "0                      0                                           0   \n",
              "1                      0                                           0   \n",
              "2                      1                                           2   \n",
              "3                      0                                           1   \n",
              "4                      0                                           0   \n",
              "\n",
              "   Electric Range  Base MSRP  Legislative District  DOL Vehicle ID  \\\n",
              "0              87          0                  14.0         1593721   \n",
              "1             200          0                   2.0       257167501   \n",
              "2              20          0                  11.0       224071816   \n",
              "3               0          0                  21.0       260084653   \n",
              "4             322          0                  33.0       253771913   \n",
              "\n",
              "   Electric Utility  2020 Census Tract   Longitude   Latitude  \n",
              "0              1245       5.307700e+10 -120.524012  46.597394  \n",
              "1             98811       5.306701e+10 -122.817545  46.988760  \n",
              "2             98811       5.303303e+10 -122.129888  47.445126  \n",
              "3             98811       5.306105e+10 -122.187300  47.820245  \n",
              "4             98811       5.303303e+10 -122.201252  47.393181  "
            ],
            "text/html": [
              "\n",
              "  <div id=\"df-4dfe1e01-276b-4db2-a39e-c8fc3e16ff61\" class=\"colab-df-container\">\n",
              "    <div>\n",
              "<style scoped>\n",
              "    .dataframe tbody tr th:only-of-type {\n",
              "        vertical-align: middle;\n",
              "    }\n",
              "\n",
              "    .dataframe tbody tr th {\n",
              "        vertical-align: top;\n",
              "    }\n",
              "\n",
              "    .dataframe thead th {\n",
              "        text-align: right;\n",
              "    }\n",
              "</style>\n",
              "<table border=\"1\" class=\"dataframe\">\n",
              "  <thead>\n",
              "    <tr style=\"text-align: right;\">\n",
              "      <th></th>\n",
              "      <th>VIN (1-10)</th>\n",
              "      <th>County</th>\n",
              "      <th>City</th>\n",
              "      <th>State</th>\n",
              "      <th>Postal Code</th>\n",
              "      <th>Model Year</th>\n",
              "      <th>Make</th>\n",
              "      <th>Model</th>\n",
              "      <th>Electric Vehicle Type</th>\n",
              "      <th>Clean Alternative Fuel Vehicle Eligibility</th>\n",
              "      <th>Electric Range</th>\n",
              "      <th>Base MSRP</th>\n",
              "      <th>Legislative District</th>\n",
              "      <th>DOL Vehicle ID</th>\n",
              "      <th>Electric Utility</th>\n",
              "      <th>2020 Census Tract</th>\n",
              "      <th>Longitude</th>\n",
              "      <th>Latitude</th>\n",
              "    </tr>\n",
              "  </thead>\n",
              "  <tbody>\n",
              "    <tr>\n",
              "      <th>0</th>\n",
              "      <td>8</td>\n",
              "      <td>943</td>\n",
              "      <td>639</td>\n",
              "      <td>39</td>\n",
              "      <td>98902.0</td>\n",
              "      <td>2014</td>\n",
              "      <td>9</td>\n",
              "      <td>801</td>\n",
              "      <td>0</td>\n",
              "      <td>0</td>\n",
              "      <td>87</td>\n",
              "      <td>0</td>\n",
              "      <td>14.0</td>\n",
              "      <td>1593721</td>\n",
              "      <td>1245</td>\n",
              "      <td>5.307700e+10</td>\n",
              "      <td>-120.524012</td>\n",
              "      <td>46.597394</td>\n",
              "    </tr>\n",
              "    <tr>\n",
              "      <th>1</th>\n",
              "      <td>4</td>\n",
              "      <td>6042</td>\n",
              "      <td>4058</td>\n",
              "      <td>39</td>\n",
              "      <td>98513.0</td>\n",
              "      <td>2017</td>\n",
              "      <td>33</td>\n",
              "      <td>5428</td>\n",
              "      <td>0</td>\n",
              "      <td>0</td>\n",
              "      <td>200</td>\n",
              "      <td>0</td>\n",
              "      <td>2.0</td>\n",
              "      <td>257167501</td>\n",
              "      <td>98811</td>\n",
              "      <td>5.306701e+10</td>\n",
              "      <td>-122.817545</td>\n",
              "      <td>46.988760</td>\n",
              "    </tr>\n",
              "    <tr>\n",
              "      <th>2</th>\n",
              "      <td>5</td>\n",
              "      <td>86594</td>\n",
              "      <td>4617</td>\n",
              "      <td>39</td>\n",
              "      <td>98058.0</td>\n",
              "      <td>2023</td>\n",
              "      <td>4</td>\n",
              "      <td>431</td>\n",
              "      <td>1</td>\n",
              "      <td>2</td>\n",
              "      <td>20</td>\n",
              "      <td>0</td>\n",
              "      <td>11.0</td>\n",
              "      <td>224071816</td>\n",
              "      <td>98811</td>\n",
              "      <td>5.303303e+10</td>\n",
              "      <td>-122.129888</td>\n",
              "      <td>47.445126</td>\n",
              "    </tr>\n",
              "    <tr>\n",
              "      <th>3</th>\n",
              "      <td>98</td>\n",
              "      <td>19570</td>\n",
              "      <td>5440</td>\n",
              "      <td>39</td>\n",
              "      <td>98012.0</td>\n",
              "      <td>2023</td>\n",
              "      <td>30</td>\n",
              "      <td>1622</td>\n",
              "      <td>0</td>\n",
              "      <td>1</td>\n",
              "      <td>0</td>\n",
              "      <td>0</td>\n",
              "      <td>21.0</td>\n",
              "      <td>260084653</td>\n",
              "      <td>98811</td>\n",
              "      <td>5.306105e+10</td>\n",
              "      <td>-122.187300</td>\n",
              "      <td>47.820245</td>\n",
              "    </tr>\n",
              "    <tr>\n",
              "      <th>4</th>\n",
              "      <td>170</td>\n",
              "      <td>86594</td>\n",
              "      <td>2602</td>\n",
              "      <td>39</td>\n",
              "      <td>98031.0</td>\n",
              "      <td>2020</td>\n",
              "      <td>33</td>\n",
              "      <td>28925</td>\n",
              "      <td>0</td>\n",
              "      <td>0</td>\n",
              "      <td>322</td>\n",
              "      <td>0</td>\n",
              "      <td>33.0</td>\n",
              "      <td>253771913</td>\n",
              "      <td>98811</td>\n",
              "      <td>5.303303e+10</td>\n",
              "      <td>-122.201252</td>\n",
              "      <td>47.393181</td>\n",
              "    </tr>\n",
              "  </tbody>\n",
              "</table>\n",
              "</div>\n",
              "    <div class=\"colab-df-buttons\">\n",
              "\n",
              "  <div class=\"colab-df-container\">\n",
              "    <button class=\"colab-df-convert\" onclick=\"convertToInteractive('df-4dfe1e01-276b-4db2-a39e-c8fc3e16ff61')\"\n",
              "            title=\"Convert this dataframe to an interactive table.\"\n",
              "            style=\"display:none;\">\n",
              "\n",
              "  <svg xmlns=\"http://www.w3.org/2000/svg\" height=\"24px\" viewBox=\"0 -960 960 960\">\n",
              "    <path d=\"M120-120v-720h720v720H120Zm60-500h600v-160H180v160Zm220 220h160v-160H400v160Zm0 220h160v-160H400v160ZM180-400h160v-160H180v160Zm440 0h160v-160H620v160ZM180-180h160v-160H180v160Zm440 0h160v-160H620v160Z\"/>\n",
              "  </svg>\n",
              "    </button>\n",
              "\n",
              "  <style>\n",
              "    .colab-df-container {\n",
              "      display:flex;\n",
              "      gap: 12px;\n",
              "    }\n",
              "\n",
              "    .colab-df-convert {\n",
              "      background-color: #E8F0FE;\n",
              "      border: none;\n",
              "      border-radius: 50%;\n",
              "      cursor: pointer;\n",
              "      display: none;\n",
              "      fill: #1967D2;\n",
              "      height: 32px;\n",
              "      padding: 0 0 0 0;\n",
              "      width: 32px;\n",
              "    }\n",
              "\n",
              "    .colab-df-convert:hover {\n",
              "      background-color: #E2EBFA;\n",
              "      box-shadow: 0px 1px 2px rgba(60, 64, 67, 0.3), 0px 1px 3px 1px rgba(60, 64, 67, 0.15);\n",
              "      fill: #174EA6;\n",
              "    }\n",
              "\n",
              "    .colab-df-buttons div {\n",
              "      margin-bottom: 4px;\n",
              "    }\n",
              "\n",
              "    [theme=dark] .colab-df-convert {\n",
              "      background-color: #3B4455;\n",
              "      fill: #D2E3FC;\n",
              "    }\n",
              "\n",
              "    [theme=dark] .colab-df-convert:hover {\n",
              "      background-color: #434B5C;\n",
              "      box-shadow: 0px 1px 3px 1px rgba(0, 0, 0, 0.15);\n",
              "      filter: drop-shadow(0px 1px 2px rgba(0, 0, 0, 0.3));\n",
              "      fill: #FFFFFF;\n",
              "    }\n",
              "  </style>\n",
              "\n",
              "    <script>\n",
              "      const buttonEl =\n",
              "        document.querySelector('#df-4dfe1e01-276b-4db2-a39e-c8fc3e16ff61 button.colab-df-convert');\n",
              "      buttonEl.style.display =\n",
              "        google.colab.kernel.accessAllowed ? 'block' : 'none';\n",
              "\n",
              "      async function convertToInteractive(key) {\n",
              "        const element = document.querySelector('#df-4dfe1e01-276b-4db2-a39e-c8fc3e16ff61');\n",
              "        const dataTable =\n",
              "          await google.colab.kernel.invokeFunction('convertToInteractive',\n",
              "                                                    [key], {});\n",
              "        if (!dataTable) return;\n",
              "\n",
              "        const docLinkHtml = 'Like what you see? Visit the ' +\n",
              "          '<a target=\"_blank\" href=https://colab.research.google.com/notebooks/data_table.ipynb>data table notebook</a>'\n",
              "          + ' to learn more about interactive tables.';\n",
              "        element.innerHTML = '';\n",
              "        dataTable['output_type'] = 'display_data';\n",
              "        await google.colab.output.renderOutput(dataTable, element);\n",
              "        const docLink = document.createElement('div');\n",
              "        docLink.innerHTML = docLinkHtml;\n",
              "        element.appendChild(docLink);\n",
              "      }\n",
              "    </script>\n",
              "  </div>\n",
              "\n",
              "\n",
              "<div id=\"df-22e4ac4e-6801-4c19-834b-5f36d410ee8a\">\n",
              "  <button class=\"colab-df-quickchart\" onclick=\"quickchart('df-22e4ac4e-6801-4c19-834b-5f36d410ee8a')\"\n",
              "            title=\"Suggest charts\"\n",
              "            style=\"display:none;\">\n",
              "\n",
              "<svg xmlns=\"http://www.w3.org/2000/svg\" height=\"24px\"viewBox=\"0 0 24 24\"\n",
              "     width=\"24px\">\n",
              "    <g>\n",
              "        <path d=\"M19 3H5c-1.1 0-2 .9-2 2v14c0 1.1.9 2 2 2h14c1.1 0 2-.9 2-2V5c0-1.1-.9-2-2-2zM9 17H7v-7h2v7zm4 0h-2V7h2v10zm4 0h-2v-4h2v4z\"/>\n",
              "    </g>\n",
              "</svg>\n",
              "  </button>\n",
              "\n",
              "<style>\n",
              "  .colab-df-quickchart {\n",
              "      --bg-color: #E8F0FE;\n",
              "      --fill-color: #1967D2;\n",
              "      --hover-bg-color: #E2EBFA;\n",
              "      --hover-fill-color: #174EA6;\n",
              "      --disabled-fill-color: #AAA;\n",
              "      --disabled-bg-color: #DDD;\n",
              "  }\n",
              "\n",
              "  [theme=dark] .colab-df-quickchart {\n",
              "      --bg-color: #3B4455;\n",
              "      --fill-color: #D2E3FC;\n",
              "      --hover-bg-color: #434B5C;\n",
              "      --hover-fill-color: #FFFFFF;\n",
              "      --disabled-bg-color: #3B4455;\n",
              "      --disabled-fill-color: #666;\n",
              "  }\n",
              "\n",
              "  .colab-df-quickchart {\n",
              "    background-color: var(--bg-color);\n",
              "    border: none;\n",
              "    border-radius: 50%;\n",
              "    cursor: pointer;\n",
              "    display: none;\n",
              "    fill: var(--fill-color);\n",
              "    height: 32px;\n",
              "    padding: 0;\n",
              "    width: 32px;\n",
              "  }\n",
              "\n",
              "  .colab-df-quickchart:hover {\n",
              "    background-color: var(--hover-bg-color);\n",
              "    box-shadow: 0 1px 2px rgba(60, 64, 67, 0.3), 0 1px 3px 1px rgba(60, 64, 67, 0.15);\n",
              "    fill: var(--button-hover-fill-color);\n",
              "  }\n",
              "\n",
              "  .colab-df-quickchart-complete:disabled,\n",
              "  .colab-df-quickchart-complete:disabled:hover {\n",
              "    background-color: var(--disabled-bg-color);\n",
              "    fill: var(--disabled-fill-color);\n",
              "    box-shadow: none;\n",
              "  }\n",
              "\n",
              "  .colab-df-spinner {\n",
              "    border: 2px solid var(--fill-color);\n",
              "    border-color: transparent;\n",
              "    border-bottom-color: var(--fill-color);\n",
              "    animation:\n",
              "      spin 1s steps(1) infinite;\n",
              "  }\n",
              "\n",
              "  @keyframes spin {\n",
              "    0% {\n",
              "      border-color: transparent;\n",
              "      border-bottom-color: var(--fill-color);\n",
              "      border-left-color: var(--fill-color);\n",
              "    }\n",
              "    20% {\n",
              "      border-color: transparent;\n",
              "      border-left-color: var(--fill-color);\n",
              "      border-top-color: var(--fill-color);\n",
              "    }\n",
              "    30% {\n",
              "      border-color: transparent;\n",
              "      border-left-color: var(--fill-color);\n",
              "      border-top-color: var(--fill-color);\n",
              "      border-right-color: var(--fill-color);\n",
              "    }\n",
              "    40% {\n",
              "      border-color: transparent;\n",
              "      border-right-color: var(--fill-color);\n",
              "      border-top-color: var(--fill-color);\n",
              "    }\n",
              "    60% {\n",
              "      border-color: transparent;\n",
              "      border-right-color: var(--fill-color);\n",
              "    }\n",
              "    80% {\n",
              "      border-color: transparent;\n",
              "      border-right-color: var(--fill-color);\n",
              "      border-bottom-color: var(--fill-color);\n",
              "    }\n",
              "    90% {\n",
              "      border-color: transparent;\n",
              "      border-bottom-color: var(--fill-color);\n",
              "    }\n",
              "  }\n",
              "</style>\n",
              "\n",
              "  <script>\n",
              "    async function quickchart(key) {\n",
              "      const quickchartButtonEl =\n",
              "        document.querySelector('#' + key + ' button');\n",
              "      quickchartButtonEl.disabled = true;  // To prevent multiple clicks.\n",
              "      quickchartButtonEl.classList.add('colab-df-spinner');\n",
              "      try {\n",
              "        const charts = await google.colab.kernel.invokeFunction(\n",
              "            'suggestCharts', [key], {});\n",
              "      } catch (error) {\n",
              "        console.error('Error during call to suggestCharts:', error);\n",
              "      }\n",
              "      quickchartButtonEl.classList.remove('colab-df-spinner');\n",
              "      quickchartButtonEl.classList.add('colab-df-quickchart-complete');\n",
              "    }\n",
              "    (() => {\n",
              "      let quickchartButtonEl =\n",
              "        document.querySelector('#df-22e4ac4e-6801-4c19-834b-5f36d410ee8a button');\n",
              "      quickchartButtonEl.style.display =\n",
              "        google.colab.kernel.accessAllowed ? 'block' : 'none';\n",
              "    })();\n",
              "  </script>\n",
              "</div>\n",
              "    </div>\n",
              "  </div>\n"
            ],
            "application/vnd.google.colaboratory.intrinsic+json": {
              "type": "dataframe",
              "variable_name": "train"
            }
          },
          "metadata": {},
          "execution_count": 8
        }
      ]
    },
    {
      "cell_type": "code",
      "source": [
        "sns.set_theme(style=\"white\")\n",
        "\n",
        "X = train.drop('Electric Vehicle Type', axis=1).values\n",
        "y = train['Electric Vehicle Type'].values\n",
        "\n",
        "X_train, X_test, y_train, y_test = train_test_split(X, y, test_size=0.3, stratify=y, random_state=21)"
      ],
      "metadata": {
        "id": "zyt-nR4_x5LI"
      },
      "execution_count": 9,
      "outputs": []
    },
    {
      "cell_type": "markdown",
      "source": [
        "The line of code splits the dataset into training and testing sets, assigning 70% of the data to the training set (X_train, y_train) and 30% to the testing set (X_test, y_test), while ensuring the class distribution is preserved using stratification and setting a random seed for reproducibility."
      ],
      "metadata": {
        "id": "vrA4dpAvyVxX"
      }
    },
    {
      "cell_type": "code",
      "source": [
        "train['Electric Vehicle Type'].value_counts()"
      ],
      "metadata": {
        "colab": {
          "base_uri": "https://localhost:8080/"
        },
        "id": "jEb443CzygBJ",
        "outputId": "6a10df6d-5961-45ba-f502-b13c020ededc"
      },
      "execution_count": 10,
      "outputs": [
        {
          "output_type": "execute_result",
          "data": {
            "text/plain": [
              "0    130288\n",
              "1     36507\n",
              "Name: Electric Vehicle Type, dtype: int64"
            ]
          },
          "metadata": {},
          "execution_count": 10
        }
      ]
    },
    {
      "cell_type": "code",
      "source": [
        "ns = NearMiss()\n",
        "\n",
        "print(\"Original dataset shape:\", Counter(y_train))\n",
        "X_train_resampled, y_train_resampled = ns.fit_resample(X_train, y_train)\n",
        "print(\"Resample dataset shape:\", Counter(y_train_resampled))"
      ],
      "metadata": {
        "colab": {
          "base_uri": "https://localhost:8080/"
        },
        "id": "8UScPhluyqyC",
        "outputId": "4a4bcabc-bc12-47da-dd69-f3a0cb524148"
      },
      "execution_count": 11,
      "outputs": [
        {
          "output_type": "stream",
          "name": "stdout",
          "text": [
            "Original dataset shape: Counter({0: 91201, 1: 25555})\n",
            "Resample dataset shape: Counter({0: 25555, 1: 25555})\n"
          ]
        }
      ]
    },
    {
      "cell_type": "markdown",
      "source": [
        "The number of target classes indicates an imbalanced condition. This needs to be avoided so that the model does not cause bias. To overcome this, it is necessary to do sampling so that the number of target classes approaches a balanced condition.\n",
        "\n",
        "NearMiss approach is utilized due to its capacity to focus on selecting relevant majority class samples near the decision boundary, effectively reducing class imbalance while preserving vital information. Additionally, it offers computational efficiency and mitigates overfitting risks by retaining informative majority class samples. Furthermore, NearMiss helps maintain minority class patterns, enhancing model generalization and performance on unseen data, thereby addressing class imbalance effectively and bolstering model robustness against bias.\n",
        "\n",
        "\n",
        ""
      ],
      "metadata": {
        "id": "-1m9WS2iziwp"
      }
    },
    {
      "cell_type": "markdown",
      "source": [
        "Naive Bayes Classifier  "
      ],
      "metadata": {
        "id": "YNYNcN2X0b6q"
      }
    },
    {
      "cell_type": "code",
      "source": [
        "NB_classifier = GaussianNB()\n",
        "NB_classifier.fit(X_train_resampled, y_train_resampled)\n",
        "\n",
        "# make predictions on the test data\n",
        "y_pred = NB_classifier.predict(X_test)\n",
        "\n",
        "# calculate metric evaluation and confusion matrix\n",
        "accurary = accuracy_score(y_test, y_pred)\n",
        "cm = confusion_matrix(y_test, y_pred)\n"
      ],
      "metadata": {
        "id": "hGO0R-l20TRh"
      },
      "execution_count": 12,
      "outputs": []
    },
    {
      "cell_type": "code",
      "source": [
        "print(\"Accuracy:\", accuracy_score(y_test, y_pred))\n",
        "\n",
        "print(\"--\"*55)\n",
        "print(\"ROC AUC Score:\", roc_auc_score(y_test, y_pred))\n",
        "\n",
        "print(\"Confusion Matrix:\\n\", confusion_matrix(y_test, y_pred))\n",
        "print(\"--\"*55)\n",
        "print(\"Classification Report:\\n\\n\", classification_report(y_test, y_pred))\n",
        "print(\"--\"*55)\n",
        "if isinstance(NB_classifier, GaussianNB):\n",
        "    # Mean of features for each class\n",
        "    print(\"Mean of features for each class:\\n\", NB_classifier.theta_)\n"
      ],
      "metadata": {
        "colab": {
          "base_uri": "https://localhost:8080/"
        },
        "id": "V_TOxReX1n4b",
        "outputId": "f38a91a5-cda7-4327-c79b-e5b0a2529631"
      },
      "execution_count": 13,
      "outputs": [
        {
          "output_type": "stream",
          "name": "stdout",
          "text": [
            "Accuracy: 0.7457583085193549\n",
            "--------------------------------------------------------------------------------------------------------------\n",
            "ROC AUC Score: 0.5160036600938706\n",
            "Confusion Matrix:\n",
            " [[36141  2946]\n",
            " [ 9776  1176]]\n",
            "--------------------------------------------------------------------------------------------------------------\n",
            "Classification Report:\n",
            "\n",
            "               precision    recall  f1-score   support\n",
            "\n",
            "           0       0.79      0.92      0.85     39087\n",
            "           1       0.29      0.11      0.16     10952\n",
            "\n",
            "    accuracy                           0.75     50039\n",
            "   macro avg       0.54      0.52      0.50     50039\n",
            "weighted avg       0.68      0.75      0.70     50039\n",
            "\n",
            "--------------------------------------------------------------------------------------------------------------\n",
            "Mean of features for each class:\n",
            " [[ 1.34998200e+02  7.49738986e+04  8.86793285e+03  3.90000000e+01\n",
            "   9.81146541e+04  2.02148441e+03  2.45077676e+01  1.07321120e+04\n",
            "   7.64938368e-01  4.57409509e+01  9.06476228e+00  3.31195852e+01\n",
            "   2.31583887e+08  7.97341317e+04  5.30351361e+10 -1.22215739e+02\n",
            "   4.75116903e+01]\n",
            " [ 2.20651536e+01  4.38425621e+04  6.37959718e+03  3.89357073e+01\n",
            "   9.81580044e+04  2.01932146e+03  1.64983761e+01  2.11546836e+03\n",
            "   1.03525729e+00  3.07391117e+01  1.77201409e+03  2.73069849e+01\n",
            "   2.15824314e+08  6.65047293e+04  5.29500600e+10 -1.21933271e+02\n",
            "   4.73689915e+01]]\n"
          ]
        }
      ]
    },
    {
      "cell_type": "code",
      "source": [
        "chart = 'Naive Bayes Classifier'\n",
        "\n",
        "plot_cm(cm, chart)"
      ],
      "metadata": {
        "colab": {
          "base_uri": "https://localhost:8080/",
          "height": 533
        },
        "id": "HdGFhBzO3Af9",
        "outputId": "3c3bc2a3-0fd9-4615-bd0e-e3ca7eac2681"
      },
      "execution_count": 14,
      "outputs": [
        {
          "output_type": "display_data",
          "data": {
            "text/plain": [
              "<Figure size 600x500 with 2 Axes>"
            ],
            "image/png": "[encoded data removed]"
          },
          "metadata": {}
        }
      ]
    },
    {
      "cell_type": "markdown",
      "source": [
        "Class 0: BEV  \n",
        "Class 1: PHEV"
      ],
      "metadata": {
        "id": "rmcI8iMQ3awM"
      }
    },
    {
      "cell_type": "markdown",
      "source": [
        "Accuracy (0.746):\n",
        "\n",
        "The accuracy metric indicates that the model correctly predicts the class label for approximately 74.6% of the instances in the dataset.\n",
        "ROC AUC Score (0.516):\n",
        "\n",
        "The ROC AUC score measures the model's ability to discriminate between positive and negative classes. A score of 0.516 suggests that the model's predictive performance is slightly better than random guessing.\n",
        "Confusion Matrix:\n",
        "\n",
        "The confusion matrix provides detailed information about the model's performance in terms of true positive (TP), true negative (TN), false positive (FP), and false negative (FN) predictions.\n",
        "The model correctly predicts 36,141 instances as class 0 (true negatives) and 1,176 instances as class 1 (true positives). However, it incorrectly predicts 2,946 instances as class 1 (false positives) and 9,776 instances as class 0 (false negatives).\n",
        "Classification Report:\n",
        "\n",
        "Precision, recall, and F1-score for each class provide insights into the model's performance.\n",
        "Class 0 (majority class) has higher precision, recall, and F1-score compared to class 1 (minority class). This indicates that the model is better at predicting class 0 instances.\n",
        "The weighted average F1-score is 0.70, indicating the overall performance of the model across both classes.\n",
        "Mean of Features for Each Class:\n",
        "\n",
        "The mean values of features for each class provide insights into the distribution of features among different classes.\n",
        "Features have different mean values for each class, suggesting that they contribute differently to the classification decision.\n",
        "In summary, while the model achieves decent accuracy, its performance is imbalanced across classes, with better performance on the majority class. The ROC AUC score suggests limited discriminative power, indicating potential room for improvement. Further analysis and potential model tuning may be necessary to address these issues and improve overall performance."
      ],
      "metadata": {
        "id": "NgvkaGIAAbSc"
      }
    },
    {
      "cell_type": "code",
      "source": [
        "from sklearn.naive_bayes import GaussianNB\n"
      ],
      "metadata": {
        "id": "b4gUS9dZ0BRt"
      },
      "execution_count": 15,
      "outputs": []
    },
    {
      "cell_type": "code",
      "source": [
        "nb_classifier = GaussianNB()\n",
        "\n",
        "# Fit the classifier to the training data\n",
        "nb_classifier.fit(X_train, y_train)\n",
        "\n",
        "# Evaluate the classifier on the training data\n",
        "train_accuracy = accuracy_score(y_train, nb_classifier.predict(X_train))\n",
        "train_probs = nb_classifier.predict_proba(X_train)[:, 1]\n",
        "train_roc_auc = roc_auc_score(y_train, train_probs)\n",
        "\n",
        "# Evaluate the classifier on the test data\n",
        "test_accuracy = accuracy_score(y_test, nb_classifier.predict(X_test))\n",
        "test_probs = nb_classifier.predict_proba(X_test)[:, 1]\n",
        "test_roc_auc = roc_auc_score(y_test, test_probs)\n",
        "\n",
        "print(\"Training Accuracy:\", train_accuracy)\n",
        "print(\"Training ROC AUC Score:\", train_roc_auc)\n",
        "print('--'*55)\n",
        "print(\"Test Accuracy:\", test_accuracy)\n",
        "print(\"Test ROC AUC Score:\", test_roc_auc)\n"
      ],
      "metadata": {
        "colab": {
          "base_uri": "https://localhost:8080/"
        },
        "id": "ysHl7xWR0rFD",
        "outputId": "4e383a18-c19d-4753-c0af-e982d795a5b6"
      },
      "execution_count": 20,
      "outputs": [
        {
          "output_type": "stream",
          "name": "stdout",
          "text": [
            "Training Accuracy: 0.7805508924594882\n",
            "Training ROC AUC Score: 0.7220637606798356\n",
            "--------------------------------------------------------------------------------------------------------------\n",
            "Test Accuracy: 0.7804912168508563\n",
            "Test ROC AUC Score: 0.7275593615471082\n"
          ]
        }
      ]
    },
    {
      "cell_type": "markdown",
      "source": [
        "The fact that the test accuracy is comparable to the training accuracy suggests that the model is generalizing well to unseen data. However, it's always a good idea to consider other performance metrics and conduct further analysis to ensure that the model's performance meets the project's requirements and goals."
      ],
      "metadata": {
        "id": "mPpwOW2vDrg8"
      }
    },
    {
      "cell_type": "markdown",
      "source": [
        "Logistic Regression"
      ],
      "metadata": {
        "id": "QNpjdKpqL5DA"
      }
    },
    {
      "cell_type": "code",
      "source": [
        "LR_classifier = LogisticRegression()\n",
        "LR_classifier.fit(X_train_resampled, y_train_resampled)\n",
        "\n",
        "# make predictions on the test data\n",
        "y_pred = LR_classifier.predict(X_test)\n",
        "\n",
        "# calculate metric evaluation and confusion matrix\n",
        "accurary = accuracy_score(y_test, y_pred)\n",
        "cm = confusion_matrix(y_test, y_pred)\n",
        "\n",
        "print(\"--\"*55)\n",
        "print(\"Accuracy     :\", accurary)\n",
        "print(\"ROC AUC Score:\", roc_auc_score(y_test, y_pred))\n",
        "\n",
        "print(\"--\"*55)\n",
        "print(\"Classification Report:\\n\\n\", classification_report(y_test, y_pred))\n",
        "print(\"--\"*55)\n",
        "\n",
        "print(\"Confusion Matrix:\\n\\n\", cm)\n",
        "print(\"--\"*55)\n",
        "\n"
      ],
      "metadata": {
        "colab": {
          "base_uri": "https://localhost:8080/"
        },
        "id": "0QE4X1VVL-I9",
        "outputId": "670800bc-c24c-4095-bfbf-dd40c6676e4d"
      },
      "execution_count": 21,
      "outputs": [
        {
          "output_type": "stream",
          "name": "stdout",
          "text": [
            "--------------------------------------------------------------------------------------------------------------\n",
            "Accuracy     : 0.516097443993685\n",
            "ROC AUC Score: 0.5136229776552663\n",
            "--------------------------------------------------------------------------------------------------------------\n",
            "Classification Report:\n",
            "\n",
            "               precision    recall  f1-score   support\n",
            "\n",
            "           0       0.79      0.52      0.63     39087\n",
            "           1       0.23      0.51      0.32     10952\n",
            "\n",
            "    accuracy                           0.52     50039\n",
            "   macro avg       0.51      0.51      0.47     50039\n",
            "weighted avg       0.67      0.52      0.56     50039\n",
            "\n",
            "--------------------------------------------------------------------------------------------------------------\n",
            "Confusion Matrix:\n",
            "\n",
            " [[20248 18839]\n",
            " [ 5375  5577]]\n",
            "--------------------------------------------------------------------------------------------------------------\n"
          ]
        }
      ]
    },
    {
      "cell_type": "markdown",
      "source": [
        "Accuracy (0.52): The accuracy represents the proportion of correctly predicted instances out of all instances. An accuracy of 0.52 suggests that the model correctly predicts around 52% of the instances in the dataset.\n",
        "\n",
        "ROC AUC Score (0.51): The ROC AUC score measures the model's ability to distinguish between positive and negative classes. A score of 0.51 indicates poor performance, as it's only slightly better than random guessing.\n",
        "\n",
        "Precision, Recall, and F1-score: These metrics provide insights into the model's performance for each class (0 and 1). The precision for class 1 (0.23) suggests that only 23% of the instances predicted as class 1 are actually class 1. The recall for class 1 (0.51) indicates that the model correctly identifies around 51% of the actual class 1 instances. The F1-score (harmonic mean of precision and recall) for class 1 is 0.32, which is relatively low.\n",
        "\n",
        "Confusion Matrix: The confusion matrix provides a breakdown of the model's predictions compared to the actual labels. In this case, there's a significant number of false positives (18839) and false negatives (5375), indicating that the model struggles to accurately classify both positive and negative instances.\n",
        "\n",
        "Overall, these results suggest that the Logistic Regression model's performance is not satisfactory. Feature scaling could potentially improve the model's performance by ensuring that all features contribute equally to the model's decision-making process. Additionally, further feature engineering and model tuning may also be necessary to enhance the model's predictive capabilities."
      ],
      "metadata": {
        "id": "KIWyrOrUDskb"
      }
    },
    {
      "cell_type": "code",
      "source": [
        "chart = 'Logistic Regression'\n",
        "\n",
        "plot_cm(cm, chart)"
      ],
      "metadata": {
        "colab": {
          "base_uri": "https://localhost:8080/",
          "height": 533
        },
        "id": "1bwbmfpqPxHA",
        "outputId": "747fdd71-4da6-4ed5-e596-f62a53d8ea9c"
      },
      "execution_count": 22,
      "outputs": [
        {
          "output_type": "display_data",
          "data": {
            "text/plain": [
              "<Figure size 600x500 with 2 Axes>"
            ],
            "image/png": "[encoded data removed]"
          },
          "metadata": {}
        }
      ]
    },
    {
      "cell_type": "markdown",
      "source": [
        "Class 0: BEV\n",
        "\n",
        "Class 1: PHEV"
      ],
      "metadata": {
        "id": "jhEbdfXwQFSn"
      }
    },
    {
      "cell_type": "code",
      "source": [
        "train_accuracy = accuracy_score(y_train_resampled, LR_classifier.predict(X_train_resampled))\n",
        "train_roc_auc = roc_auc_score(y_train_resampled, LR_classifier.predict_proba(X_train_resampled)[:,1])\n",
        "\n",
        "# Calculate test accuracy and ROC AUC score\n",
        "test_accuracy = accuracy_score(y_test, y_pred)\n",
        "test_roc_auc = roc_auc_score(y_test, LR_classifier.predict_proba(X_test)[:,1])\n",
        "\n",
        "print(\"Training Accuracy:\", train_accuracy)\n",
        "print(\"Training ROC AUC Score:\", train_roc_auc)\n",
        "print('--'*55)\n",
        "print(\"Test Accuracy:\", test_accuracy)\n",
        "print(\"Test ROC AUC Score:\", test_roc_auc)"
      ],
      "metadata": {
        "colab": {
          "base_uri": "https://localhost:8080/"
        },
        "id": "KpBfiV1H2yzs",
        "outputId": "a0fea6a8-a68f-4c7e-876f-d4bf558e2056"
      },
      "execution_count": 23,
      "outputs": [
        {
          "output_type": "stream",
          "name": "stdout",
          "text": [
            "Training Accuracy: 0.5988064957933869\n",
            "Training ROC AUC Score: 0.593620501026689\n",
            "--------------------------------------------------------------------------------------------------------------\n",
            "Test Accuracy: 0.516097443993685\n",
            "Test ROC AUC Score: 0.5147324375361415\n"
          ]
        }
      ]
    },
    {
      "cell_type": "markdown",
      "source": [
        "Considering the low accuracy and ROC AUC scores, it may be necessary to explore additional feature engineering techniques or shift focus towards alternative algorithms."
      ],
      "metadata": {
        "id": "itUrZiyB34qQ"
      }
    },
    {
      "cell_type": "markdown",
      "source": [
        "Random Forest"
      ],
      "metadata": {
        "id": "f7e7yosE-NwC"
      }
    },
    {
      "cell_type": "code",
      "source": [
        "# initialize the Random Forest classifier and fit it to the resampled training data\n",
        "RF_classifier = RandomForestClassifier(n_estimators=100)\n",
        "RF_classifier.fit(X_train_resampled, y_train_resampled)\n",
        "\n",
        "# make predictions on the test data\n",
        "y_pred = RF_classifier.predict(X_test)\n",
        "\n",
        "# calculate metric evaluation and confusion matrix\n",
        "accurary = accuracy_score(y_test, y_pred)\n",
        "cm = confusion_matrix(y_test, y_pred)\n",
        "\n",
        "print(\"=\"*55)\n",
        "print(\"Accuracy     :\", accurary)\n",
        "print(\"ROC AUC Score:\", roc_auc_score(y_test, y_pred))\n",
        "\n",
        "print(\"--\"*55)\n",
        "print(\"Classification Report:\\n\\n\", classification_report(y_test, y_pred))\n",
        "print(\"--\"*55)\n",
        "\n",
        "print(\"Confusion Matrix:\\n\\n\", cm)\n",
        "print(\"--\"*55)"
      ],
      "metadata": {
        "colab": {
          "base_uri": "https://localhost:8080/"
        },
        "id": "xaKWDfmk-L0Z",
        "outputId": "241b392c-1c8c-4a1b-9118-ee3323401b18"
      },
      "execution_count": 24,
      "outputs": [
        {
          "output_type": "stream",
          "name": "stdout",
          "text": [
            "=======================================================\n",
            "Accuracy     : 0.9990407482163912\n",
            "ROC AUC Score: 0.9992545379701475\n",
            "--------------------------------------------------------------------------------------------------------------\n",
            "Classification Report:\n",
            "\n",
            "               precision    recall  f1-score   support\n",
            "\n",
            "           0       1.00      1.00      1.00     39087\n",
            "           1       1.00      1.00      1.00     10952\n",
            "\n",
            "    accuracy                           1.00     50039\n",
            "   macro avg       1.00      1.00      1.00     50039\n",
            "weighted avg       1.00      1.00      1.00     50039\n",
            "\n",
            "--------------------------------------------------------------------------------------------------------------\n",
            "Confusion Matrix:\n",
            "\n",
            " [[39043    44]\n",
            " [    4 10948]]\n",
            "--------------------------------------------------------------------------------------------------------------\n"
          ]
        }
      ]
    },
    {
      "cell_type": "code",
      "source": [
        "chart = 'Random Forest'\n",
        "\n",
        "plot_cm(cm, chart)"
      ],
      "metadata": {
        "colab": {
          "base_uri": "https://localhost:8080/",
          "height": 533
        },
        "id": "bIbqmiO6_TOp",
        "outputId": "0ade4c3c-2eae-4d04-a73f-9e8bf38d3f01"
      },
      "execution_count": 25,
      "outputs": [
        {
          "output_type": "display_data",
          "data": {
            "text/plain": [
              "<Figure size 600x500 with 2 Axes>"
            ],
            "image/png": "[encoded data removed]"
          },
          "metadata": {}
        }
      ]
    },
    {
      "cell_type": "markdown",
      "source": [
        "Class 0: BEV\n",
        "\n",
        "Class 1: PHEV"
      ],
      "metadata": {
        "id": "T7o2SnMp_YiL"
      }
    },
    {
      "cell_type": "markdown",
      "source": [
        "The output indicates very high accuracy and ROC AUC scores, as well as perfect precision, recall, and F1-score values for both classes in the classification report. The confusion matrix also shows very few misclassifications, with only 52 instances out of 50039 being incorrectly classified. This suggests that the Random Forest model is performing exceptionally well and achieving near-perfect results on the test dataset."
      ],
      "metadata": {
        "id": "Zckb5oa-_a88"
      }
    },
    {
      "cell_type": "code",
      "source": [
        "RF_classifier = RandomForestClassifier()\n",
        "\n",
        "# Fit the model on the resampled training data\n",
        "RF_classifier.fit(X_train_resampled, y_train_resampled)\n",
        "\n",
        "# Calculate training accuracy and ROC AUC score\n",
        "train_accuracy = accuracy_score(y_train_resampled, RF_classifier.predict(X_train_resampled))\n",
        "train_roc_auc = roc_auc_score(y_train_resampled, RF_classifier.predict_proba(X_train_resampled)[:,1])\n",
        "\n",
        "# Calculate test accuracy and ROC AUC score\n",
        "test_accuracy = accuracy_score(y_test, RF_classifier.predict(X_test))\n",
        "test_roc_auc = roc_auc_score(y_test, RF_classifier.predict_proba(X_test)[:,1])\n",
        "\n",
        "print(\"Training Accuracy:\", train_accuracy)\n",
        "print(\"Training ROC AUC Score:\", train_roc_auc)\n",
        "print('--'*55)\n",
        "print(\"Test Accuracy:\", test_accuracy)\n",
        "print(\"Test ROC AUC Score:\", test_roc_auc)\n"
      ],
      "metadata": {
        "colab": {
          "base_uri": "https://localhost:8080/"
        },
        "id": "BOvTVfBtA5hd",
        "outputId": "8a4ace4f-6562-4b9a-f3f3-7c3f8c72e37a"
      },
      "execution_count": 26,
      "outputs": [
        {
          "output_type": "stream",
          "name": "stdout",
          "text": [
            "Training Accuracy: 1.0\n",
            "Training ROC AUC Score: 1.0\n",
            "--------------------------------------------------------------------------------------------------------------\n",
            "Test Accuracy: 0.998800935270489\n",
            "Test ROC AUC Score: 0.9999938224282618\n"
          ]
        }
      ]
    },
    {
      "cell_type": "markdown",
      "source": [
        "The Random Forest classifier demonstrates outstanding performance, achieving perfect accuracy and ROC AUC score of 1.0 on the training data, indicating flawless classification and excellent discrimination between positive and negative classes. On the test dataset, the model maintains remarkably high accuracy (almost perfect at 0.9989) and an almost perfect ROC AUC score (0.99998), showcasing its ability to generalize well to unseen data and make accurate predictions. These results underscore the effectiveness of the Random Forest model in capturing the underlying patterns within the data, although achieving perfect training accuracy may raise concerns about potential overfitting, necessitating careful monitoring and consideration of regularization techniques."
      ],
      "metadata": {
        "id": "yhKDEpOmHX_S"
      }
    },
    {
      "cell_type": "markdown",
      "source": [
        "XGBoost"
      ],
      "metadata": {
        "id": "Fi9ym0f8c9J1"
      }
    },
    {
      "cell_type": "markdown",
      "source": [
        "\n",
        "The provided parameters configure an XGBoost classifier for binary classification tasks. The objective is set to perform binary logistic regression, with the evaluation metric defined as logloss to assess the model's performance. A learning rate of 0.1 controls the step size during optimization, while the maximum depth of 3 limits the complexity of individual trees to mitigate overfitting. The minimum child weight is set to 1, imposing regularization by requiring a minimum sum of instance weights for further partitioning. A gamma value of 0 determines the minimum loss reduction needed to split a leaf node, while subsampling and column sampling (set to 0.8 for both) introduce randomness to prevent overfitting. Finally, a seed value of 42 ensures reproducibility by providing a fixed random state for the algorithm's random number generation. These parameters collectively shape the learning behavior and performance of the XGBoost model in binary classification tasks. Adjusting them appropriately is crucial for optimizing model performance and generalization."
      ],
      "metadata": {
        "id": "F6qxt8APfOgy"
      }
    },
    {
      "cell_type": "code",
      "source": [
        "params = {\n",
        "    'objective': 'binary:logistic',\n",
        "    'eval_metric': 'logloss',\n",
        "    'eta': 0.1,\n",
        "    'max_depth': 3,\n",
        "    'min_child_weight': 1,\n",
        "    'gamma': 0,\n",
        "    'subsample': 0.8,\n",
        "    'colsample_bytree': 0.8,\n",
        "    'seed': 42\n",
        "}\n",
        "\n",
        "# initialize the XGBoost classifier and fit it to the resampled training data\n",
        "XGB_classifier = xgb.XGBClassifier(**params)\n",
        "XGB_classifier.fit(X_train_resampled, y_train_resampled)\n",
        "\n",
        "# make predictions on the test data\n",
        "y_pred = XGB_classifier.predict(X_test)\n",
        "\n",
        "# calculate metric evaluation and confusion matrix\n",
        "accurary = accuracy_score(y_test, y_pred)\n",
        "cm = confusion_matrix(y_test, y_pred)\n",
        "\n",
        "# print the result\n",
        "print(\"--\"*55)\n",
        "print(\"Accuracy     :\", accurary)\n",
        "print(\"ROC AUC Score:\", roc_auc_score(y_test, y_pred))\n",
        "\n",
        "print(\"--\"*55)\n",
        "print(\"Classification Report:\\n\\n\", classification_report(y_test, y_pred))\n",
        "print(\"--\"*55)\n",
        "\n",
        "print(\"Confusion Matrix:\\n\\n\", cm)\n"
      ],
      "metadata": {
        "colab": {
          "base_uri": "https://localhost:8080/"
        },
        "id": "Y6KGFPQdc-0c",
        "outputId": "79f0d3ed-197e-4eaa-9af2-e077a0966e40"
      },
      "execution_count": 27,
      "outputs": [
        {
          "output_type": "stream",
          "name": "stdout",
          "text": [
            "--------------------------------------------------------------------------------------------------------------\n",
            "Accuracy     : 0.9989408261555986\n",
            "ROC AUC Score: 0.9991248545157912\n",
            "--------------------------------------------------------------------------------------------------------------\n",
            "Classification Report:\n",
            "\n",
            "               precision    recall  f1-score   support\n",
            "\n",
            "           0       1.00      1.00      1.00     39087\n",
            "           1       1.00      1.00      1.00     10952\n",
            "\n",
            "    accuracy                           1.00     50039\n",
            "   macro avg       1.00      1.00      1.00     50039\n",
            "weighted avg       1.00      1.00      1.00     50039\n",
            "\n",
            "--------------------------------------------------------------------------------------------------------------\n",
            "Confusion Matrix:\n",
            "\n",
            " [[39040    47]\n",
            " [    6 10946]]\n"
          ]
        }
      ]
    },
    {
      "cell_type": "markdown",
      "source": [
        "The XGBoost model demonstrates exceptional performance, achieving a high accuracy of 99.89% and an impressive ROC AUC score of 99.91%. These metrics indicate that the model accurately predicts both positive and negative classes, with minimal misclassifications. The classification report further supports this, showing precision, recall, and F1-score of 1.00 for both classes, indicating perfect performance in terms of precision, recall, and their harmonic mean. The confusion matrix confirms these findings, with only a small number of instances misclassified, resulting in 47 false positives and 6 false negatives out of a total of 50,039 instances. Overall, the XGBoost model demonstrates outstanding predictive performance and generalization capability on the test dataset."
      ],
      "metadata": {
        "id": "WE-XS9WPgOy-"
      }
    },
    {
      "cell_type": "code",
      "source": [
        "chart = 'XGBoost'\n",
        "\n",
        "plot_cm(cm, chart)"
      ],
      "metadata": {
        "colab": {
          "base_uri": "https://localhost:8080/",
          "height": 533
        },
        "id": "trPSseECfoa4",
        "outputId": "ad45fa49-f663-44bf-e653-f42062c8dcaf"
      },
      "execution_count": 28,
      "outputs": [
        {
          "output_type": "display_data",
          "data": {
            "text/plain": [
              "<Figure size 600x500 with 2 Axes>"
            ],
            "image/png": "[encoded data removed]"
          },
          "metadata": {}
        }
      ]
    },
    {
      "cell_type": "markdown",
      "source": [
        "Class 0: BEV\n",
        "\n",
        "Class 1: PHEV"
      ],
      "metadata": {
        "id": "bpOuMJ3bf5Cw"
      }
    },
    {
      "cell_type": "code",
      "source": [
        "XGB_classifier.fit(X_train_resampled, y_train_resampled)\n",
        "\n",
        "# Calculate training accuracy and ROC AUC score\n",
        "train_accuracy = accuracy_score(y_train_resampled, XGB_classifier.predict(X_train_resampled))\n",
        "train_roc_auc = roc_auc_score(y_train_resampled, XGB_classifier.predict_proba(X_train_resampled)[:, 1])\n",
        "\n",
        "# Calculate test accuracy and ROC AUC score\n",
        "test_accuracy = accuracy_score(y_test, XGB_classifier.predict(X_test))\n",
        "test_roc_auc = roc_auc_score(y_test, XGB_classifier.predict_proba(X_test)[:, 1])\n",
        "\n",
        "print(\"Training Accuracy:\", train_accuracy)\n",
        "print(\"Training ROC AUC Score:\", train_roc_auc)\n",
        "print('--'*55)\n",
        "print(\"Test Accuracy:\", test_accuracy)\n",
        "print(\"Test ROC AUC Score:\", test_roc_auc)"
      ],
      "metadata": {
        "colab": {
          "base_uri": "https://localhost:8080/"
        },
        "id": "DkvZCKLHgAXS",
        "outputId": "b1bd28cb-9d25-4b9d-aa90-a6a1677ce03a"
      },
      "execution_count": 29,
      "outputs": [
        {
          "output_type": "stream",
          "name": "stdout",
          "text": [
            "Training Accuracy: 0.9998239092154177\n",
            "Training ROC AUC Score: 0.9999875608296829\n",
            "--------------------------------------------------------------------------------------------------------------\n",
            "Test Accuracy: 0.9989408261555986\n",
            "Test ROC AUC Score: 0.9999829378014841\n"
          ]
        }
      ]
    },
    {
      "cell_type": "markdown",
      "source": [
        "The XGBoost model achieves a remarkably high performance on both the training and test datasets. With a training accuracy of 99.98% and a training ROC AUC score of 99.99%, the model demonstrates its capability to effectively learn from the resampled training data. Furthermore, on the test dataset, the model maintains exceptional accuracy, achieving 99.89%, indicating its robustness and generalization ability. Additionally, the test ROC AUC score of 99.99% further confirms the model's strong predictive power and its ability to discriminate between the positive and negative classes effectively. Overall, the XGBoost model exhibits outstanding performance and is well-suited for the classification task at hand."
      ],
      "metadata": {
        "id": "H7RRWz6ng1cR"
      }
    },
    {
      "cell_type": "markdown",
      "source": [
        "Inital Model Evaluation"
      ],
      "metadata": {
        "id": "nXBg77kghMG0"
      }
    },
    {
      "cell_type": "code",
      "source": [
        "dict_result = {'Model': ['Naive Bayes', 'Logistic Regression', 'Random Forest', 'XGBoost'],\n",
        "               \"Accuracy (train)\": [accuracy_score(y_train, nb_classifier.predict(X_train)),\n",
        "                                    accuracy_score(y_train_resampled, LR_classifier.predict(X_train_resampled)),\n",
        "                                    accuracy_score(y_train_resampled, RF_classifier.predict(X_train_resampled)),\n",
        "                                    accuracy_score(y_train_resampled, XGB_classifier.predict(X_train_resampled))],\n",
        "               \"Accuracy (test)\": [accuracy_score(y_test, nb_classifier.predict(X_test)),\n",
        "                                   accuracy_score(y_test, LR_classifier.predict(X_test)),\n",
        "                                   accuracy_score(y_test, RF_classifier.predict(X_test)),\n",
        "                                   accuracy_score(y_test, XGB_classifier.predict(X_test))],\n",
        "               \"ROC-AUC (train)\": [roc_auc_score(y_train, nb_classifier.predict_proba(X_train)[:, 1]),\n",
        "                                    roc_auc_score(y_train_resampled, LR_classifier.predict_proba(X_train_resampled)[:, 1]),\n",
        "                                    roc_auc_score(y_train_resampled, RF_classifier.predict_proba(X_train_resampled)[:, 1]),\n",
        "                                    roc_auc_score(y_train_resampled, XGB_classifier.predict_proba(X_train_resampled)[:, 1])],\n",
        "               \"ROC-AUC (test)\": [roc_auc_score(y_test, nb_classifier.predict_proba(X_test)[:, 1]),\n",
        "                                   roc_auc_score(y_test, LR_classifier.predict_proba(X_test)[:, 1]),\n",
        "                                   roc_auc_score(y_test, RF_classifier.predict_proba(X_test)[:, 1]),\n",
        "                                   roc_auc_score(y_test, XGB_classifier.predict_proba(X_test)[:, 1])]}\n",
        "\n",
        "model_result = pd.DataFrame(dict_result).sort_values(by=['ROC-AUC (test)', 'Accuracy (test)'], ascending=False).reset_index(drop=True)\n",
        "model_result\n"
      ],
      "metadata": {
        "colab": {
          "base_uri": "https://localhost:8080/",
          "height": 174
        },
        "id": "uRy5HxSqhnW9",
        "outputId": "445b09ac-ea63-4653-ffb0-4bd4901291c4"
      },
      "execution_count": 30,
      "outputs": [
        {
          "output_type": "execute_result",
          "data": {
            "text/plain": [
              "                 Model  Accuracy (train)  Accuracy (test)  ROC-AUC (train)  \\\n",
              "0        Random Forest          1.000000         0.998801         1.000000   \n",
              "1              XGBoost          0.999824         0.998941         0.999988   \n",
              "2          Naive Bayes          0.780551         0.780491         0.722064   \n",
              "3  Logistic Regression          0.598806         0.516097         0.593621   \n",
              "\n",
              "   ROC-AUC (test)  \n",
              "0        0.999994  \n",
              "1        0.999983  \n",
              "2        0.727559  \n",
              "3        0.514732  "
            ],
            "text/html": [
              "\n",
              "  <div id=\"df-ddbad6f4-e9b6-4dca-9800-fc6c2faf6c1d\" class=\"colab-df-container\">\n",
              "    <div>\n",
              "<style scoped>\n",
              "    .dataframe tbody tr th:only-of-type {\n",
              "        vertical-align: middle;\n",
              "    }\n",
              "\n",
              "    .dataframe tbody tr th {\n",
              "        vertical-align: top;\n",
              "    }\n",
              "\n",
              "    .dataframe thead th {\n",
              "        text-align: right;\n",
              "    }\n",
              "</style>\n",
              "<table border=\"1\" class=\"dataframe\">\n",
              "  <thead>\n",
              "    <tr style=\"text-align: right;\">\n",
              "      <th></th>\n",
              "      <th>Model</th>\n",
              "      <th>Accuracy (train)</th>\n",
              "      <th>Accuracy (test)</th>\n",
              "      <th>ROC-AUC (train)</th>\n",
              "      <th>ROC-AUC (test)</th>\n",
              "    </tr>\n",
              "  </thead>\n",
              "  <tbody>\n",
              "    <tr>\n",
              "      <th>0</th>\n",
              "      <td>Random Forest</td>\n",
              "      <td>1.000000</td>\n",
              "      <td>0.998801</td>\n",
              "      <td>1.000000</td>\n",
              "      <td>0.999994</td>\n",
              "    </tr>\n",
              "    <tr>\n",
              "      <th>1</th>\n",
              "      <td>XGBoost</td>\n",
              "      <td>0.999824</td>\n",
              "      <td>0.998941</td>\n",
              "      <td>0.999988</td>\n",
              "      <td>0.999983</td>\n",
              "    </tr>\n",
              "    <tr>\n",
              "      <th>2</th>\n",
              "      <td>Naive Bayes</td>\n",
              "      <td>0.780551</td>\n",
              "      <td>0.780491</td>\n",
              "      <td>0.722064</td>\n",
              "      <td>0.727559</td>\n",
              "    </tr>\n",
              "    <tr>\n",
              "      <th>3</th>\n",
              "      <td>Logistic Regression</td>\n",
              "      <td>0.598806</td>\n",
              "      <td>0.516097</td>\n",
              "      <td>0.593621</td>\n",
              "      <td>0.514732</td>\n",
              "    </tr>\n",
              "  </tbody>\n",
              "</table>\n",
              "</div>\n",
              "    <div class=\"colab-df-buttons\">\n",
              "\n",
              "  <div class=\"colab-df-container\">\n",
              "    <button class=\"colab-df-convert\" onclick=\"convertToInteractive('df-ddbad6f4-e9b6-4dca-9800-fc6c2faf6c1d')\"\n",
              "            title=\"Convert this dataframe to an interactive table.\"\n",
              "            style=\"display:none;\">\n",
              "\n",
              "  <svg xmlns=\"http://www.w3.org/2000/svg\" height=\"24px\" viewBox=\"0 -960 960 960\">\n",
              "    <path d=\"M120-120v-720h720v720H120Zm60-500h600v-160H180v160Zm220 220h160v-160H400v160Zm0 220h160v-160H400v160ZM180-400h160v-160H180v160Zm440 0h160v-160H620v160ZM180-180h160v-160H180v160Zm440 0h160v-160H620v160Z\"/>\n",
              "  </svg>\n",
              "    </button>\n",
              "\n",
              "  <style>\n",
              "    .colab-df-container {\n",
              "      display:flex;\n",
              "      gap: 12px;\n",
              "    }\n",
              "\n",
              "    .colab-df-convert {\n",
              "      background-color: #E8F0FE;\n",
              "      border: none;\n",
              "      border-radius: 50%;\n",
              "      cursor: pointer;\n",
              "      display: none;\n",
              "      fill: #1967D2;\n",
              "      height: 32px;\n",
              "      padding: 0 0 0 0;\n",
              "      width: 32px;\n",
              "    }\n",
              "\n",
              "    .colab-df-convert:hover {\n",
              "      background-color: #E2EBFA;\n",
              "      box-shadow: 0px 1px 2px rgba(60, 64, 67, 0.3), 0px 1px 3px 1px rgba(60, 64, 67, 0.15);\n",
              "      fill: #174EA6;\n",
              "    }\n",
              "\n",
              "    .colab-df-buttons div {\n",
              "      margin-bottom: 4px;\n",
              "    }\n",
              "\n",
              "    [theme=dark] .colab-df-convert {\n",
              "      background-color: #3B4455;\n",
              "      fill: #D2E3FC;\n",
              "    }\n",
              "\n",
              "    [theme=dark] .colab-df-convert:hover {\n",
              "      background-color: #434B5C;\n",
              "      box-shadow: 0px 1px 3px 1px rgba(0, 0, 0, 0.15);\n",
              "      filter: drop-shadow(0px 1px 2px rgba(0, 0, 0, 0.3));\n",
              "      fill: #FFFFFF;\n",
              "    }\n",
              "  </style>\n",
              "\n",
              "    <script>\n",
              "      const buttonEl =\n",
              "        document.querySelector('#df-ddbad6f4-e9b6-4dca-9800-fc6c2faf6c1d button.colab-df-convert');\n",
              "      buttonEl.style.display =\n",
              "        google.colab.kernel.accessAllowed ? 'block' : 'none';\n",
              "\n",
              "      async function convertToInteractive(key) {\n",
              "        const element = document.querySelector('#df-ddbad6f4-e9b6-4dca-9800-fc6c2faf6c1d');\n",
              "        const dataTable =\n",
              "          await google.colab.kernel.invokeFunction('convertToInteractive',\n",
              "                                                    [key], {});\n",
              "        if (!dataTable) return;\n",
              "\n",
              "        const docLinkHtml = 'Like what you see? Visit the ' +\n",
              "          '<a target=\"_blank\" href=https://colab.research.google.com/notebooks/data_table.ipynb>data table notebook</a>'\n",
              "          + ' to learn more about interactive tables.';\n",
              "        element.innerHTML = '';\n",
              "        dataTable['output_type'] = 'display_data';\n",
              "        await google.colab.output.renderOutput(dataTable, element);\n",
              "        const docLink = document.createElement('div');\n",
              "        docLink.innerHTML = docLinkHtml;\n",
              "        element.appendChild(docLink);\n",
              "      }\n",
              "    </script>\n",
              "  </div>\n",
              "\n",
              "\n",
              "<div id=\"df-95da7de0-8a16-4051-9b05-faca3f3b9f0a\">\n",
              "  <button class=\"colab-df-quickchart\" onclick=\"quickchart('df-95da7de0-8a16-4051-9b05-faca3f3b9f0a')\"\n",
              "            title=\"Suggest charts\"\n",
              "            style=\"display:none;\">\n",
              "\n",
              "<svg xmlns=\"http://www.w3.org/2000/svg\" height=\"24px\"viewBox=\"0 0 24 24\"\n",
              "     width=\"24px\">\n",
              "    <g>\n",
              "        <path d=\"M19 3H5c-1.1 0-2 .9-2 2v14c0 1.1.9 2 2 2h14c1.1 0 2-.9 2-2V5c0-1.1-.9-2-2-2zM9 17H7v-7h2v7zm4 0h-2V7h2v10zm4 0h-2v-4h2v4z\"/>\n",
              "    </g>\n",
              "</svg>\n",
              "  </button>\n",
              "\n",
              "<style>\n",
              "  .colab-df-quickchart {\n",
              "      --bg-color: #E8F0FE;\n",
              "      --fill-color: #1967D2;\n",
              "      --hover-bg-color: #E2EBFA;\n",
              "      --hover-fill-color: #174EA6;\n",
              "      --disabled-fill-color: #AAA;\n",
              "      --disabled-bg-color: #DDD;\n",
              "  }\n",
              "\n",
              "  [theme=dark] .colab-df-quickchart {\n",
              "      --bg-color: #3B4455;\n",
              "      --fill-color: #D2E3FC;\n",
              "      --hover-bg-color: #434B5C;\n",
              "      --hover-fill-color: #FFFFFF;\n",
              "      --disabled-bg-color: #3B4455;\n",
              "      --disabled-fill-color: #666;\n",
              "  }\n",
              "\n",
              "  .colab-df-quickchart {\n",
              "    background-color: var(--bg-color);\n",
              "    border: none;\n",
              "    border-radius: 50%;\n",
              "    cursor: pointer;\n",
              "    display: none;\n",
              "    fill: var(--fill-color);\n",
              "    height: 32px;\n",
              "    padding: 0;\n",
              "    width: 32px;\n",
              "  }\n",
              "\n",
              "  .colab-df-quickchart:hover {\n",
              "    background-color: var(--hover-bg-color);\n",
              "    box-shadow: 0 1px 2px rgba(60, 64, 67, 0.3), 0 1px 3px 1px rgba(60, 64, 67, 0.15);\n",
              "    fill: var(--button-hover-fill-color);\n",
              "  }\n",
              "\n",
              "  .colab-df-quickchart-complete:disabled,\n",
              "  .colab-df-quickchart-complete:disabled:hover {\n",
              "    background-color: var(--disabled-bg-color);\n",
              "    fill: var(--disabled-fill-color);\n",
              "    box-shadow: none;\n",
              "  }\n",
              "\n",
              "  .colab-df-spinner {\n",
              "    border: 2px solid var(--fill-color);\n",
              "    border-color: transparent;\n",
              "    border-bottom-color: var(--fill-color);\n",
              "    animation:\n",
              "      spin 1s steps(1) infinite;\n",
              "  }\n",
              "\n",
              "  @keyframes spin {\n",
              "    0% {\n",
              "      border-color: transparent;\n",
              "      border-bottom-color: var(--fill-color);\n",
              "      border-left-color: var(--fill-color);\n",
              "    }\n",
              "    20% {\n",
              "      border-color: transparent;\n",
              "      border-left-color: var(--fill-color);\n",
              "      border-top-color: var(--fill-color);\n",
              "    }\n",
              "    30% {\n",
              "      border-color: transparent;\n",
              "      border-left-color: var(--fill-color);\n",
              "      border-top-color: var(--fill-color);\n",
              "      border-right-color: var(--fill-color);\n",
              "    }\n",
              "    40% {\n",
              "      border-color: transparent;\n",
              "      border-right-color: var(--fill-color);\n",
              "      border-top-color: var(--fill-color);\n",
              "    }\n",
              "    60% {\n",
              "      border-color: transparent;\n",
              "      border-right-color: var(--fill-color);\n",
              "    }\n",
              "    80% {\n",
              "      border-color: transparent;\n",
              "      border-right-color: var(--fill-color);\n",
              "      border-bottom-color: var(--fill-color);\n",
              "    }\n",
              "    90% {\n",
              "      border-color: transparent;\n",
              "      border-bottom-color: var(--fill-color);\n",
              "    }\n",
              "  }\n",
              "</style>\n",
              "\n",
              "  <script>\n",
              "    async function quickchart(key) {\n",
              "      const quickchartButtonEl =\n",
              "        document.querySelector('#' + key + ' button');\n",
              "      quickchartButtonEl.disabled = true;  // To prevent multiple clicks.\n",
              "      quickchartButtonEl.classList.add('colab-df-spinner');\n",
              "      try {\n",
              "        const charts = await google.colab.kernel.invokeFunction(\n",
              "            'suggestCharts', [key], {});\n",
              "      } catch (error) {\n",
              "        console.error('Error during call to suggestCharts:', error);\n",
              "      }\n",
              "      quickchartButtonEl.classList.remove('colab-df-spinner');\n",
              "      quickchartButtonEl.classList.add('colab-df-quickchart-complete');\n",
              "    }\n",
              "    (() => {\n",
              "      let quickchartButtonEl =\n",
              "        document.querySelector('#df-95da7de0-8a16-4051-9b05-faca3f3b9f0a button');\n",
              "      quickchartButtonEl.style.display =\n",
              "        google.colab.kernel.accessAllowed ? 'block' : 'none';\n",
              "    })();\n",
              "  </script>\n",
              "</div>\n",
              "    </div>\n",
              "  </div>\n"
            ],
            "application/vnd.google.colaboratory.intrinsic+json": {
              "type": "dataframe",
              "variable_name": "model_result",
              "summary": "{\n  \"name\": \"model_result\",\n  \"rows\": 4,\n  \"fields\": [\n    {\n      \"column\": \"Model\",\n      \"properties\": {\n        \"dtype\": \"string\",\n        \"num_unique_values\": 4,\n        \"samples\": [\n          \"XGBoost\",\n          \"Logistic Regression\",\n          \"Random Forest\"\n        ],\n        \"semantic_type\": \"\",\n        \"description\": \"\"\n      }\n    },\n    {\n      \"column\": \"Accuracy (train)\",\n      \"properties\": {\n        \"dtype\": \"number\",\n        \"std\": 0.19387298614693174,\n        \"min\": 0.5988064957933869,\n        \"max\": 1.0,\n        \"num_unique_values\": 4,\n        \"samples\": [\n          0.9998239092154177,\n          0.5988064957933869,\n          1.0\n        ],\n        \"semantic_type\": \"\",\n        \"description\": \"\"\n      }\n    },\n    {\n      \"column\": \"Accuracy (test)\",\n      \"properties\": {\n        \"dtype\": \"number\",\n        \"std\": 0.22938756211655828,\n        \"min\": 0.516097443993685,\n        \"max\": 0.9989408261555986,\n        \"num_unique_values\": 4,\n        \"samples\": [\n          0.9989408261555986,\n          0.516097443993685,\n          0.998800935270489\n        ],\n        \"semantic_type\": \"\",\n        \"description\": \"\"\n      }\n    },\n    {\n      \"column\": \"ROC-AUC (train)\",\n      \"properties\": {\n        \"dtype\": \"number\",\n        \"std\": 0.20438247384926703,\n        \"min\": 0.593620501026689,\n        \"max\": 1.0,\n        \"num_unique_values\": 4,\n        \"samples\": [\n          0.9999875608296829,\n          0.593620501026689,\n          1.0\n        ],\n        \"semantic_type\": \"\",\n        \"description\": \"\"\n      }\n    },\n    {\n      \"column\": \"ROC-AUC (test)\",\n      \"properties\": {\n        \"dtype\": \"number\",\n        \"std\": 0.23535028853329407,\n        \"min\": 0.5147324375361415,\n        \"max\": 0.9999938224282618,\n        \"num_unique_values\": 4,\n        \"samples\": [\n          0.9999829378014841,\n          0.5147324375361415,\n          0.9999938224282618\n        ],\n        \"semantic_type\": \"\",\n        \"description\": \"\"\n      }\n    }\n  ]\n}"
            }
          },
          "metadata": {},
          "execution_count": 30
        }
      ]
    },
    {
      "cell_type": "markdown",
      "source": [
        "Based on the evaluation metrics, the Random Forest model performed the best among the four models, achieving perfect accuracy on the training data (1.000) and very high accuracy on the test data (0.999). It also achieved a perfect ROC-AUC score on the training data (1.000) and a near-perfect score on the test data (0.999).\n",
        "\n",
        "The XGBoost model also performed well, with high accuracy on both the training data (0.999) and the test data (0.999). Similarly, it achieved excellent ROC-AUC scores on both the training data (0.999) and the test data (0.999).\n",
        "\n",
        "The Naive Bayes model had lower accuracy compared to the Random Forest and XGBoost models, achieving an accuracy of 0.780 on both the training and test data. The ROC-AUC scores for this model were also lower, indicating less robust performance compared to the other models.\n",
        "\n",
        "The Logistic Regression model performed the poorest among the four models, with an accuracy of 0.599 on the training data and 0.516 on the test data. The ROC-AUC scores were also relatively low, suggesting suboptimal performance compared to the other models.\n",
        "\n",
        "Overall, the Random Forest and XGBoost models demonstrated superior performance in terms of both accuracy and ROC-AUC scores compared to the Naive Bayes and Logistic Regression models.\n",
        "\n",
        "\n",
        "\n",
        "\n",
        "\n",
        "\n",
        "\n"
      ],
      "metadata": {
        "id": "fkmEiZsJlDvB"
      }
    },
    {
      "source": [
        "# @title Model vs ROC-AUC (test)\n",
        "\n",
        "from matplotlib import pyplot as plt\n",
        "import seaborn as sns\n",
        "figsize = (12, 1.2 * len(model_result['Model'].unique()))\n",
        "plt.figure(figsize=figsize)\n",
        "sns.violinplot(model_result, x='ROC-AUC (test)', y='Model', inner='stick', palette='Dark2')\n",
        "sns.despine(top=True, right=True, bottom=True, left=True)"
      ],
      "cell_type": "code",
      "execution_count": 31,
      "outputs": [
        {
          "output_type": "stream",
          "name": "stderr",
          "text": [
            "<ipython-input-31-82de5b662860>:7: FutureWarning: \n",
            "\n",
            "Passing `palette` without assigning `hue` is deprecated and will be removed in v0.14.0. Assign the `y` variable to `hue` and set `legend=False` for the same effect.\n",
            "\n",
            "  sns.violinplot(model_result, x='ROC-AUC (test)', y='Model', inner='stick', palette='Dark2')\n"
          ]
        },
        {
          "output_type": "display_data",
          "data": {
            "text/plain": [
              "<Figure size 1200x480 with 1 Axes>"
            ],
            "image/png": "[encoded data removed]"
          },
          "metadata": {}
        }
      ],
      "metadata": {
        "cellView": "form",
        "colab": {
          "base_uri": "https://localhost:8080/",
          "height": 545
        },
        "id": "noaEfAdPn3WG",
        "outputId": "9d632a91-ce0c-457f-ee36-97eb37f5f1aa"
      }
    },
    {
      "source": [
        "# @title Model vs ROC-AUC (train)\n",
        "\n",
        "from matplotlib import pyplot as plt\n",
        "import seaborn as sns\n",
        "figsize = (12, 1.2 * len(model_result['Model'].unique()))\n",
        "plt.figure(figsize=figsize)\n",
        "sns.violinplot(model_result, x='ROC-AUC (train)', y='Model', inner='stick', palette='Dark2')\n",
        "sns.despine(top=True, right=True, bottom=True, left=True)"
      ],
      "cell_type": "code",
      "execution_count": 32,
      "outputs": [
        {
          "output_type": "stream",
          "name": "stderr",
          "text": [
            "<ipython-input-32-431e9bf4c0b1>:7: FutureWarning: \n",
            "\n",
            "Passing `palette` without assigning `hue` is deprecated and will be removed in v0.14.0. Assign the `y` variable to `hue` and set `legend=False` for the same effect.\n",
            "\n",
            "  sns.violinplot(model_result, x='ROC-AUC (train)', y='Model', inner='stick', palette='Dark2')\n"
          ]
        },
        {
          "output_type": "display_data",
          "data": {
            "text/plain": [
              "<Figure size 1200x480 with 1 Axes>"
            ],
            "image/png": "[encoded data removed]"
          },
          "metadata": {}
        }
      ],
      "metadata": {
        "cellView": "form",
        "colab": {
          "base_uri": "https://localhost:8080/",
          "height": 545
        },
        "id": "AKmi7YCQnvvZ",
        "outputId": "46fa8d1e-d3ac-4ec2-9250-b1c72e818699"
      }
    },
    {
      "source": [
        "# @title Model vs Accuracy (test)\n",
        "\n",
        "from matplotlib import pyplot as plt\n",
        "import seaborn as sns\n",
        "figsize = (12, 1.2 * len(model_result['Model'].unique()))\n",
        "plt.figure(figsize=figsize)\n",
        "sns.violinplot(model_result, x='Accuracy (test)', y='Model', inner='stick', palette='Dark2')\n",
        "sns.despine(top=True, right=True, bottom=True, left=True)"
      ],
      "cell_type": "code",
      "execution_count": 33,
      "outputs": [
        {
          "output_type": "stream",
          "name": "stderr",
          "text": [
            "<ipython-input-33-3e9552c27779>:7: FutureWarning: \n",
            "\n",
            "Passing `palette` without assigning `hue` is deprecated and will be removed in v0.14.0. Assign the `y` variable to `hue` and set `legend=False` for the same effect.\n",
            "\n",
            "  sns.violinplot(model_result, x='Accuracy (test)', y='Model', inner='stick', palette='Dark2')\n"
          ]
        },
        {
          "output_type": "display_data",
          "data": {
            "text/plain": [
              "<Figure size 1200x480 with 1 Axes>"
            ],
            "image/png": "[encoded data removed]"
          },
          "metadata": {}
        }
      ],
      "metadata": {
        "cellView": "form",
        "colab": {
          "base_uri": "https://localhost:8080/",
          "height": 545
        },
        "id": "KlvUhfoelLJu",
        "outputId": "a073ff12-9c25-4590-f810-6adbaed63dd6"
      }
    },
    {
      "source": [
        "# @title Model vs Accuracy (train)\n",
        "\n",
        "from matplotlib import pyplot as plt\n",
        "import seaborn as sns\n",
        "figsize = (12, 1.2 * len(model_result['Model'].unique()))\n",
        "plt.figure(figsize=figsize)\n",
        "sns.violinplot(model_result, x='Accuracy (train)', y='Model', inner='stick', palette='Dark2')\n",
        "sns.despine(top=True, right=True, bottom=True, left=True)"
      ],
      "cell_type": "code",
      "execution_count": 34,
      "outputs": [
        {
          "output_type": "stream",
          "name": "stderr",
          "text": [
            "<ipython-input-34-c6ba42cd713e>:7: FutureWarning: \n",
            "\n",
            "Passing `palette` without assigning `hue` is deprecated and will be removed in v0.14.0. Assign the `y` variable to `hue` and set `legend=False` for the same effect.\n",
            "\n",
            "  sns.violinplot(model_result, x='Accuracy (train)', y='Model', inner='stick', palette='Dark2')\n"
          ]
        },
        {
          "output_type": "display_data",
          "data": {
            "text/plain": [
              "<Figure size 1200x480 with 1 Axes>"
            ],
            "image/png": "[encoded data removed]"
          },
          "metadata": {}
        }
      ],
      "metadata": {
        "cellView": "form",
        "colab": {
          "base_uri": "https://localhost:8080/",
          "height": 545
        },
        "id": "hU6WU-40k9oZ",
        "outputId": "1df22c7d-b666-49da-89de-59fabdb44602"
      }
    },
    {
      "cell_type": "code",
      "source": [
        "train.shape"
      ],
      "metadata": {
        "colab": {
          "base_uri": "https://localhost:8080/"
        },
        "id": "JTSK-bEIoi58",
        "outputId": "b96e523d-73d2-461d-b52d-9a5d149340aa"
      },
      "execution_count": 35,
      "outputs": [
        {
          "output_type": "execute_result",
          "data": {
            "text/plain": [
              "(166795, 18)"
            ]
          },
          "metadata": {},
          "execution_count": 35
        }
      ]
    },
    {
      "cell_type": "markdown",
      "source": [
        "Feature Importance\n",
        "\n",
        "\n",
        "In preparation for the final result, feature importance analysis is conducted to identify patterns, relationships, and determine which features have the most significant impact on the target variable. This analysis helps prioritize features that contribute the most to model performance and provides insights into the underlying data characteristics."
      ],
      "metadata": {
        "id": "pKwD9UhtpWVd"
      }
    },
    {
      "cell_type": "code",
      "source": [
        "X = train.drop('Electric Vehicle Type', axis=1)\n",
        "y = train['Electric Vehicle Type']"
      ],
      "metadata": {
        "id": "wXWUzlKDqJz9"
      },
      "execution_count": 36,
      "outputs": []
    },
    {
      "cell_type": "code",
      "source": [
        "importance = RF_classifier.feature_importances_\n",
        "\n",
        "feature_importance = pd.DataFrame({'Feature': X.columns,\n",
        "                                   'Importance': importance})\\\n",
        "                                    .sort_values(by='Importance', ascending=False)\\\n",
        "                                    .reset_index(drop=True)\n",
        "feature_importance.head()"
      ],
      "metadata": {
        "colab": {
          "base_uri": "https://localhost:8080/",
          "height": 206
        },
        "id": "X1YOvT2WyfT6",
        "outputId": "0ac791f0-c97a-4d61-d81a-ab5b3c9bff79"
      },
      "execution_count": 44,
      "outputs": [
        {
          "output_type": "execute_result",
          "data": {
            "text/plain": [
              "                                      Feature  Importance\n",
              "0                              Electric Range    0.453681\n",
              "1  Clean Alternative Fuel Vehicle Eligibility    0.196643\n",
              "2                                       Model    0.160677\n",
              "3                                        Make    0.052106\n",
              "4                                  VIN (1-10)    0.040262"
            ],
            "text/html": [
              "\n",
              "  <div id=\"df-970fe4d0-9efb-4b58-b063-2b10e3fc9b72\" class=\"colab-df-container\">\n",
              "    <div>\n",
              "<style scoped>\n",
              "    .dataframe tbody tr th:only-of-type {\n",
              "        vertical-align: middle;\n",
              "    }\n",
              "\n",
              "    .dataframe tbody tr th {\n",
              "        vertical-align: top;\n",
              "    }\n",
              "\n",
              "    .dataframe thead th {\n",
              "        text-align: right;\n",
              "    }\n",
              "</style>\n",
              "<table border=\"1\" class=\"dataframe\">\n",
              "  <thead>\n",
              "    <tr style=\"text-align: right;\">\n",
              "      <th></th>\n",
              "      <th>Feature</th>\n",
              "      <th>Importance</th>\n",
              "    </tr>\n",
              "  </thead>\n",
              "  <tbody>\n",
              "    <tr>\n",
              "      <th>0</th>\n",
              "      <td>Electric Range</td>\n",
              "      <td>0.453681</td>\n",
              "    </tr>\n",
              "    <tr>\n",
              "      <th>1</th>\n",
              "      <td>Clean Alternative Fuel Vehicle Eligibility</td>\n",
              "      <td>0.196643</td>\n",
              "    </tr>\n",
              "    <tr>\n",
              "      <th>2</th>\n",
              "      <td>Model</td>\n",
              "      <td>0.160677</td>\n",
              "    </tr>\n",
              "    <tr>\n",
              "      <th>3</th>\n",
              "      <td>Make</td>\n",
              "      <td>0.052106</td>\n",
              "    </tr>\n",
              "    <tr>\n",
              "      <th>4</th>\n",
              "      <td>VIN (1-10)</td>\n",
              "      <td>0.040262</td>\n",
              "    </tr>\n",
              "  </tbody>\n",
              "</table>\n",
              "</div>\n",
              "    <div class=\"colab-df-buttons\">\n",
              "\n",
              "  <div class=\"colab-df-container\">\n",
              "    <button class=\"colab-df-convert\" onclick=\"convertToInteractive('df-970fe4d0-9efb-4b58-b063-2b10e3fc9b72')\"\n",
              "            title=\"Convert this dataframe to an interactive table.\"\n",
              "            style=\"display:none;\">\n",
              "\n",
              "  <svg xmlns=\"http://www.w3.org/2000/svg\" height=\"24px\" viewBox=\"0 -960 960 960\">\n",
              "    <path d=\"M120-120v-720h720v720H120Zm60-500h600v-160H180v160Zm220 220h160v-160H400v160Zm0 220h160v-160H400v160ZM180-400h160v-160H180v160Zm440 0h160v-160H620v160ZM180-180h160v-160H180v160Zm440 0h160v-160H620v160Z\"/>\n",
              "  </svg>\n",
              "    </button>\n",
              "\n",
              "  <style>\n",
              "    .colab-df-container {\n",
              "      display:flex;\n",
              "      gap: 12px;\n",
              "    }\n",
              "\n",
              "    .colab-df-convert {\n",
              "      background-color: #E8F0FE;\n",
              "      border: none;\n",
              "      border-radius: 50%;\n",
              "      cursor: pointer;\n",
              "      display: none;\n",
              "      fill: #1967D2;\n",
              "      height: 32px;\n",
              "      padding: 0 0 0 0;\n",
              "      width: 32px;\n",
              "    }\n",
              "\n",
              "    .colab-df-convert:hover {\n",
              "      background-color: #E2EBFA;\n",
              "      box-shadow: 0px 1px 2px rgba(60, 64, 67, 0.3), 0px 1px 3px 1px rgba(60, 64, 67, 0.15);\n",
              "      fill: #174EA6;\n",
              "    }\n",
              "\n",
              "    .colab-df-buttons div {\n",
              "      margin-bottom: 4px;\n",
              "    }\n",
              "\n",
              "    [theme=dark] .colab-df-convert {\n",
              "      background-color: #3B4455;\n",
              "      fill: #D2E3FC;\n",
              "    }\n",
              "\n",
              "    [theme=dark] .colab-df-convert:hover {\n",
              "      background-color: #434B5C;\n",
              "      box-shadow: 0px 1px 3px 1px rgba(0, 0, 0, 0.15);\n",
              "      filter: drop-shadow(0px 1px 2px rgba(0, 0, 0, 0.3));\n",
              "      fill: #FFFFFF;\n",
              "    }\n",
              "  </style>\n",
              "\n",
              "    <script>\n",
              "      const buttonEl =\n",
              "        document.querySelector('#df-970fe4d0-9efb-4b58-b063-2b10e3fc9b72 button.colab-df-convert');\n",
              "      buttonEl.style.display =\n",
              "        google.colab.kernel.accessAllowed ? 'block' : 'none';\n",
              "\n",
              "      async function convertToInteractive(key) {\n",
              "        const element = document.querySelector('#df-970fe4d0-9efb-4b58-b063-2b10e3fc9b72');\n",
              "        const dataTable =\n",
              "          await google.colab.kernel.invokeFunction('convertToInteractive',\n",
              "                                                    [key], {});\n",
              "        if (!dataTable) return;\n",
              "\n",
              "        const docLinkHtml = 'Like what you see? Visit the ' +\n",
              "          '<a target=\"_blank\" href=https://colab.research.google.com/notebooks/data_table.ipynb>data table notebook</a>'\n",
              "          + ' to learn more about interactive tables.';\n",
              "        element.innerHTML = '';\n",
              "        dataTable['output_type'] = 'display_data';\n",
              "        await google.colab.output.renderOutput(dataTable, element);\n",
              "        const docLink = document.createElement('div');\n",
              "        docLink.innerHTML = docLinkHtml;\n",
              "        element.appendChild(docLink);\n",
              "      }\n",
              "    </script>\n",
              "  </div>\n",
              "\n",
              "\n",
              "<div id=\"df-b3cc1c73-ebfb-4494-b604-1c50abb19683\">\n",
              "  <button class=\"colab-df-quickchart\" onclick=\"quickchart('df-b3cc1c73-ebfb-4494-b604-1c50abb19683')\"\n",
              "            title=\"Suggest charts\"\n",
              "            style=\"display:none;\">\n",
              "\n",
              "<svg xmlns=\"http://www.w3.org/2000/svg\" height=\"24px\"viewBox=\"0 0 24 24\"\n",
              "     width=\"24px\">\n",
              "    <g>\n",
              "        <path d=\"M19 3H5c-1.1 0-2 .9-2 2v14c0 1.1.9 2 2 2h14c1.1 0 2-.9 2-2V5c0-1.1-.9-2-2-2zM9 17H7v-7h2v7zm4 0h-2V7h2v10zm4 0h-2v-4h2v4z\"/>\n",
              "    </g>\n",
              "</svg>\n",
              "  </button>\n",
              "\n",
              "<style>\n",
              "  .colab-df-quickchart {\n",
              "      --bg-color: #E8F0FE;\n",
              "      --fill-color: #1967D2;\n",
              "      --hover-bg-color: #E2EBFA;\n",
              "      --hover-fill-color: #174EA6;\n",
              "      --disabled-fill-color: #AAA;\n",
              "      --disabled-bg-color: #DDD;\n",
              "  }\n",
              "\n",
              "  [theme=dark] .colab-df-quickchart {\n",
              "      --bg-color: #3B4455;\n",
              "      --fill-color: #D2E3FC;\n",
              "      --hover-bg-color: #434B5C;\n",
              "      --hover-fill-color: #FFFFFF;\n",
              "      --disabled-bg-color: #3B4455;\n",
              "      --disabled-fill-color: #666;\n",
              "  }\n",
              "\n",
              "  .colab-df-quickchart {\n",
              "    background-color: var(--bg-color);\n",
              "    border: none;\n",
              "    border-radius: 50%;\n",
              "    cursor: pointer;\n",
              "    display: none;\n",
              "    fill: var(--fill-color);\n",
              "    height: 32px;\n",
              "    padding: 0;\n",
              "    width: 32px;\n",
              "  }\n",
              "\n",
              "  .colab-df-quickchart:hover {\n",
              "    background-color: var(--hover-bg-color);\n",
              "    box-shadow: 0 1px 2px rgba(60, 64, 67, 0.3), 0 1px 3px 1px rgba(60, 64, 67, 0.15);\n",
              "    fill: var(--button-hover-fill-color);\n",
              "  }\n",
              "\n",
              "  .colab-df-quickchart-complete:disabled,\n",
              "  .colab-df-quickchart-complete:disabled:hover {\n",
              "    background-color: var(--disabled-bg-color);\n",
              "    fill: var(--disabled-fill-color);\n",
              "    box-shadow: none;\n",
              "  }\n",
              "\n",
              "  .colab-df-spinner {\n",
              "    border: 2px solid var(--fill-color);\n",
              "    border-color: transparent;\n",
              "    border-bottom-color: var(--fill-color);\n",
              "    animation:\n",
              "      spin 1s steps(1) infinite;\n",
              "  }\n",
              "\n",
              "  @keyframes spin {\n",
              "    0% {\n",
              "      border-color: transparent;\n",
              "      border-bottom-color: var(--fill-color);\n",
              "      border-left-color: var(--fill-color);\n",
              "    }\n",
              "    20% {\n",
              "      border-color: transparent;\n",
              "      border-left-color: var(--fill-color);\n",
              "      border-top-color: var(--fill-color);\n",
              "    }\n",
              "    30% {\n",
              "      border-color: transparent;\n",
              "      border-left-color: var(--fill-color);\n",
              "      border-top-color: var(--fill-color);\n",
              "      border-right-color: var(--fill-color);\n",
              "    }\n",
              "    40% {\n",
              "      border-color: transparent;\n",
              "      border-right-color: var(--fill-color);\n",
              "      border-top-color: var(--fill-color);\n",
              "    }\n",
              "    60% {\n",
              "      border-color: transparent;\n",
              "      border-right-color: var(--fill-color);\n",
              "    }\n",
              "    80% {\n",
              "      border-color: transparent;\n",
              "      border-right-color: var(--fill-color);\n",
              "      border-bottom-color: var(--fill-color);\n",
              "    }\n",
              "    90% {\n",
              "      border-color: transparent;\n",
              "      border-bottom-color: var(--fill-color);\n",
              "    }\n",
              "  }\n",
              "</style>\n",
              "\n",
              "  <script>\n",
              "    async function quickchart(key) {\n",
              "      const quickchartButtonEl =\n",
              "        document.querySelector('#' + key + ' button');\n",
              "      quickchartButtonEl.disabled = true;  // To prevent multiple clicks.\n",
              "      quickchartButtonEl.classList.add('colab-df-spinner');\n",
              "      try {\n",
              "        const charts = await google.colab.kernel.invokeFunction(\n",
              "            'suggestCharts', [key], {});\n",
              "      } catch (error) {\n",
              "        console.error('Error during call to suggestCharts:', error);\n",
              "      }\n",
              "      quickchartButtonEl.classList.remove('colab-df-spinner');\n",
              "      quickchartButtonEl.classList.add('colab-df-quickchart-complete');\n",
              "    }\n",
              "    (() => {\n",
              "      let quickchartButtonEl =\n",
              "        document.querySelector('#df-b3cc1c73-ebfb-4494-b604-1c50abb19683 button');\n",
              "      quickchartButtonEl.style.display =\n",
              "        google.colab.kernel.accessAllowed ? 'block' : 'none';\n",
              "    })();\n",
              "  </script>\n",
              "</div>\n",
              "    </div>\n",
              "  </div>\n"
            ],
            "application/vnd.google.colaboratory.intrinsic+json": {
              "type": "dataframe",
              "variable_name": "feature_importance",
              "summary": "{\n  \"name\": \"feature_importance\",\n  \"rows\": 17,\n  \"fields\": [\n    {\n      \"column\": \"Feature\",\n      \"properties\": {\n        \"dtype\": \"string\",\n        \"num_unique_values\": 17,\n        \"samples\": [\n          \"Electric Range\",\n          \"Clean Alternative Fuel Vehicle Eligibility\",\n          \"Model Year\"\n        ],\n        \"semantic_type\": \"\",\n        \"description\": \"\"\n      }\n    },\n    {\n      \"column\": \"Importance\",\n      \"properties\": {\n        \"dtype\": \"number\",\n        \"std\": 0.11673916619973632,\n        \"min\": 3.7120707276536816e-08,\n        \"max\": 0.4536810449690593,\n        \"num_unique_values\": 17,\n        \"samples\": [\n          0.4536810449690593,\n          0.1966430803076629,\n          0.0330563045783241\n        ],\n        \"semantic_type\": \"\",\n        \"description\": \"\"\n      }\n    }\n  ]\n}"
            }
          },
          "metadata": {},
          "execution_count": 44
        }
      ]
    },
    {
      "cell_type": "code",
      "source": [
        "importance = RF_classifier.feature_importances_\n",
        "\n",
        "feature_importance = pd.DataFrame({'Feature': X.columns,\n",
        "                                   'Importance': importance})\\\n",
        "                                    .sort_values(by='Importance', ascending=True)\\\n",
        "                                    .reset_index(drop=True)\n",
        "feature_importance.head()"
      ],
      "metadata": {
        "colab": {
          "base_uri": "https://localhost:8080/",
          "height": 206
        },
        "id": "CT1yChV0ztIJ",
        "outputId": "18d0e983-0715-40db-d1ce-aad5de1e9a3c"
      },
      "execution_count": 45,
      "outputs": [
        {
          "output_type": "execute_result",
          "data": {
            "text/plain": [
              "                Feature    Importance\n",
              "0                 State  3.712071e-08\n",
              "1      Electric Utility  9.238881e-05\n",
              "2             Base MSRP  3.686047e-04\n",
              "3  Legislative District  7.104148e-04\n",
              "4              Latitude  8.808175e-04"
            ],
            "text/html": [
              "\n",
              "  <div id=\"df-2f325223-9450-42ad-b6c8-5856914d9ecd\" class=\"colab-df-container\">\n",
              "    <div>\n",
              "<style scoped>\n",
              "    .dataframe tbody tr th:only-of-type {\n",
              "        vertical-align: middle;\n",
              "    }\n",
              "\n",
              "    .dataframe tbody tr th {\n",
              "        vertical-align: top;\n",
              "    }\n",
              "\n",
              "    .dataframe thead th {\n",
              "        text-align: right;\n",
              "    }\n",
              "</style>\n",
              "<table border=\"1\" class=\"dataframe\">\n",
              "  <thead>\n",
              "    <tr style=\"text-align: right;\">\n",
              "      <th></th>\n",
              "      <th>Feature</th>\n",
              "      <th>Importance</th>\n",
              "    </tr>\n",
              "  </thead>\n",
              "  <tbody>\n",
              "    <tr>\n",
              "      <th>0</th>\n",
              "      <td>State</td>\n",
              "      <td>3.712071e-08</td>\n",
              "    </tr>\n",
              "    <tr>\n",
              "      <th>1</th>\n",
              "      <td>Electric Utility</td>\n",
              "      <td>9.238881e-05</td>\n",
              "    </tr>\n",
              "    <tr>\n",
              "      <th>2</th>\n",
              "      <td>Base MSRP</td>\n",
              "      <td>3.686047e-04</td>\n",
              "    </tr>\n",
              "    <tr>\n",
              "      <th>3</th>\n",
              "      <td>Legislative District</td>\n",
              "      <td>7.104148e-04</td>\n",
              "    </tr>\n",
              "    <tr>\n",
              "      <th>4</th>\n",
              "      <td>Latitude</td>\n",
              "      <td>8.808175e-04</td>\n",
              "    </tr>\n",
              "  </tbody>\n",
              "</table>\n",
              "</div>\n",
              "    <div class=\"colab-df-buttons\">\n",
              "\n",
              "  <div class=\"colab-df-container\">\n",
              "    <button class=\"colab-df-convert\" onclick=\"convertToInteractive('df-2f325223-9450-42ad-b6c8-5856914d9ecd')\"\n",
              "            title=\"Convert this dataframe to an interactive table.\"\n",
              "            style=\"display:none;\">\n",
              "\n",
              "  <svg xmlns=\"http://www.w3.org/2000/svg\" height=\"24px\" viewBox=\"0 -960 960 960\">\n",
              "    <path d=\"M120-120v-720h720v720H120Zm60-500h600v-160H180v160Zm220 220h160v-160H400v160Zm0 220h160v-160H400v160ZM180-400h160v-160H180v160Zm440 0h160v-160H620v160ZM180-180h160v-160H180v160Zm440 0h160v-160H620v160Z\"/>\n",
              "  </svg>\n",
              "    </button>\n",
              "\n",
              "  <style>\n",
              "    .colab-df-container {\n",
              "      display:flex;\n",
              "      gap: 12px;\n",
              "    }\n",
              "\n",
              "    .colab-df-convert {\n",
              "      background-color: #E8F0FE;\n",
              "      border: none;\n",
              "      border-radius: 50%;\n",
              "      cursor: pointer;\n",
              "      display: none;\n",
              "      fill: #1967D2;\n",
              "      height: 32px;\n",
              "      padding: 0 0 0 0;\n",
              "      width: 32px;\n",
              "    }\n",
              "\n",
              "    .colab-df-convert:hover {\n",
              "      background-color: #E2EBFA;\n",
              "      box-shadow: 0px 1px 2px rgba(60, 64, 67, 0.3), 0px 1px 3px 1px rgba(60, 64, 67, 0.15);\n",
              "      fill: #174EA6;\n",
              "    }\n",
              "\n",
              "    .colab-df-buttons div {\n",
              "      margin-bottom: 4px;\n",
              "    }\n",
              "\n",
              "    [theme=dark] .colab-df-convert {\n",
              "      background-color: #3B4455;\n",
              "      fill: #D2E3FC;\n",
              "    }\n",
              "\n",
              "    [theme=dark] .colab-df-convert:hover {\n",
              "      background-color: #434B5C;\n",
              "      box-shadow: 0px 1px 3px 1px rgba(0, 0, 0, 0.15);\n",
              "      filter: drop-shadow(0px 1px 2px rgba(0, 0, 0, 0.3));\n",
              "      fill: #FFFFFF;\n",
              "    }\n",
              "  </style>\n",
              "\n",
              "    <script>\n",
              "      const buttonEl =\n",
              "        document.querySelector('#df-2f325223-9450-42ad-b6c8-5856914d9ecd button.colab-df-convert');\n",
              "      buttonEl.style.display =\n",
              "        google.colab.kernel.accessAllowed ? 'block' : 'none';\n",
              "\n",
              "      async function convertToInteractive(key) {\n",
              "        const element = document.querySelector('#df-2f325223-9450-42ad-b6c8-5856914d9ecd');\n",
              "        const dataTable =\n",
              "          await google.colab.kernel.invokeFunction('convertToInteractive',\n",
              "                                                    [key], {});\n",
              "        if (!dataTable) return;\n",
              "\n",
              "        const docLinkHtml = 'Like what you see? Visit the ' +\n",
              "          '<a target=\"_blank\" href=https://colab.research.google.com/notebooks/data_table.ipynb>data table notebook</a>'\n",
              "          + ' to learn more about interactive tables.';\n",
              "        element.innerHTML = '';\n",
              "        dataTable['output_type'] = 'display_data';\n",
              "        await google.colab.output.renderOutput(dataTable, element);\n",
              "        const docLink = document.createElement('div');\n",
              "        docLink.innerHTML = docLinkHtml;\n",
              "        element.appendChild(docLink);\n",
              "      }\n",
              "    </script>\n",
              "  </div>\n",
              "\n",
              "\n",
              "<div id=\"df-419fd6a1-79ca-442f-91a2-eb12d84e5999\">\n",
              "  <button class=\"colab-df-quickchart\" onclick=\"quickchart('df-419fd6a1-79ca-442f-91a2-eb12d84e5999')\"\n",
              "            title=\"Suggest charts\"\n",
              "            style=\"display:none;\">\n",
              "\n",
              "<svg xmlns=\"http://www.w3.org/2000/svg\" height=\"24px\"viewBox=\"0 0 24 24\"\n",
              "     width=\"24px\">\n",
              "    <g>\n",
              "        <path d=\"M19 3H5c-1.1 0-2 .9-2 2v14c0 1.1.9 2 2 2h14c1.1 0 2-.9 2-2V5c0-1.1-.9-2-2-2zM9 17H7v-7h2v7zm4 0h-2V7h2v10zm4 0h-2v-4h2v4z\"/>\n",
              "    </g>\n",
              "</svg>\n",
              "  </button>\n",
              "\n",
              "<style>\n",
              "  .colab-df-quickchart {\n",
              "      --bg-color: #E8F0FE;\n",
              "      --fill-color: #1967D2;\n",
              "      --hover-bg-color: #E2EBFA;\n",
              "      --hover-fill-color: #174EA6;\n",
              "      --disabled-fill-color: #AAA;\n",
              "      --disabled-bg-color: #DDD;\n",
              "  }\n",
              "\n",
              "  [theme=dark] .colab-df-quickchart {\n",
              "      --bg-color: #3B4455;\n",
              "      --fill-color: #D2E3FC;\n",
              "      --hover-bg-color: #434B5C;\n",
              "      --hover-fill-color: #FFFFFF;\n",
              "      --disabled-bg-color: #3B4455;\n",
              "      --disabled-fill-color: #666;\n",
              "  }\n",
              "\n",
              "  .colab-df-quickchart {\n",
              "    background-color: var(--bg-color);\n",
              "    border: none;\n",
              "    border-radius: 50%;\n",
              "    cursor: pointer;\n",
              "    display: none;\n",
              "    fill: var(--fill-color);\n",
              "    height: 32px;\n",
              "    padding: 0;\n",
              "    width: 32px;\n",
              "  }\n",
              "\n",
              "  .colab-df-quickchart:hover {\n",
              "    background-color: var(--hover-bg-color);\n",
              "    box-shadow: 0 1px 2px rgba(60, 64, 67, 0.3), 0 1px 3px 1px rgba(60, 64, 67, 0.15);\n",
              "    fill: var(--button-hover-fill-color);\n",
              "  }\n",
              "\n",
              "  .colab-df-quickchart-complete:disabled,\n",
              "  .colab-df-quickchart-complete:disabled:hover {\n",
              "    background-color: var(--disabled-bg-color);\n",
              "    fill: var(--disabled-fill-color);\n",
              "    box-shadow: none;\n",
              "  }\n",
              "\n",
              "  .colab-df-spinner {\n",
              "    border: 2px solid var(--fill-color);\n",
              "    border-color: transparent;\n",
              "    border-bottom-color: var(--fill-color);\n",
              "    animation:\n",
              "      spin 1s steps(1) infinite;\n",
              "  }\n",
              "\n",
              "  @keyframes spin {\n",
              "    0% {\n",
              "      border-color: transparent;\n",
              "      border-bottom-color: var(--fill-color);\n",
              "      border-left-color: var(--fill-color);\n",
              "    }\n",
              "    20% {\n",
              "      border-color: transparent;\n",
              "      border-left-color: var(--fill-color);\n",
              "      border-top-color: var(--fill-color);\n",
              "    }\n",
              "    30% {\n",
              "      border-color: transparent;\n",
              "      border-left-color: var(--fill-color);\n",
              "      border-top-color: var(--fill-color);\n",
              "      border-right-color: var(--fill-color);\n",
              "    }\n",
              "    40% {\n",
              "      border-color: transparent;\n",
              "      border-right-color: var(--fill-color);\n",
              "      border-top-color: var(--fill-color);\n",
              "    }\n",
              "    60% {\n",
              "      border-color: transparent;\n",
              "      border-right-color: var(--fill-color);\n",
              "    }\n",
              "    80% {\n",
              "      border-color: transparent;\n",
              "      border-right-color: var(--fill-color);\n",
              "      border-bottom-color: var(--fill-color);\n",
              "    }\n",
              "    90% {\n",
              "      border-color: transparent;\n",
              "      border-bottom-color: var(--fill-color);\n",
              "    }\n",
              "  }\n",
              "</style>\n",
              "\n",
              "  <script>\n",
              "    async function quickchart(key) {\n",
              "      const quickchartButtonEl =\n",
              "        document.querySelector('#' + key + ' button');\n",
              "      quickchartButtonEl.disabled = true;  // To prevent multiple clicks.\n",
              "      quickchartButtonEl.classList.add('colab-df-spinner');\n",
              "      try {\n",
              "        const charts = await google.colab.kernel.invokeFunction(\n",
              "            'suggestCharts', [key], {});\n",
              "      } catch (error) {\n",
              "        console.error('Error during call to suggestCharts:', error);\n",
              "      }\n",
              "      quickchartButtonEl.classList.remove('colab-df-spinner');\n",
              "      quickchartButtonEl.classList.add('colab-df-quickchart-complete');\n",
              "    }\n",
              "    (() => {\n",
              "      let quickchartButtonEl =\n",
              "        document.querySelector('#df-419fd6a1-79ca-442f-91a2-eb12d84e5999 button');\n",
              "      quickchartButtonEl.style.display =\n",
              "        google.colab.kernel.accessAllowed ? 'block' : 'none';\n",
              "    })();\n",
              "  </script>\n",
              "</div>\n",
              "    </div>\n",
              "  </div>\n"
            ],
            "application/vnd.google.colaboratory.intrinsic+json": {
              "type": "dataframe",
              "variable_name": "feature_importance",
              "summary": "{\n  \"name\": \"feature_importance\",\n  \"rows\": 17,\n  \"fields\": [\n    {\n      \"column\": \"Feature\",\n      \"properties\": {\n        \"dtype\": \"string\",\n        \"num_unique_values\": 17,\n        \"samples\": [\n          \"State\",\n          \"Electric Utility\",\n          \"City\"\n        ],\n        \"semantic_type\": \"\",\n        \"description\": \"\"\n      }\n    },\n    {\n      \"column\": \"Importance\",\n      \"properties\": {\n        \"dtype\": \"number\",\n        \"std\": 0.1167391661997363,\n        \"min\": 3.7120707276536816e-08,\n        \"max\": 0.4536810449690593,\n        \"num_unique_values\": 17,\n        \"samples\": [\n          3.7120707276536816e-08,\n          9.238881312425397e-05,\n          0.0017185918422212016\n        ],\n        \"semantic_type\": \"\",\n        \"description\": \"\"\n      }\n    }\n  ]\n}"
            }
          },
          "metadata": {},
          "execution_count": 45
        }
      ]
    }
  ]
}